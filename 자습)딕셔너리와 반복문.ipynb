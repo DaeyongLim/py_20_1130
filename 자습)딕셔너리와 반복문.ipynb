{
 "cells": [
  {
   "cell_type": "code",
   "execution_count": 11,
   "metadata": {},
   "outputs": [
    {
     "name": "stdout",
     "output_type": "stream",
     "text": [
      "sword : 불꽃의 검\n",
      "armor : 풀플레이트\n",
      "skill : 베기\n",
      "skill : 세게 베기\n",
      "skill : 아주 세게 베기\n"
     ]
    }
   ],
   "source": [
    "tu = {\"name\" : \"기사\",\n",
    "    \"level\" : 12,\n",
    "    \"items\" : {\n",
    "        \"sword\" : \"불꽃의 검\",\n",
    "        \"armor\" : \"풀플레이트\"\n",
    "    },\n",
    "    \"skill\": [\"베기\",\"세게 베기\",\"아주 세게 베기\"]\n",
    "}\n",
    "\n",
    "for key in tu:\n",
    "        if type(tu[key]) is dict:\n",
    "            for s_key in tu[key]:\n",
    "                print(s_key, \":\", tu[key][s_key])\n",
    "                \n",
    "        elif type(tu[key]) is list:\n",
    "            for item in tu[key]:\n",
    "                print(key, \":\", item)"
   ]
  },
  {
   "cell_type": "code",
   "execution_count": 16,
   "metadata": {},
   "outputs": [
    {
     "name": "stdout",
     "output_type": "stream",
     "text": [
      "사과 : 100\n",
      "포도 : 200\n",
      "딸기 : 300\n",
      "자몽 : 400\n",
      "멜론 : 500\n"
     ]
    }
   ],
   "source": [
    "fruits = {\"사과\":100, \"포도\":200, \"딸기\":300, \"자몽\":400, \"멜론\":500}\n",
    "\n",
    "for item in fruits:\n",
    "    print(item, \":\", fruits[item])"
   ]
  },
  {
   "cell_type": "code",
   "execution_count": 23,
   "metadata": {},
   "outputs": [
    {
     "name": "stdout",
     "output_type": "stream",
     "text": [
      "('사과', '포도', '딸기', '자몽', '멜론')\n",
      "('사과', '포도', '딸기', '자몽', '멜론')\n",
      "('사과', '포도', '딸기', '자몽', '멜론')\n",
      "('사과', '포도', '딸기', '자몽', '멜론')\n",
      "('사과', '포도', '딸기', '자몽', '멜론')\n"
     ]
    }
   ],
   "source": [
    "fruits = \"사과\", \"포도\", \"딸기\", \"자몽\", \"멜론\"\n",
    "\n",
    "for item in fruits:\n",
    "    print(fruits)\n"
   ]
  },
  {
   "cell_type": "code",
   "execution_count": 34,
   "metadata": {},
   "outputs": [
    {
     "name": "stdout",
     "output_type": "stream",
     "text": [
      "{'name': '기사', 'level': 12, 'items': {'sword': '불꽃의 검', 'armor': '풀플레이트'}, 'skill': ['베기', '세게 베기', '아주 세게 베기']}\n",
      "name 기사\n",
      "level 12\n",
      "items {'sword': '불꽃의 검', 'armor': '풀플레이트'}\n",
      "skill ['베기', '세게 베기', '아주 세게 베기']\n"
     ]
    }
   ],
   "source": [
    "character = {\n",
    "    \"name\" : \"기사\",\n",
    "    \"level\" : 12,\n",
    "    \"items\" : {\n",
    "        \"sword\" : \"불꽃의 검\",\n",
    "        \"armor\" : \"풀플레이트\"\n",
    "    },\n",
    "    \"skill\": [\"베기\",\"세게 베기\",\"아주 세게 베기\"]\n",
    "}\n",
    "\n",
    "# for key in character:\n",
    "#         if type(character[key]) is dict:\n",
    "#             for small_key in character[key]:\n",
    "#                  print(small_key, \":\", character[key][small_key])\n",
    "    \n",
    "#         elif type(character[key]) is list:\n",
    "#             for item in character[key]:\n",
    "#                 print(key, \":\", item)\n",
    "    \n",
    "#         else:\n",
    "#             print(key, \":\", character[key])\n",
    "\n",
    "print(character)\n",
    "for item in character:\n",
    "    print(item, character[item])"
   ]
  },
  {
   "cell_type": "code",
   "execution_count": 46,
   "metadata": {},
   "outputs": [
    {
     "name": "stdout",
     "output_type": "stream",
     "text": [
      "[1, 1, 2]\n",
      "[1, 1]\n"
     ]
    }
   ],
   "source": [
    "list_test = [1,2,1,2]\n",
    "value = 2\n",
    "\n",
    "list_test.remove(2)\n",
    "print(list_test)\n",
    "\n",
    "list_test.remove(2)\n",
    "print(list_test)"
   ]
  },
  {
   "cell_type": "code",
   "execution_count": 51,
   "metadata": {},
   "outputs": [
    {
     "name": "stdout",
     "output_type": "stream",
     "text": [
      "5초 동안 32068265번 반복했습니다.\n"
     ]
    }
   ],
   "source": [
    "import time\n",
    "\n",
    "number = 0\n",
    "\n",
    "target_tick = time.time() + 5\n",
    "while time.time() < target_tick:\n",
    "    number += 1\n",
    "    \n",
    "print(\"5초 동안 {}번 반복했습니다.\" .format(number))"
   ]
  },
  {
   "cell_type": "code",
   "execution_count": 55,
   "metadata": {},
   "outputs": [
    {
     "name": "stdout",
     "output_type": "stream",
     "text": [
      "5\n",
      "6\n",
      "7\n"
     ]
    }
   ],
   "source": [
    "numbers = [5,15,6,20,7,25]\n",
    "\n",
    "for number in numbers:\n",
    "    if number < 10:\n",
    "        print(number)"
   ]
  },
  {
   "cell_type": "code",
   "execution_count": 70,
   "metadata": {},
   "outputs": [
    {
     "name": "stdout",
     "output_type": "stream",
     "text": [
      "142를 더할 때 10000를 넘으며 그때의 값은 10011입니다.\n"
     ]
    }
   ],
   "source": [
    "limit = 10000\n",
    "i = 1\n",
    "sum_value= 0\n",
    "while sum_value<limit:\n",
    "    sum_value += i\n",
    "    i += 1\n",
    "    \n",
    "print(\"{}를 더할 때 {}를 넘으며 그때의 값은 {}입니다.\" .format(i, limit, sum_value))\n"
   ]
  },
  {
   "cell_type": "code",
   "execution_count": 73,
   "metadata": {},
   "outputs": [
    {
     "name": "stdout",
     "output_type": "stream",
     "text": [
      "{'name': '기사', 'hp': 200, 'mp': 30, 'level': 5}\n"
     ]
    }
   ],
   "source": [
    "key_list = [\"name\", \"hp\", \"mp\", \"level\"]\n",
    "value_list = [\"기사\", 200, 30, 5]\n",
    "character = {}\n",
    "\n",
    "for i in range(0, len(key_list)):\n",
    "    character[key_list[i]] = value_list[i]\n",
    "\n",
    "print(character)"
   ]
  }
 ],
 "metadata": {
  "kernelspec": {
   "display_name": "Python 3",
   "language": "python",
   "name": "python3"
  },
  "language_info": {
   "codemirror_mode": {
    "name": "ipython",
    "version": 3
   },
   "file_extension": ".py",
   "mimetype": "text/x-python",
   "name": "python",
   "nbconvert_exporter": "python",
   "pygments_lexer": "ipython3",
   "version": "3.6.12"
  }
 },
 "nbformat": 4,
 "nbformat_minor": 4
}
