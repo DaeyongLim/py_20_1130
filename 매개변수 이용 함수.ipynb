{
 "cells": [
  {
   "cell_type": "code",
   "execution_count": 2,
   "metadata": {},
   "outputs": [],
   "source": [
    "def func(x):\n",
    "    x = 100\n",
    "    print('func():x=', x, ',id=', id(x))"
   ]
  },
  {
   "cell_type": "code",
   "execution_count": 3,
   "metadata": {},
   "outputs": [
    {
     "name": "stdout",
     "output_type": "stream",
     "text": [
      "func():x= 100 ,id= 1510456608\n"
     ]
    }
   ],
   "source": [
    "func(x)"
   ]
  },
  {
   "cell_type": "code",
   "execution_count": 5,
   "metadata": {},
   "outputs": [
    {
     "name": "stdout",
     "output_type": "stream",
     "text": [
      "메인:x= 10 ,id= 1510453728\n"
     ]
    }
   ],
   "source": [
    "x = 10\n",
    "print('메인:x=', x, ',id=', id(x))"
   ]
  },
  {
   "cell_type": "code",
   "execution_count": 6,
   "metadata": {},
   "outputs": [
    {
     "name": "stdout",
     "output_type": "stream",
     "text": [
      "메인:x= [1, 2, 3] ,id= 3012629822280\n",
      "func():x= [100, 2, 3] ,id= 3012629822280\n",
      "메인:x= [100, 2, 3] ,id= 3012629822280\n"
     ]
    }
   ],
   "source": [
    "def func(x):\n",
    "    x[0]=100\n",
    "    print('func():x=', x, ',id=', id(x))\n",
    "x = [1,2,3]\n",
    "print('메인:x=', x, ',id=', id(x))\n",
    "func(x)\n",
    "print('메인:x=', x, ',id=', id(x))"
   ]
  },
  {
   "cell_type": "code",
   "execution_count": 30,
   "metadata": {},
   "outputs": [],
   "source": [
    "def func(x):\n",
    "    x=0\n",
    "    print(id(x))\n",
    "    if 10>1:\n",
    "        x=0\n",
    "        print(id(x))"
   ]
  },
  {
   "cell_type": "code",
   "execution_count": 31,
   "metadata": {},
   "outputs": [
    {
     "name": "stdout",
     "output_type": "stream",
     "text": [
      "1510453408\n",
      "1510453408\n"
     ]
    }
   ],
   "source": [
    "func(1)"
   ]
  },
  {
   "cell_type": "code",
   "execution_count": 32,
   "metadata": {},
   "outputs": [],
   "source": [
    "def func(x):\n",
    "    x=0\n",
    "    print(id(x))\n",
    "    if 10>1:\n",
    "        x=100\n",
    "        print(id(x))"
   ]
  },
  {
   "cell_type": "code",
   "execution_count": 33,
   "metadata": {},
   "outputs": [
    {
     "name": "stdout",
     "output_type": "stream",
     "text": [
      "1510453408\n",
      "1510456608\n"
     ]
    }
   ],
   "source": [
    "func(1)"
   ]
  },
  {
   "cell_type": "code",
   "execution_count": 34,
   "metadata": {},
   "outputs": [
    {
     "name": "stdout",
     "output_type": "stream",
     "text": [
      "1510456608\n",
      "1510453408\n",
      "1510456608\n"
     ]
    }
   ],
   "source": [
    "x=100\n",
    "print(id(x))\n",
    "func(x)"
   ]
  },
  {
   "cell_type": "code",
   "execution_count": 38,
   "metadata": {},
   "outputs": [
    {
     "name": "stdout",
     "output_type": "stream",
     "text": [
      "20,10\n"
     ]
    }
   ],
   "source": [
    "def f1(a):\n",
    "    a += 10\n",
    "    print(a, end=',')\n",
    "\n",
    "a=10\n",
    "f1(a)\n",
    "print(a)"
   ]
  },
  {
   "cell_type": "code",
   "execution_count": 39,
   "metadata": {},
   "outputs": [
    {
     "name": "stdout",
     "output_type": "stream",
     "text": [
      "300,100,300\n"
     ]
    }
   ],
   "source": [
    "def f2(a):\n",
    "    global y\n",
    "    y += a\n",
    "    x = 500\n",
    "    print(y, end=',')\n",
    "    \n",
    "x = 100\n",
    "y = 200\n",
    "f2(x)\n",
    "print(x, end=',')\n",
    "print(y)"
   ]
  },
  {
   "cell_type": "code",
   "execution_count": 45,
   "metadata": {},
   "outputs": [
    {
     "name": "stdout",
     "output_type": "stream",
     "text": [
      "[1, 4, 9, 16, 25]\n"
     ]
    }
   ],
   "source": [
    "def numSquare(num):\n",
    "    list_new = []\n",
    "    for i in range(1, num+1):\n",
    "        list_new.append(i**2)\n",
    "        \n",
    "    return list_new\n",
    "\n",
    "n=5\n",
    "result=numSquare(n)\n",
    "print(result)"
   ]
  },
  {
   "cell_type": "code",
   "execution_count": 47,
   "metadata": {},
   "outputs": [
    {
     "name": "stdout",
     "output_type": "stream",
     "text": [
      "[77, 36, 29, 11, 20, 6, 91, 33]\n",
      "[6, 11, 20, 29, 33, 36, 77, 91]\n"
     ]
    }
   ],
   "source": [
    "numbers=[77,36,29,11,20,6,91,33]\n",
    "\n",
    "print(numbers)\n",
    "\n",
    "print(sorted(numbers))\n"
   ]
  },
  {
   "cell_type": "code",
   "execution_count": null,
   "metadata": {},
   "outputs": [],
   "source": [
    "n=int(input('n값을 입력하세요: '))\n",
    "\n",
    "for i range(2,n):\n",
    "    if \n"
   ]
  }
 ],
 "metadata": {
  "kernelspec": {
   "display_name": "Python 3",
   "language": "python",
   "name": "python3"
  },
  "language_info": {
   "codemirror_mode": {
    "name": "ipython",
    "version": 3
   },
   "file_extension": ".py",
   "mimetype": "text/x-python",
   "name": "python",
   "nbconvert_exporter": "python",
   "pygments_lexer": "ipython3",
   "version": "3.6.12"
  }
 },
 "nbformat": 4,
 "nbformat_minor": 4
}
