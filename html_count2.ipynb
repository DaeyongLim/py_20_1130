{
 "cells": [
  {
   "cell_type": "code",
   "execution_count": 1,
   "metadata": {},
   "outputs": [],
   "source": [
    "with open('news_naver.html', encoding='cp949') as f:\n",
    "    news_html = f.read()"
   ]
  },
  {
   "cell_type": "code",
   "execution_count": 2,
   "metadata": {},
   "outputs": [
    {
     "name": "stdout",
     "output_type": "stream",
     "text": [
      "news_html = 210964, text = 76112, word = 1215 nospace = 4560\n"
     ]
    }
   ],
   "source": [
    "import re\n",
    "\n",
    "body = re.search('<body.*/body>', news_html, re.I|re.S) # re.S == re.DOTALL\n",
    "body = body.group()\n",
    "body = re.sub('<script.*?>.*?</script>', '', body, 0, re.I|re.S)\n",
    "text = re.sub('<.+?>', '', body, 0, re.I|re.S)\n",
    "nospace = re.sub('&nbsp;| |\\t|\\r|\\n', '', text)\n",
    "print (f'news_html = {len(news_html)}, text = {len(text)}, word = {len(text.split())} nospace = {len(nospace)}')\n"
   ]
  },
  {
   "cell_type": "code",
   "execution_count": 3,
   "metadata": {},
   "outputs": [],
   "source": [
    "with open('sports.html', encoding='UTF8') as f:\n",
    "    sports_html = f.read()"
   ]
  },
  {
   "cell_type": "code",
   "execution_count": 5,
   "metadata": {},
   "outputs": [
    {
     "name": "stdout",
     "output_type": "stream",
     "text": [
      "sports_html = 105897, text = 6201, word = 516 nospace = 2191\n"
     ]
    }
   ],
   "source": [
    "import re\n",
    "\n",
    "body = re.search('<body.*/body>', sports_html, re.I|re.S) # re.S == re.DOTALL\n",
    "body = body.group()\n",
    "body = re.sub('<script.*?>.*?</script>', '', body, 0, re.I|re.S)\n",
    "text = re.sub('<.+?>', '', body, 0, re.I|re.S)\n",
    "nospace = re.sub('&nbsp;| |\\t|\\r|\\n', '', text)\n",
    "print (f'sports_html = {len(sports_html)}, text = {len(text)}, word = {len(text.split())} nospace = {len(nospace)}')"
   ]
  }
 ],
 "metadata": {
  "kernelspec": {
   "display_name": "Python 3",
   "language": "python",
   "name": "python3"
  },
  "language_info": {
   "codemirror_mode": {
    "name": "ipython",
    "version": 3
   },
   "file_extension": ".py",
   "mimetype": "text/x-python",
   "name": "python",
   "nbconvert_exporter": "python",
   "pygments_lexer": "ipython3",
   "version": "3.6.12"
  }
 },
 "nbformat": 4,
 "nbformat_minor": 4
}
