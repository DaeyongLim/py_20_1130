{
 "cells": [
  {
   "cell_type": "markdown",
   "metadata": {},
   "source": [
    "# Underscore"
   ]
  },
  {
   "cell_type": "code",
   "execution_count": 1,
   "metadata": {},
   "outputs": [
    {
     "data": {
      "text/plain": [
       "9"
      ]
     },
     "execution_count": 1,
     "metadata": {},
     "output_type": "execute_result"
    }
   ],
   "source": [
    "5+4"
   ]
  },
  {
   "cell_type": "code",
   "execution_count": 2,
   "metadata": {},
   "outputs": [
    {
     "data": {
      "text/plain": [
       "9"
      ]
     },
     "execution_count": 2,
     "metadata": {},
     "output_type": "execute_result"
    }
   ],
   "source": [
    "_         #앞에 결과값을 나타냄"
   ]
  },
  {
   "cell_type": "code",
   "execution_count": 3,
   "metadata": {},
   "outputs": [
    {
     "data": {
      "text/plain": [
       "109"
      ]
     },
     "execution_count": 3,
     "metadata": {},
     "output_type": "execute_result"
    }
   ],
   "source": [
    "_ + 100"
   ]
  },
  {
   "cell_type": "markdown",
   "metadata": {},
   "source": [
    "### 무시!!!"
   ]
  },
  {
   "cell_type": "code",
   "execution_count": 8,
   "metadata": {},
   "outputs": [
    {
     "data": {
      "text/plain": [
       "(10, 30)"
      ]
     },
     "execution_count": 8,
     "metadata": {},
     "output_type": "execute_result"
    }
   ],
   "source": [
    "a, _, c = (10,20,30)\n",
    "a, c"
   ]
  },
  {
   "cell_type": "code",
   "execution_count": 11,
   "metadata": {},
   "outputs": [
    {
     "name": "stdout",
     "output_type": "stream",
     "text": [
      "1\n",
      "2\n",
      "3\n",
      "4\n",
      "5\n",
      "6\n",
      "7\n",
      "8\n",
      "9\n"
     ]
    }
   ],
   "source": [
    "for _ in range(1,10):\n",
    "    print(_)"
   ]
  },
  {
   "cell_type": "code",
   "execution_count": 12,
   "metadata": {},
   "outputs": [
    {
     "name": "stdout",
     "output_type": "stream",
     "text": [
      "10\n",
      "11\n",
      "12\n",
      "13\n",
      "14\n",
      "15\n",
      "16\n",
      "17\n",
      "18\n",
      "19\n"
     ]
    }
   ],
   "source": [
    "_ = 10\n",
    "while _ < 20:\n",
    "    print(_)\n",
    "    _ += 1"
   ]
  },
  {
   "cell_type": "code",
   "execution_count": 13,
   "metadata": {},
   "outputs": [
    {
     "data": {
      "text/plain": [
       "100000000"
      ]
     },
     "execution_count": 13,
     "metadata": {},
     "output_type": "execute_result"
    }
   ],
   "source": [
    "100_00_00_00"
   ]
  },
  {
   "cell_type": "code",
   "execution_count": 14,
   "metadata": {},
   "outputs": [
    {
     "name": "stdout",
     "output_type": "stream",
     "text": [
      "30\n",
      "2\n"
     ]
    }
   ],
   "source": [
    "!python mod1.py"
   ]
  },
  {
   "cell_type": "markdown",
   "metadata": {},
   "source": [
    "# 데이터 모델"
   ]
  },
  {
   "cell_type": "code",
   "execution_count": 16,
   "metadata": {},
   "outputs": [],
   "source": [
    "a = b = c = 5"
   ]
  },
  {
   "cell_type": "code",
   "execution_count": 17,
   "metadata": {},
   "outputs": [
    {
     "data": {
      "text/plain": [
       "(5, 5, 5)"
      ]
     },
     "execution_count": 17,
     "metadata": {},
     "output_type": "execute_result"
    }
   ],
   "source": [
    "a, b, c"
   ]
  },
  {
   "cell_type": "code",
   "execution_count": 18,
   "metadata": {},
   "outputs": [
    {
     "data": {
      "text/plain": [
       "(1510191424, 1510191424, 1510191424)"
      ]
     },
     "execution_count": 18,
     "metadata": {},
     "output_type": "execute_result"
    }
   ],
   "source": [
    "id(a), id(b), id(c)"
   ]
  },
  {
   "cell_type": "code",
   "execution_count": 19,
   "metadata": {},
   "outputs": [],
   "source": [
    "del a"
   ]
  },
  {
   "cell_type": "code",
   "execution_count": 20,
   "metadata": {},
   "outputs": [
    {
     "data": {
      "text/plain": [
       "(5, 5)"
      ]
     },
     "execution_count": 20,
     "metadata": {},
     "output_type": "execute_result"
    }
   ],
   "source": [
    "b, c #a 가 지워져도 b,c값은 유지"
   ]
  },
  {
   "cell_type": "code",
   "execution_count": 21,
   "metadata": {},
   "outputs": [],
   "source": [
    "b = 'a'"
   ]
  },
  {
   "cell_type": "code",
   "execution_count": 22,
   "metadata": {},
   "outputs": [
    {
     "data": {
      "text/plain": [
       "(2197175205368, 1510191424)"
      ]
     },
     "execution_count": 22,
     "metadata": {},
     "output_type": "execute_result"
    }
   ],
   "source": [
    "id(b), id(c)            #b는 새로운 id값을 가지게 된다. a라는 값을 대입했기 때문 "
   ]
  },
  {
   "cell_type": "code",
   "execution_count": 23,
   "metadata": {},
   "outputs": [],
   "source": [
    "c = 10"
   ]
  },
  {
   "cell_type": "code",
   "execution_count": 24,
   "metadata": {},
   "outputs": [
    {
     "data": {
      "text/plain": [
       "(2197175205368, 1510191584)"
      ]
     },
     "execution_count": 24,
     "metadata": {},
     "output_type": "execute_result"
    }
   ],
   "source": [
    "id(b), id(c)            #c에 새로운 값을 대입했기 때문에 새로운 id값을 가짐"
   ]
  },
  {
   "cell_type": "code",
   "execution_count": 25,
   "metadata": {
    "collapsed": true,
    "jupyter": {
     "outputs_hidden": true
    }
   },
   "outputs": [
    {
     "data": {
      "text/plain": [
       "['__add__',\n",
       " '__class__',\n",
       " '__contains__',\n",
       " '__delattr__',\n",
       " '__dir__',\n",
       " '__doc__',\n",
       " '__eq__',\n",
       " '__format__',\n",
       " '__ge__',\n",
       " '__getattribute__',\n",
       " '__getitem__',\n",
       " '__getnewargs__',\n",
       " '__gt__',\n",
       " '__hash__',\n",
       " '__init__',\n",
       " '__init_subclass__',\n",
       " '__iter__',\n",
       " '__le__',\n",
       " '__len__',\n",
       " '__lt__',\n",
       " '__mod__',\n",
       " '__mul__',\n",
       " '__ne__',\n",
       " '__new__',\n",
       " '__reduce__',\n",
       " '__reduce_ex__',\n",
       " '__repr__',\n",
       " '__rmod__',\n",
       " '__rmul__',\n",
       " '__setattr__',\n",
       " '__sizeof__',\n",
       " '__str__',\n",
       " '__subclasshook__',\n",
       " 'capitalize',\n",
       " 'casefold',\n",
       " 'center',\n",
       " 'count',\n",
       " 'encode',\n",
       " 'endswith',\n",
       " 'expandtabs',\n",
       " 'find',\n",
       " 'format',\n",
       " 'format_map',\n",
       " 'index',\n",
       " 'isalnum',\n",
       " 'isalpha',\n",
       " 'isdecimal',\n",
       " 'isdigit',\n",
       " 'isidentifier',\n",
       " 'islower',\n",
       " 'isnumeric',\n",
       " 'isprintable',\n",
       " 'isspace',\n",
       " 'istitle',\n",
       " 'isupper',\n",
       " 'join',\n",
       " 'ljust',\n",
       " 'lower',\n",
       " 'lstrip',\n",
       " 'maketrans',\n",
       " 'partition',\n",
       " 'replace',\n",
       " 'rfind',\n",
       " 'rindex',\n",
       " 'rjust',\n",
       " 'rpartition',\n",
       " 'rsplit',\n",
       " 'rstrip',\n",
       " 'split',\n",
       " 'splitlines',\n",
       " 'startswith',\n",
       " 'strip',\n",
       " 'swapcase',\n",
       " 'title',\n",
       " 'translate',\n",
       " 'upper',\n",
       " 'zfill']"
      ]
     },
     "execution_count": 25,
     "metadata": {},
     "output_type": "execute_result"
    }
   ],
   "source": [
    "dir(b)"
   ]
  },
  {
   "cell_type": "markdown",
   "metadata": {},
   "source": [
    "# refercence count"
   ]
  },
  {
   "cell_type": "code",
   "execution_count": 26,
   "metadata": {},
   "outputs": [
    {
     "data": {
      "text/plain": [
       "(10, 10, 10)"
      ]
     },
     "execution_count": 26,
     "metadata": {},
     "output_type": "execute_result"
    }
   ],
   "source": [
    "a = b = c = 10\n",
    "a,b,c"
   ]
  },
  {
   "cell_type": "code",
   "execution_count": 27,
   "metadata": {},
   "outputs": [
    {
     "data": {
      "text/plain": [
       "171"
      ]
     },
     "execution_count": 27,
     "metadata": {},
     "output_type": "execute_result"
    }
   ],
   "source": [
    "import sys\n",
    "sys.getrefcount(10)"
   ]
  },
  {
   "cell_type": "code",
   "execution_count": 28,
   "metadata": {},
   "outputs": [],
   "source": [
    "del a"
   ]
  },
  {
   "cell_type": "code",
   "execution_count": 29,
   "metadata": {},
   "outputs": [
    {
     "data": {
      "text/plain": [
       "170"
      ]
     },
     "execution_count": 29,
     "metadata": {},
     "output_type": "execute_result"
    }
   ],
   "source": [
    "import sys\n",
    "sys.getrefcount(10)"
   ]
  },
  {
   "cell_type": "code",
   "execution_count": 30,
   "metadata": {},
   "outputs": [
    {
     "data": {
      "text/plain": [
       "169"
      ]
     },
     "execution_count": 30,
     "metadata": {},
     "output_type": "execute_result"
    }
   ],
   "source": [
    "del b\n",
    "sys.getrefcount(10)"
   ]
  },
  {
   "cell_type": "code",
   "execution_count": 31,
   "metadata": {},
   "outputs": [
    {
     "data": {
      "text/plain": [
       "<object at 0x1ff945c0150>"
      ]
     },
     "execution_count": 31,
     "metadata": {},
     "output_type": "execute_result"
    }
   ],
   "source": [
    "a = object()\n",
    "a"
   ]
  },
  {
   "cell_type": "code",
   "execution_count": 32,
   "metadata": {},
   "outputs": [
    {
     "data": {
      "text/plain": [
       "2197217345872"
      ]
     },
     "execution_count": 32,
     "metadata": {},
     "output_type": "execute_result"
    }
   ],
   "source": [
    "id(a)"
   ]
  },
  {
   "cell_type": "code",
   "execution_count": 33,
   "metadata": {},
   "outputs": [
    {
     "data": {
      "text/plain": [
       "6"
      ]
     },
     "execution_count": 33,
     "metadata": {},
     "output_type": "execute_result"
    }
   ],
   "source": [
    "sys.getrefcount(a)"
   ]
  },
  {
   "cell_type": "code",
   "execution_count": 34,
   "metadata": {},
   "outputs": [],
   "source": [
    "b = a     #copy"
   ]
  },
  {
   "cell_type": "code",
   "execution_count": 35,
   "metadata": {},
   "outputs": [
    {
     "data": {
      "text/plain": [
       "7"
      ]
     },
     "execution_count": 35,
     "metadata": {},
     "output_type": "execute_result"
    }
   ],
   "source": [
    "sys.getrefcount(a)"
   ]
  },
  {
   "cell_type": "code",
   "execution_count": 36,
   "metadata": {},
   "outputs": [],
   "source": [
    "del a"
   ]
  },
  {
   "cell_type": "code",
   "execution_count": 37,
   "metadata": {},
   "outputs": [
    {
     "data": {
      "text/plain": [
       "5"
      ]
     },
     "execution_count": 37,
     "metadata": {},
     "output_type": "execute_result"
    }
   ],
   "source": [
    "sys.getrefcount(b)"
   ]
  },
  {
   "cell_type": "markdown",
   "metadata": {},
   "source": [
    "## 비교!\n",
    "\n",
    "- == : 값이 대등하냐?\n",
    "- is : 객체가 대등하냐?"
   ]
  },
  {
   "cell_type": "code",
   "execution_count": 39,
   "metadata": {},
   "outputs": [
    {
     "data": {
      "text/plain": [
       "(1510191584, 1510191584)"
      ]
     },
     "execution_count": 39,
     "metadata": {},
     "output_type": "execute_result"
    }
   ],
   "source": [
    "a = 10\n",
    "b = 10\n",
    "id(a), id(b)"
   ]
  },
  {
   "cell_type": "code",
   "execution_count": 40,
   "metadata": {},
   "outputs": [
    {
     "data": {
      "text/plain": [
       "True"
      ]
     },
     "execution_count": 40,
     "metadata": {},
     "output_type": "execute_result"
    }
   ],
   "source": [
    "a is b"
   ]
  },
  {
   "cell_type": "code",
   "execution_count": 41,
   "metadata": {},
   "outputs": [
    {
     "data": {
      "text/plain": [
       "True"
      ]
     },
     "execution_count": 41,
     "metadata": {},
     "output_type": "execute_result"
    }
   ],
   "source": [
    "a == b"
   ]
  },
  {
   "cell_type": "code",
   "execution_count": 47,
   "metadata": {},
   "outputs": [],
   "source": [
    "li1 = [1,2,3]          #각각의 아이덴티티 주소값을 갖는다.\n",
    "li2 = [1,2,3]"
   ]
  },
  {
   "cell_type": "code",
   "execution_count": 45,
   "metadata": {},
   "outputs": [
    {
     "data": {
      "text/plain": [
       "True"
      ]
     },
     "execution_count": 45,
     "metadata": {},
     "output_type": "execute_result"
    }
   ],
   "source": [
    "li1 == li2"
   ]
  },
  {
   "cell_type": "code",
   "execution_count": 48,
   "metadata": {},
   "outputs": [
    {
     "data": {
      "text/plain": [
       "False"
      ]
     },
     "execution_count": 48,
     "metadata": {},
     "output_type": "execute_result"
    }
   ],
   "source": [
    "li1 is li2"
   ]
  },
  {
   "cell_type": "code",
   "execution_count": 49,
   "metadata": {},
   "outputs": [
    {
     "data": {
      "text/plain": [
       "(2197219413000, 2197219410120)"
      ]
     },
     "execution_count": 49,
     "metadata": {},
     "output_type": "execute_result"
    }
   ],
   "source": [
    "id(li1), id(li2)"
   ]
  },
  {
   "cell_type": "code",
   "execution_count": 50,
   "metadata": {},
   "outputs": [],
   "source": [
    "str1 = '가나'\n",
    "str2 = '가나'"
   ]
  },
  {
   "cell_type": "code",
   "execution_count": 51,
   "metadata": {},
   "outputs": [
    {
     "data": {
      "text/plain": [
       "True"
      ]
     },
     "execution_count": 51,
     "metadata": {},
     "output_type": "execute_result"
    }
   ],
   "source": [
    "str1 == str2"
   ]
  },
  {
   "cell_type": "code",
   "execution_count": 52,
   "metadata": {},
   "outputs": [
    {
     "data": {
      "text/plain": [
       "False"
      ]
     },
     "execution_count": 52,
     "metadata": {},
     "output_type": "execute_result"
    }
   ],
   "source": [
    "str1 is str2"
   ]
  },
  {
   "cell_type": "code",
   "execution_count": 53,
   "metadata": {},
   "outputs": [
    {
     "data": {
      "text/plain": [
       "(2197218715408, 2197218714968)"
      ]
     },
     "execution_count": 53,
     "metadata": {},
     "output_type": "execute_result"
    }
   ],
   "source": [
    "id(str1), id(str2)"
   ]
  },
  {
   "cell_type": "code",
   "execution_count": 54,
   "metadata": {},
   "outputs": [],
   "source": [
    "str1 = 'abc'\n",
    "str2 = 'abc'"
   ]
  },
  {
   "cell_type": "code",
   "execution_count": 55,
   "metadata": {},
   "outputs": [
    {
     "data": {
      "text/plain": [
       "True"
      ]
     },
     "execution_count": 55,
     "metadata": {},
     "output_type": "execute_result"
    }
   ],
   "source": [
    "str1 == str2"
   ]
  },
  {
   "cell_type": "code",
   "execution_count": 56,
   "metadata": {},
   "outputs": [
    {
     "data": {
      "text/plain": [
       "True"
      ]
     },
     "execution_count": 56,
     "metadata": {},
     "output_type": "execute_result"
    }
   ],
   "source": [
    "str1 is str2"
   ]
  },
  {
   "cell_type": "code",
   "execution_count": 57,
   "metadata": {},
   "outputs": [
    {
     "data": {
      "text/plain": [
       "(2197175286728, 2197175286728)"
      ]
     },
     "execution_count": 57,
     "metadata": {},
     "output_type": "execute_result"
    }
   ],
   "source": [
    "id(str1), id(str2)"
   ]
  },
  {
   "cell_type": "markdown",
   "metadata": {},
   "source": [
    "### global, local name space\n",
    "    3.6 dlgn nonlocal"
   ]
  },
  {
   "cell_type": "code",
   "execution_count": 59,
   "metadata": {
    "collapsed": true,
    "jupyter": {
     "outputs_hidden": true
    }
   },
   "outputs": [
    {
     "data": {
      "text/plain": [
       "{'__name__': '__main__',\n",
       " '__doc__': 'Automatically created module for IPython interactive environment',\n",
       " '__package__': None,\n",
       " '__loader__': None,\n",
       " '__spec__': None,\n",
       " '__builtin__': <module 'builtins' (built-in)>,\n",
       " '__builtins__': <module 'builtins' (built-in)>,\n",
       " '_ih': ['',\n",
       "  '5+4',\n",
       "  '_',\n",
       "  '_ + 100',\n",
       "  'for _ in range(1,10):\\n    print(_*2)',\n",
       "  'for i in range(1,10):\\n    i = i * 1\\n    print(_*1)',\n",
       "  'for i in range(1,10):\\n    i = i * 2\\n    print(_*1)',\n",
       "  'for i in range(1,10):\\n    i = i * 2\\n    print(_*1)',\n",
       "  'a, _, c = (10,20,30)\\na, c',\n",
       "  'a, _, _ = (10,20,30)\\na, b, c',\n",
       "  'a, _, _ = (10,20,30)\\na, b',\n",
       "  'for _ in range(1,10):\\n    print(_)',\n",
       "  '_ = 10\\nwhile _ < 20:\\n    print(_)\\n    _ += 1',\n",
       "  '100_00_00_00',\n",
       "  \"get_ipython().system('python mod1.py')\",\n",
       "  'get_ipython().system(\"python mod1.py \\'홍길동\\'\")',\n",
       "  'a = b = c = 5',\n",
       "  'a, b, c',\n",
       "  'id(a), id(b), id(c)',\n",
       "  'del a',\n",
       "  'b, c #a 가 지워져도 b,c값은 유지',\n",
       "  \"b = 'a'\",\n",
       "  'id(b), id(c)',\n",
       "  'c = 10',\n",
       "  'id(b), id(c)',\n",
       "  'dir(b)',\n",
       "  'a = b = c = 10\\na,b,c',\n",
       "  'import sys\\nsys.getrefcount(10)',\n",
       "  'del a',\n",
       "  'import sys\\nsys.getrefcount(10)',\n",
       "  'del b\\nsys.getrefcount(10)',\n",
       "  'a = object()\\na',\n",
       "  'id(a)',\n",
       "  'sys.getrefcount(a)',\n",
       "  'b = a     #copy',\n",
       "  'sys.getrefcount(a)',\n",
       "  'del a',\n",
       "  'sys.getrefcount(b)',\n",
       "  'sys.getrefcount(a)',\n",
       "  'a = 10\\nb = 10\\nid(a), id(b)',\n",
       "  'a is b',\n",
       "  'a == b',\n",
       "  'li1 = [1,2,3]\\nli2 = [1,2,3]',\n",
       "  'li1 = li2',\n",
       "  'li1 = li2',\n",
       "  'li1 == li2',\n",
       "  'li1 is li2',\n",
       "  'li1 = [1,2,3]\\nli2 = [1,2,3]',\n",
       "  'li1 is li2',\n",
       "  'id(li1), id(li2)',\n",
       "  \"str1 = '가나'\\nstr2 = '가나'\",\n",
       "  'str1 == str2',\n",
       "  'str1 is str2',\n",
       "  'id(str1), id(str2)',\n",
       "  \"str1 = 'abc'\\nstr2 = 'abc'\",\n",
       "  'str1 == str2',\n",
       "  'str1 is str2',\n",
       "  'id(str1), id(str2)',\n",
       "  'globals()',\n",
       "  'locals()'],\n",
       " '_oh': {1: 9,\n",
       "  2: 9,\n",
       "  3: 109,\n",
       "  8: (10, 30),\n",
       "  13: 100000000,\n",
       "  17: (5, 5, 5),\n",
       "  18: (1510191424, 1510191424, 1510191424),\n",
       "  20: (5, 5),\n",
       "  22: (2197175205368, 1510191424),\n",
       "  24: (2197175205368, 1510191584),\n",
       "  25: ['__add__',\n",
       "   '__class__',\n",
       "   '__contains__',\n",
       "   '__delattr__',\n",
       "   '__dir__',\n",
       "   '__doc__',\n",
       "   '__eq__',\n",
       "   '__format__',\n",
       "   '__ge__',\n",
       "   '__getattribute__',\n",
       "   '__getitem__',\n",
       "   '__getnewargs__',\n",
       "   '__gt__',\n",
       "   '__hash__',\n",
       "   '__init__',\n",
       "   '__init_subclass__',\n",
       "   '__iter__',\n",
       "   '__le__',\n",
       "   '__len__',\n",
       "   '__lt__',\n",
       "   '__mod__',\n",
       "   '__mul__',\n",
       "   '__ne__',\n",
       "   '__new__',\n",
       "   '__reduce__',\n",
       "   '__reduce_ex__',\n",
       "   '__repr__',\n",
       "   '__rmod__',\n",
       "   '__rmul__',\n",
       "   '__setattr__',\n",
       "   '__sizeof__',\n",
       "   '__str__',\n",
       "   '__subclasshook__',\n",
       "   'capitalize',\n",
       "   'casefold',\n",
       "   'center',\n",
       "   'count',\n",
       "   'encode',\n",
       "   'endswith',\n",
       "   'expandtabs',\n",
       "   'find',\n",
       "   'format',\n",
       "   'format_map',\n",
       "   'index',\n",
       "   'isalnum',\n",
       "   'isalpha',\n",
       "   'isdecimal',\n",
       "   'isdigit',\n",
       "   'isidentifier',\n",
       "   'islower',\n",
       "   'isnumeric',\n",
       "   'isprintable',\n",
       "   'isspace',\n",
       "   'istitle',\n",
       "   'isupper',\n",
       "   'join',\n",
       "   'ljust',\n",
       "   'lower',\n",
       "   'lstrip',\n",
       "   'maketrans',\n",
       "   'partition',\n",
       "   'replace',\n",
       "   'rfind',\n",
       "   'rindex',\n",
       "   'rjust',\n",
       "   'rpartition',\n",
       "   'rsplit',\n",
       "   'rstrip',\n",
       "   'split',\n",
       "   'splitlines',\n",
       "   'startswith',\n",
       "   'strip',\n",
       "   'swapcase',\n",
       "   'title',\n",
       "   'translate',\n",
       "   'upper',\n",
       "   'zfill'],\n",
       "  26: (10, 10, 10),\n",
       "  27: 171,\n",
       "  29: 170,\n",
       "  30: 169,\n",
       "  31: <object at 0x1ff945c0150>,\n",
       "  32: 2197217345872,\n",
       "  33: 6,\n",
       "  35: 7,\n",
       "  37: 5,\n",
       "  39: (1510191584, 1510191584),\n",
       "  40: True,\n",
       "  41: True,\n",
       "  45: True,\n",
       "  46: True,\n",
       "  48: False,\n",
       "  49: (2197219413000, 2197219410120),\n",
       "  51: True,\n",
       "  52: False,\n",
       "  53: (2197218715408, 2197218714968),\n",
       "  55: True,\n",
       "  56: True,\n",
       "  57: (2197175286728, 2197175286728),\n",
       "  58: {...}},\n",
       " '_dh': ['C:\\\\Users\\\\BIT-R39\\\\py_20_1130'],\n",
       " 'In': ['',\n",
       "  '5+4',\n",
       "  '_',\n",
       "  '_ + 100',\n",
       "  'for _ in range(1,10):\\n    print(_*2)',\n",
       "  'for i in range(1,10):\\n    i = i * 1\\n    print(_*1)',\n",
       "  'for i in range(1,10):\\n    i = i * 2\\n    print(_*1)',\n",
       "  'for i in range(1,10):\\n    i = i * 2\\n    print(_*1)',\n",
       "  'a, _, c = (10,20,30)\\na, c',\n",
       "  'a, _, _ = (10,20,30)\\na, b, c',\n",
       "  'a, _, _ = (10,20,30)\\na, b',\n",
       "  'for _ in range(1,10):\\n    print(_)',\n",
       "  '_ = 10\\nwhile _ < 20:\\n    print(_)\\n    _ += 1',\n",
       "  '100_00_00_00',\n",
       "  \"get_ipython().system('python mod1.py')\",\n",
       "  'get_ipython().system(\"python mod1.py \\'홍길동\\'\")',\n",
       "  'a = b = c = 5',\n",
       "  'a, b, c',\n",
       "  'id(a), id(b), id(c)',\n",
       "  'del a',\n",
       "  'b, c #a 가 지워져도 b,c값은 유지',\n",
       "  \"b = 'a'\",\n",
       "  'id(b), id(c)',\n",
       "  'c = 10',\n",
       "  'id(b), id(c)',\n",
       "  'dir(b)',\n",
       "  'a = b = c = 10\\na,b,c',\n",
       "  'import sys\\nsys.getrefcount(10)',\n",
       "  'del a',\n",
       "  'import sys\\nsys.getrefcount(10)',\n",
       "  'del b\\nsys.getrefcount(10)',\n",
       "  'a = object()\\na',\n",
       "  'id(a)',\n",
       "  'sys.getrefcount(a)',\n",
       "  'b = a     #copy',\n",
       "  'sys.getrefcount(a)',\n",
       "  'del a',\n",
       "  'sys.getrefcount(b)',\n",
       "  'sys.getrefcount(a)',\n",
       "  'a = 10\\nb = 10\\nid(a), id(b)',\n",
       "  'a is b',\n",
       "  'a == b',\n",
       "  'li1 = [1,2,3]\\nli2 = [1,2,3]',\n",
       "  'li1 = li2',\n",
       "  'li1 = li2',\n",
       "  'li1 == li2',\n",
       "  'li1 is li2',\n",
       "  'li1 = [1,2,3]\\nli2 = [1,2,3]',\n",
       "  'li1 is li2',\n",
       "  'id(li1), id(li2)',\n",
       "  \"str1 = '가나'\\nstr2 = '가나'\",\n",
       "  'str1 == str2',\n",
       "  'str1 is str2',\n",
       "  'id(str1), id(str2)',\n",
       "  \"str1 = 'abc'\\nstr2 = 'abc'\",\n",
       "  'str1 == str2',\n",
       "  'str1 is str2',\n",
       "  'id(str1), id(str2)',\n",
       "  'globals()',\n",
       "  'locals()'],\n",
       " 'Out': {1: 9,\n",
       "  2: 9,\n",
       "  3: 109,\n",
       "  8: (10, 30),\n",
       "  13: 100000000,\n",
       "  17: (5, 5, 5),\n",
       "  18: (1510191424, 1510191424, 1510191424),\n",
       "  20: (5, 5),\n",
       "  22: (2197175205368, 1510191424),\n",
       "  24: (2197175205368, 1510191584),\n",
       "  25: ['__add__',\n",
       "   '__class__',\n",
       "   '__contains__',\n",
       "   '__delattr__',\n",
       "   '__dir__',\n",
       "   '__doc__',\n",
       "   '__eq__',\n",
       "   '__format__',\n",
       "   '__ge__',\n",
       "   '__getattribute__',\n",
       "   '__getitem__',\n",
       "   '__getnewargs__',\n",
       "   '__gt__',\n",
       "   '__hash__',\n",
       "   '__init__',\n",
       "   '__init_subclass__',\n",
       "   '__iter__',\n",
       "   '__le__',\n",
       "   '__len__',\n",
       "   '__lt__',\n",
       "   '__mod__',\n",
       "   '__mul__',\n",
       "   '__ne__',\n",
       "   '__new__',\n",
       "   '__reduce__',\n",
       "   '__reduce_ex__',\n",
       "   '__repr__',\n",
       "   '__rmod__',\n",
       "   '__rmul__',\n",
       "   '__setattr__',\n",
       "   '__sizeof__',\n",
       "   '__str__',\n",
       "   '__subclasshook__',\n",
       "   'capitalize',\n",
       "   'casefold',\n",
       "   'center',\n",
       "   'count',\n",
       "   'encode',\n",
       "   'endswith',\n",
       "   'expandtabs',\n",
       "   'find',\n",
       "   'format',\n",
       "   'format_map',\n",
       "   'index',\n",
       "   'isalnum',\n",
       "   'isalpha',\n",
       "   'isdecimal',\n",
       "   'isdigit',\n",
       "   'isidentifier',\n",
       "   'islower',\n",
       "   'isnumeric',\n",
       "   'isprintable',\n",
       "   'isspace',\n",
       "   'istitle',\n",
       "   'isupper',\n",
       "   'join',\n",
       "   'ljust',\n",
       "   'lower',\n",
       "   'lstrip',\n",
       "   'maketrans',\n",
       "   'partition',\n",
       "   'replace',\n",
       "   'rfind',\n",
       "   'rindex',\n",
       "   'rjust',\n",
       "   'rpartition',\n",
       "   'rsplit',\n",
       "   'rstrip',\n",
       "   'split',\n",
       "   'splitlines',\n",
       "   'startswith',\n",
       "   'strip',\n",
       "   'swapcase',\n",
       "   'title',\n",
       "   'translate',\n",
       "   'upper',\n",
       "   'zfill'],\n",
       "  26: (10, 10, 10),\n",
       "  27: 171,\n",
       "  29: 170,\n",
       "  30: 169,\n",
       "  31: <object at 0x1ff945c0150>,\n",
       "  32: 2197217345872,\n",
       "  33: 6,\n",
       "  35: 7,\n",
       "  37: 5,\n",
       "  39: (1510191584, 1510191584),\n",
       "  40: True,\n",
       "  41: True,\n",
       "  45: True,\n",
       "  46: True,\n",
       "  48: False,\n",
       "  49: (2197219413000, 2197219410120),\n",
       "  51: True,\n",
       "  52: False,\n",
       "  53: (2197218715408, 2197218714968),\n",
       "  55: True,\n",
       "  56: True,\n",
       "  57: (2197175286728, 2197175286728),\n",
       "  58: {...}},\n",
       " 'get_ipython': <bound method InteractiveShell.get_ipython of <ipykernel.zmqshell.ZMQInteractiveShell object at 0x000001FF94668240>>,\n",
       " 'exit': <IPython.core.autocall.ZMQExitAutocall at 0x1ff946fe470>,\n",
       " 'quit': <IPython.core.autocall.ZMQExitAutocall at 0x1ff946fe470>,\n",
       " '_': 20,\n",
       " '__': 9,\n",
       " '___': 9,\n",
       " '_i': 'globals()',\n",
       " '_ii': 'id(str1), id(str2)',\n",
       " '_iii': 'str1 is str2',\n",
       " '_i1': '5+4',\n",
       " '_1': 9,\n",
       " '_i2': '_',\n",
       " '_2': 9,\n",
       " '_i3': '_ + 100',\n",
       " '_3': 109,\n",
       " '_i4': 'for _ in range(1,10):\\n    print(_*2)',\n",
       " '_i5': 'for i in range(1,10):\\n    i = i * 1\\n    print(_*1)',\n",
       " 'i': 18,\n",
       " '_i6': 'for i in range(1,10):\\n    i = i * 2\\n    print(_*1)',\n",
       " '_i7': 'for i in range(1,10):\\n    i = i * 2\\n    print(_*1)',\n",
       " '_i8': 'a, _, c = (10,20,30)\\na, c',\n",
       " 'c': 10,\n",
       " '_8': (10, 30),\n",
       " '_i9': 'a, _, _ = (10,20,30)\\na, b, c',\n",
       " '_i10': 'a, _, _ = (10,20,30)\\na, b',\n",
       " '_i11': 'for _ in range(1,10):\\n    print(_)',\n",
       " '_i12': '_ = 10\\nwhile _ < 20:\\n    print(_)\\n    _ += 1',\n",
       " '_i13': '100_00_00_00',\n",
       " '_13': 100000000,\n",
       " '_i14': '!python mod1.py',\n",
       " '_exit_code': 0,\n",
       " '_i15': \"!python mod1.py '홍길동'\",\n",
       " '_i16': 'a = b = c = 5',\n",
       " '_i17': 'a, b, c',\n",
       " '_17': (5, 5, 5),\n",
       " '_i18': 'id(a), id(b), id(c)',\n",
       " '_18': (1510191424, 1510191424, 1510191424),\n",
       " '_i19': 'del a',\n",
       " '_i20': 'b, c #a 가 지워져도 b,c값은 유지',\n",
       " '_20': (5, 5),\n",
       " '_i21': \"b = 'a'\",\n",
       " '_i22': 'id(b), id(c)',\n",
       " '_22': (2197175205368, 1510191424),\n",
       " '_i23': 'c = 10',\n",
       " '_i24': 'id(b), id(c)',\n",
       " '_24': (2197175205368, 1510191584),\n",
       " '_i25': 'dir(b)',\n",
       " '_25': ['__add__',\n",
       "  '__class__',\n",
       "  '__contains__',\n",
       "  '__delattr__',\n",
       "  '__dir__',\n",
       "  '__doc__',\n",
       "  '__eq__',\n",
       "  '__format__',\n",
       "  '__ge__',\n",
       "  '__getattribute__',\n",
       "  '__getitem__',\n",
       "  '__getnewargs__',\n",
       "  '__gt__',\n",
       "  '__hash__',\n",
       "  '__init__',\n",
       "  '__init_subclass__',\n",
       "  '__iter__',\n",
       "  '__le__',\n",
       "  '__len__',\n",
       "  '__lt__',\n",
       "  '__mod__',\n",
       "  '__mul__',\n",
       "  '__ne__',\n",
       "  '__new__',\n",
       "  '__reduce__',\n",
       "  '__reduce_ex__',\n",
       "  '__repr__',\n",
       "  '__rmod__',\n",
       "  '__rmul__',\n",
       "  '__setattr__',\n",
       "  '__sizeof__',\n",
       "  '__str__',\n",
       "  '__subclasshook__',\n",
       "  'capitalize',\n",
       "  'casefold',\n",
       "  'center',\n",
       "  'count',\n",
       "  'encode',\n",
       "  'endswith',\n",
       "  'expandtabs',\n",
       "  'find',\n",
       "  'format',\n",
       "  'format_map',\n",
       "  'index',\n",
       "  'isalnum',\n",
       "  'isalpha',\n",
       "  'isdecimal',\n",
       "  'isdigit',\n",
       "  'isidentifier',\n",
       "  'islower',\n",
       "  'isnumeric',\n",
       "  'isprintable',\n",
       "  'isspace',\n",
       "  'istitle',\n",
       "  'isupper',\n",
       "  'join',\n",
       "  'ljust',\n",
       "  'lower',\n",
       "  'lstrip',\n",
       "  'maketrans',\n",
       "  'partition',\n",
       "  'replace',\n",
       "  'rfind',\n",
       "  'rindex',\n",
       "  'rjust',\n",
       "  'rpartition',\n",
       "  'rsplit',\n",
       "  'rstrip',\n",
       "  'split',\n",
       "  'splitlines',\n",
       "  'startswith',\n",
       "  'strip',\n",
       "  'swapcase',\n",
       "  'title',\n",
       "  'translate',\n",
       "  'upper',\n",
       "  'zfill'],\n",
       " '_i26': 'a = b = c = 10\\na,b,c',\n",
       " '_26': (10, 10, 10),\n",
       " '_i27': 'import sys\\nsys.getrefcount(10)',\n",
       " 'sys': <module 'sys' (built-in)>,\n",
       " '_27': 171,\n",
       " '_i28': 'del a',\n",
       " '_i29': 'import sys\\nsys.getrefcount(10)',\n",
       " '_29': 170,\n",
       " '_i30': 'del b\\nsys.getrefcount(10)',\n",
       " '_30': 169,\n",
       " '_i31': 'a = object()\\na',\n",
       " '_31': <object at 0x1ff945c0150>,\n",
       " '_i32': 'id(a)',\n",
       " '_32': 2197217345872,\n",
       " '_i33': 'sys.getrefcount(a)',\n",
       " '_33': 6,\n",
       " '_i34': 'b = a     #copy',\n",
       " 'b': 10,\n",
       " '_i35': 'sys.getrefcount(a)',\n",
       " '_35': 7,\n",
       " '_i36': 'del a',\n",
       " '_i37': 'sys.getrefcount(b)',\n",
       " '_37': 5,\n",
       " '_i38': 'sys.getrefcount(a)',\n",
       " '_i39': 'a = 10\\nb = 10\\nid(a), id(b)',\n",
       " 'a': 10,\n",
       " '_39': (1510191584, 1510191584),\n",
       " '_i40': 'a is b',\n",
       " '_40': True,\n",
       " '_i41': 'a == b',\n",
       " '_41': True,\n",
       " '_i42': 'li1 = [1,2,3]\\nli2 = [1,2,3]',\n",
       " 'li1': [1, 2, 3],\n",
       " 'li2': [1, 2, 3],\n",
       " '_i43': 'li1 = li2',\n",
       " '_i44': 'li1 = li2',\n",
       " '_i45': 'li1 == li2',\n",
       " '_45': True,\n",
       " '_i46': 'li1 is li2',\n",
       " '_46': True,\n",
       " '_i47': 'li1 = [1,2,3]\\nli2 = [1,2,3]',\n",
       " '_i48': 'li1 is li2',\n",
       " '_48': False,\n",
       " '_i49': 'id(li1), id(li2)',\n",
       " '_49': (2197219413000, 2197219410120),\n",
       " '_i50': \"str1 = '가나'\\nstr2 = '가나'\",\n",
       " 'str1': 'abc',\n",
       " 'str2': 'abc',\n",
       " '_i51': 'str1 == str2',\n",
       " '_51': True,\n",
       " '_i52': 'str1 is str2',\n",
       " '_52': False,\n",
       " '_i53': 'id(str1), id(str2)',\n",
       " '_53': (2197218715408, 2197218714968),\n",
       " '_i54': \"str1 = 'abc'\\nstr2 = 'abc'\",\n",
       " '_i55': 'str1 == str2',\n",
       " '_55': True,\n",
       " '_i56': 'str1 is str2',\n",
       " '_56': True,\n",
       " '_i57': 'id(str1), id(str2)',\n",
       " '_57': (2197175286728, 2197175286728),\n",
       " '_i58': 'globals()',\n",
       " '_58': {...},\n",
       " '_i59': 'locals()'}"
      ]
     },
     "execution_count": 59,
     "metadata": {},
     "output_type": "execute_result"
    }
   ],
   "source": [
    "locals()"
   ]
  },
  {
   "cell_type": "markdown",
   "metadata": {},
   "source": [
    "### 객체의 복사\n",
    "    얕은 복사: 대입연산, copy()\n",
    "    깊은 복사: deepcopy()"
   ]
  },
  {
   "cell_type": "code",
   "execution_count": 60,
   "metadata": {},
   "outputs": [
    {
     "data": {
      "text/plain": [
       "('헬로', '헬로', '헬로')"
      ]
     },
     "execution_count": 60,
     "metadata": {},
     "output_type": "execute_result"
    }
   ],
   "source": [
    "a = b = c = '헬로'\n",
    "a, b, c                  #얕은 복사, c에 먼저 복사하고 그 후 b,c에 대입"
   ]
  },
  {
   "cell_type": "code",
   "execution_count": 61,
   "metadata": {},
   "outputs": [
    {
     "data": {
      "text/plain": [
       "(2197218714968, 2197218714968, 2197218714968)"
      ]
     },
     "execution_count": 61,
     "metadata": {},
     "output_type": "execute_result"
    }
   ],
   "source": [
    "id(a), id(b), id(c)"
   ]
  },
  {
   "cell_type": "code",
   "execution_count": 62,
   "metadata": {},
   "outputs": [],
   "source": [
    "a = '헬로'\n",
    "b = '헬로'\n",
    "c = '헬로'     #각각의 객체에 깊은복사"
   ]
  },
  {
   "cell_type": "code",
   "execution_count": 63,
   "metadata": {},
   "outputs": [
    {
     "data": {
      "text/plain": [
       "(2197218715496, 2197219635248, 2197219636040)"
      ]
     },
     "execution_count": 63,
     "metadata": {},
     "output_type": "execute_result"
    }
   ],
   "source": [
    "id(a), id(b), id(c)"
   ]
  },
  {
   "cell_type": "markdown",
   "metadata": {},
   "source": [
    "### Mutavle: list"
   ]
  },
  {
   "cell_type": "code",
   "execution_count": 64,
   "metadata": {},
   "outputs": [
    {
     "data": {
      "text/plain": [
       "2197219413320"
      ]
     },
     "execution_count": 64,
     "metadata": {},
     "output_type": "execute_result"
    }
   ],
   "source": [
    "a = [1,2,3,4]\n",
    "id(a)"
   ]
  },
  {
   "cell_type": "code",
   "execution_count": 65,
   "metadata": {},
   "outputs": [
    {
     "data": {
      "text/plain": [
       "2197219413320"
      ]
     },
     "execution_count": 65,
     "metadata": {},
     "output_type": "execute_result"
    }
   ],
   "source": [
    "a[0] = 10\n",
    "id(a)"
   ]
  },
  {
   "cell_type": "code",
   "execution_count": 66,
   "metadata": {},
   "outputs": [
    {
     "data": {
      "text/plain": [
       "[10, 2, 3, 4]"
      ]
     },
     "execution_count": 66,
     "metadata": {},
     "output_type": "execute_result"
    }
   ],
   "source": [
    "a"
   ]
  },
  {
   "cell_type": "code",
   "execution_count": 67,
   "metadata": {},
   "outputs": [
    {
     "data": {
      "text/plain": [
       "2197219413320"
      ]
     },
     "execution_count": 67,
     "metadata": {},
     "output_type": "execute_result"
    }
   ],
   "source": [
    "b = a\n",
    "id(b)"
   ]
  },
  {
   "cell_type": "code",
   "execution_count": 68,
   "metadata": {},
   "outputs": [
    {
     "data": {
      "text/plain": [
       "2197219413320"
      ]
     },
     "execution_count": 68,
     "metadata": {},
     "output_type": "execute_result"
    }
   ],
   "source": [
    "b[0] = 1\n",
    "id(b)                 #뮤터블객체는 각각의 객체에 새로운 값을 삽입해도 얕은 복사"
   ]
  },
  {
   "cell_type": "code",
   "execution_count": 69,
   "metadata": {},
   "outputs": [
    {
     "data": {
      "text/plain": [
       "([1, 2, 3, 4], [1, 2, 3, 4])"
      ]
     },
     "execution_count": 69,
     "metadata": {},
     "output_type": "execute_result"
    }
   ],
   "source": [
    "a, b"
   ]
  },
  {
   "cell_type": "markdown",
   "metadata": {},
   "source": [
    "### 뮤터블: slicing 복사"
   ]
  },
  {
   "cell_type": "code",
   "execution_count": null,
   "metadata": {},
   "outputs": [],
   "source": [
    "a = [1,2,3,4]"
   ]
  },
  {
   "cell_type": "code",
   "execution_count": 70,
   "metadata": {},
   "outputs": [
    {
     "data": {
      "text/plain": [
       "(2197219413320, 2197219411144)"
      ]
     },
     "execution_count": 70,
     "metadata": {},
     "output_type": "execute_result"
    }
   ],
   "source": [
    "b = a[:]\n",
    "id(a), id(b)"
   ]
  },
  {
   "cell_type": "code",
   "execution_count": 71,
   "metadata": {},
   "outputs": [
    {
     "data": {
      "text/plain": [
       "([1, 2, 3, 4], [1, 2, 3, 4])"
      ]
     },
     "execution_count": 71,
     "metadata": {},
     "output_type": "execute_result"
    }
   ],
   "source": [
    "a, b"
   ]
  },
  {
   "cell_type": "markdown",
   "metadata": {},
   "source": [
    "### 리스트 안의 리스트"
   ]
  },
  {
   "cell_type": "code",
   "execution_count": 72,
   "metadata": {},
   "outputs": [
    {
     "data": {
      "text/plain": [
       "(2197218494600, 2197219714440)"
      ]
     },
     "execution_count": 72,
     "metadata": {},
     "output_type": "execute_result"
    }
   ],
   "source": [
    "a = [[1,2],[3,4]]\n",
    "b = a[:]\n",
    "id(a), id(b)"
   ]
  },
  {
   "cell_type": "code",
   "execution_count": 73,
   "metadata": {},
   "outputs": [
    {
     "data": {
      "text/plain": [
       "([[1, 2], [3, 4]], [[1, 2], [3, 4]])"
      ]
     },
     "execution_count": 73,
     "metadata": {},
     "output_type": "execute_result"
    }
   ],
   "source": [
    "a, b"
   ]
  },
  {
   "cell_type": "code",
   "execution_count": 74,
   "metadata": {},
   "outputs": [
    {
     "data": {
      "text/plain": [
       "(2197219691592, 2197219691592)"
      ]
     },
     "execution_count": 74,
     "metadata": {},
     "output_type": "execute_result"
    }
   ],
   "source": [
    "id(a[0]), id(b[0])              #내부의 요소는 아이덴티티값이 변하지 않는다. 얕은복사"
   ]
  },
  {
   "cell_type": "code",
   "execution_count": 75,
   "metadata": {},
   "outputs": [],
   "source": [
    "import copy           #copy모듈 사용도 얕은 복사에 해당."
   ]
  },
  {
   "cell_type": "code",
   "execution_count": 76,
   "metadata": {},
   "outputs": [],
   "source": [
    "a = [[1,2],[3,4]]\n",
    "b = a.copy()\n",
    "b = copy.copy(a)"
   ]
  },
  {
   "cell_type": "code",
   "execution_count": 77,
   "metadata": {},
   "outputs": [
    {
     "data": {
      "text/plain": [
       "(2197218899976, 2197219715848)"
      ]
     },
     "execution_count": 77,
     "metadata": {},
     "output_type": "execute_result"
    }
   ],
   "source": [
    "id(a), id(b)"
   ]
  },
  {
   "cell_type": "code",
   "execution_count": 78,
   "metadata": {},
   "outputs": [
    {
     "data": {
      "text/plain": [
       "(2197219688584, 2197219688584)"
      ]
     },
     "execution_count": 78,
     "metadata": {},
     "output_type": "execute_result"
    }
   ],
   "source": [
    "id(a[0]), id(b[0])         #마찬가지로 내부의 요소는 아이덴티티값이 변하지 않는다. 얕은복사"
   ]
  },
  {
   "cell_type": "markdown",
   "metadata": {},
   "source": [
    "### 깊은 복사 : copy.deepcopy()     #copy모듈의 deepcopy"
   ]
  },
  {
   "cell_type": "code",
   "execution_count": 79,
   "metadata": {},
   "outputs": [],
   "source": [
    "a = [[1,2],[3,4]]\n",
    "b = copy.deepcopy(a)"
   ]
  },
  {
   "cell_type": "code",
   "execution_count": 80,
   "metadata": {},
   "outputs": [
    {
     "data": {
      "text/plain": [
       "(2197219690696, 2197218591176)"
      ]
     },
     "execution_count": 80,
     "metadata": {},
     "output_type": "execute_result"
    }
   ],
   "source": [
    "id(a), id(b)"
   ]
  },
  {
   "cell_type": "code",
   "execution_count": 81,
   "metadata": {},
   "outputs": [
    {
     "data": {
      "text/plain": [
       "(2197219715528, 2197219690824)"
      ]
     },
     "execution_count": 81,
     "metadata": {},
     "output_type": "execute_result"
    }
   ],
   "source": [
    "id(a[0]), id(b[0])               #내부의 요소도 아이덴티티값이 다르다. 깊은 복사"
   ]
  },
  {
   "cell_type": "code",
   "execution_count": null,
   "metadata": {},
   "outputs": [],
   "source": []
  }
 ],
 "metadata": {
  "kernelspec": {
   "display_name": "Python 3",
   "language": "python",
   "name": "python3"
  },
  "language_info": {
   "codemirror_mode": {
    "name": "ipython",
    "version": 3
   },
   "file_extension": ".py",
   "mimetype": "text/x-python",
   "name": "python",
   "nbconvert_exporter": "python",
   "pygments_lexer": "ipython3",
   "version": "3.6.12"
  }
 },
 "nbformat": 4,
 "nbformat_minor": 4
}
