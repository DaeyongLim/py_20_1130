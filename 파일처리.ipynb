{
 "cells": [
  {
   "cell_type": "code",
   "execution_count": 40,
   "metadata": {},
   "outputs": [
    {
     "data": {
      "text/plain": [
       "<_io.TextIOWrapper name='scores.txt' mode='w' encoding='utf8'>"
      ]
     },
     "execution_count": 40,
     "metadata": {},
     "output_type": "execute_result"
    }
   ],
   "source": [
    "file = open('scores.txt', 'w', encoding='utf8')\n",
    "file"
   ]
  },
  {
   "cell_type": "code",
   "execution_count": 12,
   "metadata": {},
   "outputs": [
    {
     "data": {
      "text/plain": [
       "_io.TextIOWrapper"
      ]
     },
     "execution_count": 12,
     "metadata": {},
     "output_type": "execute_result"
    }
   ],
   "source": [
    "type(file)"
   ]
  },
  {
   "cell_type": "code",
   "execution_count": 41,
   "metadata": {},
   "outputs": [
    {
     "data": {
      "text/plain": [
       "13"
      ]
     },
     "execution_count": 41,
     "metadata": {},
     "output_type": "execute_result"
    }
   ],
   "source": [
    "file.write(\"안녕하세요\\n\")\n",
    "file.write(\"반갑습니다. 여러분!!!\")"
   ]
  },
  {
   "cell_type": "code",
   "execution_count": 42,
   "metadata": {},
   "outputs": [],
   "source": [
    "file.close()"
   ]
  },
  {
   "cell_type": "code",
   "execution_count": 16,
   "metadata": {},
   "outputs": [
    {
     "ename": "TypeError",
     "evalue": "'_io.TextIOWrapper' object is not callable",
     "output_type": "error",
     "traceback": [
      "\u001b[1;31m---------------------------------------------------------------------------\u001b[0m",
      "\u001b[1;31mTypeError\u001b[0m                                 Traceback (most recent call last)",
      "\u001b[1;32m<ipython-input-16-6e69165c9250>\u001b[0m in \u001b[0;36m<module>\u001b[1;34m\u001b[0m\n\u001b[1;32m----> 1\u001b[1;33m \u001b[0mfile\u001b[0m\u001b[1;33m(\u001b[0m\u001b[0mfile\u001b[0m\u001b[1;33m)\u001b[0m\u001b[1;33m\u001b[0m\u001b[1;33m\u001b[0m\u001b[0m\n\u001b[0m",
      "\u001b[1;31mTypeError\u001b[0m: '_io.TextIOWrapper' object is not callable"
     ]
    }
   ],
   "source": [
    "file(file)"
   ]
  },
  {
   "cell_type": "code",
   "execution_count": 34,
   "metadata": {},
   "outputs": [],
   "source": [
    "file = open('scores.txt', 'r', encoding='utf8')"
   ]
  },
  {
   "cell_type": "code",
   "execution_count": 35,
   "metadata": {},
   "outputs": [
    {
     "data": {
      "text/plain": [
       "['안녕하세요 \\n', '반갑습니다. 여러분!!!안녕하세요 \\n', '반갑습니다. 여러분!!!안녕하세요\\n', '반갑습니다. 여러분!!!']"
      ]
     },
     "execution_count": 35,
     "metadata": {},
     "output_type": "execute_result"
    }
   ],
   "source": [
    "lines = file.readlines()   #전체 텍스트를 다 읽고 리스토로 반환\n",
    "lines"
   ]
  },
  {
   "cell_type": "code",
   "execution_count": 20,
   "metadata": {},
   "outputs": [
    {
     "name": "stdout",
     "output_type": "stream",
     "text": [
      "안녕하세요반갑습니다. 여러분!!!"
     ]
    }
   ],
   "source": [
    "for line in lines:\n",
    "    print(line, end='')"
   ]
  },
  {
   "cell_type": "code",
   "execution_count": 36,
   "metadata": {},
   "outputs": [],
   "source": [
    "file.close()"
   ]
  },
  {
   "cell_type": "code",
   "execution_count": 43,
   "metadata": {},
   "outputs": [
    {
     "data": {
      "text/plain": [
       "<_io.TextIOWrapper name='scores.txt' mode='a' encoding='utf8'>"
      ]
     },
     "execution_count": 43,
     "metadata": {},
     "output_type": "execute_result"
    }
   ],
   "source": [
    "file = open('scores.txt', 'a', encoding='utf8')\n",
    "file"
   ]
  },
  {
   "cell_type": "code",
   "execution_count": 44,
   "metadata": {},
   "outputs": [
    {
     "data": {
      "text/plain": [
       "21"
      ]
     },
     "execution_count": 44,
     "metadata": {},
     "output_type": "execute_result"
    }
   ],
   "source": [
    "file.write(\"안dhdh\\n\")\n",
    "file.write(\"반asdasd다. 여asdasd분!!!\")"
   ]
  },
  {
   "cell_type": "code",
   "execution_count": 45,
   "metadata": {},
   "outputs": [],
   "source": [
    "file.close()"
   ]
  },
  {
   "cell_type": "code",
   "execution_count": 49,
   "metadata": {},
   "outputs": [
    {
     "data": {
      "text/plain": [
       "<_io.TextIOWrapper name='scores2.txt' mode='a' encoding='utf8'>"
      ]
     },
     "execution_count": 49,
     "metadata": {},
     "output_type": "execute_result"
    }
   ],
   "source": [
    "file = open('scores2.txt', 'a', encoding='utf8')\n",
    "file"
   ]
  },
  {
   "cell_type": "code",
   "execution_count": 50,
   "metadata": {},
   "outputs": [
    {
     "data": {
      "text/plain": [
       "6"
      ]
     },
     "execution_count": 50,
     "metadata": {},
     "output_type": "execute_result"
    }
   ],
   "source": [
    "file.write(\"안녕 \\n\")\n",
    "file.write(\"파이썬!!!\")"
   ]
  },
  {
   "cell_type": "code",
   "execution_count": 52,
   "metadata": {},
   "outputs": [],
   "source": [
    "file.close()"
   ]
  },
  {
   "cell_type": "code",
   "execution_count": 53,
   "metadata": {},
   "outputs": [
    {
     "name": "stdout",
     "output_type": "stream",
     "text": [
      "{\n",
      " \"cells\": [\n",
      "  {\n",
      "   \"cell_type\": \"code\",\n",
      "   \"execution_count\": 40,\n",
      "   \"metadata\": {},\n",
      "   \"outputs\": [\n",
      "    {\n",
      "     \"data\": {\n",
      "      \"text/plain\": [\n",
      "       \"<_io.TextIOWrapper name='scores.txt' mode='w' encoding='utf8'>\"\n",
      "      ]\n",
      "     },\n",
      "     \"execution_count\": 40,\n",
      "     \"metadata\": {},\n",
      "     \"output_type\": \"execute_result\"\n",
      "    }\n",
      "   ],\n",
      "   \"source\": [\n",
      "    \"file = open('scores.txt', 'w', encoding='utf8')\\n\",\n",
      "    \"file\"\n",
      "   ]\n",
      "  },\n",
      "  {\n",
      "   \"cell_type\": \"code\",\n",
      "   \"execution_count\": 12,\n",
      "   \"metadata\": {},\n",
      "   \"outputs\": [\n",
      "    {\n",
      "     \"data\": {\n",
      "      \"text/plain\": [\n",
      "       \"_io.TextIOWrapper\"\n",
      "      ]\n",
      "     },\n",
      "     \"execution_count\": 12,\n",
      "     \"metadata\": {},\n",
      "     \"output_type\": \"execute_result\"\n",
      "    }\n",
      "   ],\n",
      "   \"source\": [\n",
      "    \"type(file)\"\n",
      "   ]\n",
      "  },\n",
      "  {\n",
      "   \"cell_type\": \"code\",\n",
      "   \"execution_count\": 41,\n",
      "   \"metadata\": {},\n",
      "   \"outputs\": [\n",
      "    {\n",
      "     \"data\": {\n",
      "      \"text/plain\": [\n",
      "       \"13\"\n",
      "      ]\n",
      "     },\n",
      "     \"execution_count\": 41,\n",
      "     \"metadata\": {},\n",
      "     \"output_type\": \"execute_result\"\n",
      "    }\n",
      "   ],\n",
      "   \"source\": [\n",
      "    \"file.write(\\\"안녕하세요\\\\n\\\")\\n\",\n",
      "    \"file.write(\\\"반갑습니다. 여러분!!!\\\")\"\n",
      "   ]\n",
      "  },\n",
      "  {\n",
      "   \"cell_type\": \"code\",\n",
      "   \"execution_count\": 42,\n",
      "   \"metadata\": {},\n",
      "   \"outputs\": [],\n",
      "   \"source\": [\n",
      "    \"file.close()\"\n",
      "   ]\n",
      "  },\n",
      "  {\n",
      "   \"cell_type\": \"code\",\n",
      "   \"execution_count\": 16,\n",
      "   \"metadata\": {},\n",
      "   \"outputs\": [\n",
      "    {\n",
      "     \"ename\": \"TypeError\",\n",
      "     \"evalue\": \"'_io.TextIOWrapper' object is not callable\",\n",
      "     \"output_type\": \"error\",\n",
      "     \"traceback\": [\n",
      "      \"\\u001b[1;31m---------------------------------------------------------------------------\\u001b[0m\",\n",
      "      \"\\u001b[1;31mTypeError\\u001b[0m                                 Traceback (most recent call last)\",\n",
      "      \"\\u001b[1;32m<ipython-input-16-6e69165c9250>\\u001b[0m in \\u001b[0;36m<module>\\u001b[1;34m\\u001b[0m\\n\\u001b[1;32m----> 1\\u001b[1;33m \\u001b[0mfile\\u001b[0m\\u001b[1;33m(\\u001b[0m\\u001b[0mfile\\u001b[0m\\u001b[1;33m)\\u001b[0m\\u001b[1;33m\\u001b[0m\\u001b[1;33m\\u001b[0m\\u001b[0m\\n\\u001b[0m\",\n",
      "      \"\\u001b[1;31mTypeError\\u001b[0m: '_io.TextIOWrapper' object is not callable\"\n",
      "     ]\n",
      "    }\n",
      "   ],\n",
      "   \"source\": [\n",
      "    \"file(file)\"\n",
      "   ]\n",
      "  },\n",
      "  {\n",
      "   \"cell_type\": \"code\",\n",
      "   \"execution_count\": 34,\n",
      "   \"metadata\": {},\n",
      "   \"outputs\": [],\n",
      "   \"source\": [\n",
      "    \"file = open('scores.txt', 'r', encoding='utf8')\"\n",
      "   ]\n",
      "  },\n",
      "  {\n",
      "   \"cell_type\": \"code\",\n",
      "   \"execution_count\": 35,\n",
      "   \"metadata\": {},\n",
      "   \"outputs\": [\n",
      "    {\n",
      "     \"data\": {\n",
      "      \"text/plain\": [\n",
      "       \"['안녕하세요 \\\\n', '반갑습니다. 여러분!!!안녕하세요 \\\\n', '반갑습니다. 여러분!!!안녕하세요\\\\n', '반갑습니다. 여러분!!!']\"\n",
      "      ]\n",
      "     },\n",
      "     \"execution_count\": 35,\n",
      "     \"metadata\": {},\n",
      "     \"output_type\": \"execute_result\"\n",
      "    }\n",
      "   ],\n",
      "   \"source\": [\n",
      "    \"lines = file.readlines()   #전체 텍스트를 다 읽고 리스토로 반환\\n\",\n",
      "    \"lines\"\n",
      "   ]\n",
      "  },\n",
      "  {\n",
      "   \"cell_type\": \"code\",\n",
      "   \"execution_count\": 20,\n",
      "   \"metadata\": {},\n",
      "   \"outputs\": [\n",
      "    {\n",
      "     \"name\": \"stdout\",\n",
      "     \"output_type\": \"stream\",\n",
      "     \"text\": [\n",
      "      \"안녕하세요반갑습니다. 여러분!!!\"\n",
      "     ]\n",
      "    }\n",
      "   ],\n",
      "   \"source\": [\n",
      "    \"for line in lines:\\n\",\n",
      "    \"    print(line, end='')\"\n",
      "   ]\n",
      "  },\n",
      "  {\n",
      "   \"cell_type\": \"code\",\n",
      "   \"execution_count\": 36,\n",
      "   \"metadata\": {},\n",
      "   \"outputs\": [],\n",
      "   \"source\": [\n",
      "    \"file.close()\"\n",
      "   ]\n",
      "  },\n",
      "  {\n",
      "   \"cell_type\": \"code\",\n",
      "   \"execution_count\": 43,\n",
      "   \"metadata\": {},\n",
      "   \"outputs\": [\n",
      "    {\n",
      "     \"data\": {\n",
      "      \"text/plain\": [\n",
      "       \"<_io.TextIOWrapper name='scores.txt' mode='a' encoding='utf8'>\"\n",
      "      ]\n",
      "     },\n",
      "     \"execution_count\": 43,\n",
      "     \"metadata\": {},\n",
      "     \"output_type\": \"execute_result\"\n",
      "    }\n",
      "   ],\n",
      "   \"source\": [\n",
      "    \"file = open('scores.txt', 'a', encoding='utf8')\\n\",\n",
      "    \"file\"\n",
      "   ]\n",
      "  },\n",
      "  {\n",
      "   \"cell_type\": \"code\",\n",
      "   \"execution_count\": 44,\n",
      "   \"metadata\": {},\n",
      "   \"outputs\": [\n",
      "    {\n",
      "     \"data\": {\n",
      "      \"text/plain\": [\n",
      "       \"21\"\n",
      "      ]\n",
      "     },\n",
      "     \"execution_count\": 44,\n",
      "     \"metadata\": {},\n",
      "     \"output_type\": \"execute_result\"\n",
      "    }\n",
      "   ],\n",
      "   \"source\": [\n",
      "    \"file.write(\\\"안dhdh\\\\n\\\")\\n\",\n",
      "    \"file.write(\\\"반asdasd다. 여asdasd분!!!\\\")\"\n",
      "   ]\n",
      "  },\n",
      "  {\n",
      "   \"cell_type\": \"code\",\n",
      "   \"execution_count\": 45,\n",
      "   \"metadata\": {},\n",
      "   \"outputs\": [],\n",
      "   \"source\": [\n",
      "    \"file.close()\"\n",
      "   ]\n",
      "  },\n",
      "  {\n",
      "   \"cell_type\": \"code\",\n",
      "   \"execution_count\": 49,\n",
      "   \"metadata\": {},\n",
      "   \"outputs\": [\n",
      "    {\n",
      "     \"data\": {\n",
      "      \"text/plain\": [\n",
      "       \"<_io.TextIOWrapper name='scores2.txt' mode='a' encoding='utf8'>\"\n",
      "      ]\n",
      "     },\n",
      "     \"execution_count\": 49,\n",
      "     \"metadata\": {},\n",
      "     \"output_type\": \"execute_result\"\n",
      "    }\n",
      "   ],\n",
      "   \"source\": [\n",
      "    \"file = open('scores2.txt', 'a', encoding='utf8')\\n\",\n",
      "    \"file\"\n",
      "   ]\n",
      "  },\n",
      "  {\n",
      "   \"cell_type\": \"code\",\n",
      "   \"execution_count\": 50,\n",
      "   \"metadata\": {},\n",
      "   \"outputs\": [\n",
      "    {\n",
      "     \"data\": {\n",
      "      \"text/plain\": [\n",
      "       \"6\"\n",
      "      ]\n",
      "     },\n",
      "     \"execution_count\": 50,\n",
      "     \"metadata\": {},\n",
      "     \"output_type\": \"execute_result\"\n",
      "    }\n",
      "   ],\n",
      "   \"source\": [\n",
      "    \"file.write(\\\"안녕 \\\\n\\\")\\n\",\n",
      "    \"file.write(\\\"파이썬!!!\\\")\"\n",
      "   ]\n",
      "  },\n",
      "  {\n",
      "   \"cell_type\": \"code\",\n",
      "   \"execution_count\": 52,\n",
      "   \"metadata\": {},\n",
      "   \"outputs\": [],\n",
      "   \"source\": [\n",
      "    \"file.close()\"\n",
      "   ]\n",
      "  },\n",
      "  {\n",
      "   \"cell_type\": \"code\",\n",
      "   \"execution_count\": null,\n",
      "   \"metadata\": {},\n",
      "   \"outputs\": [],\n",
      "   \"source\": [\n",
      "    \"file = open('scores.txt', 'w', encoding='utf8')\\n\",\n",
      "    \"file\"\n",
      "   ]\n",
      "  }\n",
      " ],\n",
      " \"metadata\": {\n",
      "  \"kernelspec\": {\n",
      "   \"display_name\": \"Python 3\",\n",
      "   \"language\": \"python\",\n",
      "   \"name\": \"python3\"\n",
      "  },\n",
      "  \"language_info\": {\n",
      "   \"codemirror_mode\": {\n",
      "    \"name\": \"ipython\",\n",
      "    \"version\": 3\n",
      "   },\n",
      "   \"file_extension\": \".py\",\n",
      "   \"mimetype\": \"text/x-python\",\n",
      "   \"name\": \"python\",\n",
      "   \"nbconvert_exporter\": \"python\",\n",
      "   \"pygments_lexer\": \"ipython3\",\n",
      "   \"version\": \"3.6.12\"\n",
      "  }\n",
      " },\n",
      " \"nbformat\": 4,\n",
      " \"nbformat_minor\": 4\n",
      "}\n"
     ]
    }
   ],
   "source": [
    "file = open('Untitled2.ipynb', 'r', encoding='utf8')\n",
    "lines=file.readlines()\n",
    "for line in lines:\n",
    "    print(line, end='')\n"
   ]
  },
  {
   "cell_type": "code",
   "execution_count": 54,
   "metadata": {},
   "outputs": [],
   "source": [
    "file.close()"
   ]
  },
  {
   "cell_type": "code",
   "execution_count": 67,
   "metadata": {},
   "outputs": [
    {
     "name": "stdout",
     "output_type": "stream",
     "text": [
      "['{\\n', ' \"cells\": [\\n', '  {\\n', '   \"cell_type\": \"code\",\\n', '   \"execution_count\": 40,\\n', '   \"metadata\": {},\\n', '   \"outputs\": [\\n', '    {\\n', '     \"data\": {\\n', '      \"text/plain\": [\\n', '       \"<_io.TextIOWrapper name=\\'scores.txt\\' mode=\\'w\\' encoding=\\'utf8\\'>\"\\n', '      ]\\n', '     },\\n', '     \"execution_count\": 40,\\n', '     \"metadata\": {},\\n', '     \"output_type\": \"execute_result\"\\n', '    }\\n', '   ],\\n', '   \"source\": [\\n', '    \"file = open(\\'scores.txt\\', \\'w\\', encoding=\\'utf8\\')\\\\n\",\\n', '    \"file\"\\n', '   ]\\n', '  },\\n', '  {\\n', '   \"cell_type\": \"code\",\\n', '   \"execution_count\": 12,\\n', '   \"metadata\": {},\\n', '   \"outputs\": [\\n', '    {\\n', '     \"data\": {\\n', '      \"text/plain\": [\\n', '       \"_io.TextIOWrapper\"\\n', '      ]\\n', '     },\\n', '     \"execution_count\": 12,\\n', '     \"metadata\": {},\\n', '     \"output_type\": \"execute_result\"\\n', '    }\\n', '   ],\\n', '   \"source\": [\\n', '    \"type(file)\"\\n', '   ]\\n', '  },\\n', '  {\\n', '   \"cell_type\": \"code\",\\n', '   \"execution_count\": 41,\\n', '   \"metadata\": {},\\n', '   \"outputs\": [\\n', '    {\\n', '     \"data\": {\\n', '      \"text/plain\": [\\n', '       \"13\"\\n', '      ]\\n', '     },\\n', '     \"execution_count\": 41,\\n', '     \"metadata\": {},\\n', '     \"output_type\": \"execute_result\"\\n', '    }\\n', '   ],\\n', '   \"source\": [\\n', '    \"file.write(\\\\\"안녕하세요\\\\\\\\n\\\\\")\\\\n\",\\n', '    \"file.write(\\\\\"반갑습니다. 여러분!!!\\\\\")\"\\n', '   ]\\n', '  },\\n', '  {\\n', '   \"cell_type\": \"code\",\\n', '   \"execution_count\": 42,\\n', '   \"metadata\": {},\\n', '   \"outputs\": [],\\n', '   \"source\": [\\n', '    \"file.close()\"\\n', '   ]\\n', '  },\\n', '  {\\n', '   \"cell_type\": \"code\",\\n', '   \"execution_count\": 16,\\n', '   \"metadata\": {},\\n', '   \"outputs\": [\\n', '    {\\n', '     \"ename\": \"TypeError\",\\n', '     \"evalue\": \"\\'_io.TextIOWrapper\\' object is not callable\",\\n', '     \"output_type\": \"error\",\\n', '     \"traceback\": [\\n', '      \"\\\\u001b[1;31m---------------------------------------------------------------------------\\\\u001b[0m\",\\n', '      \"\\\\u001b[1;31mTypeError\\\\u001b[0m                                 Traceback (most recent call last)\",\\n', '      \"\\\\u001b[1;32m<ipython-input-16-6e69165c9250>\\\\u001b[0m in \\\\u001b[0;36m<module>\\\\u001b[1;34m\\\\u001b[0m\\\\n\\\\u001b[1;32m----> 1\\\\u001b[1;33m \\\\u001b[0mfile\\\\u001b[0m\\\\u001b[1;33m(\\\\u001b[0m\\\\u001b[0mfile\\\\u001b[0m\\\\u001b[1;33m)\\\\u001b[0m\\\\u001b[1;33m\\\\u001b[0m\\\\u001b[1;33m\\\\u001b[0m\\\\u001b[0m\\\\n\\\\u001b[0m\",\\n', '      \"\\\\u001b[1;31mTypeError\\\\u001b[0m: \\'_io.TextIOWrapper\\' object is not callable\"\\n', '     ]\\n', '    }\\n', '   ],\\n', '   \"source\": [\\n', '    \"file(file)\"\\n', '   ]\\n', '  },\\n', '  {\\n', '   \"cell_type\": \"code\",\\n', '   \"execution_count\": 34,\\n', '   \"metadata\": {},\\n', '   \"outputs\": [],\\n', '   \"source\": [\\n', '    \"file = open(\\'scores.txt\\', \\'r\\', encoding=\\'utf8\\')\"\\n', '   ]\\n', '  },\\n', '  {\\n', '   \"cell_type\": \"code\",\\n', '   \"execution_count\": 35,\\n', '   \"metadata\": {},\\n', '   \"outputs\": [\\n', '    {\\n', '     \"data\": {\\n', '      \"text/plain\": [\\n', '       \"[\\'안녕하세요 \\\\\\\\n\\', \\'반갑습니다. 여러분!!!안녕하세요 \\\\\\\\n\\', \\'반갑습니다. 여러분!!!안녕하세요\\\\\\\\n\\', \\'반갑습니다. 여러분!!!\\']\"\\n', '      ]\\n', '     },\\n', '     \"execution_count\": 35,\\n', '     \"metadata\": {},\\n', '     \"output_type\": \"execute_result\"\\n', '    }\\n', '   ],\\n', '   \"source\": [\\n', '    \"lines = file.readlines()   #전체 텍스트를 다 읽고 리스토로 반환\\\\n\",\\n', '    \"lines\"\\n', '   ]\\n', '  },\\n', '  {\\n', '   \"cell_type\": \"code\",\\n', '   \"execution_count\": 20,\\n', '   \"metadata\": {},\\n', '   \"outputs\": [\\n', '    {\\n', '     \"name\": \"stdout\",\\n', '     \"output_type\": \"stream\",\\n', '     \"text\": [\\n', '      \"안녕하세요반갑습니다. 여러분!!!\"\\n', '     ]\\n', '    }\\n', '   ],\\n', '   \"source\": [\\n', '    \"for line in lines:\\\\n\",\\n', '    \"    print(line, end=\\'\\')\"\\n', '   ]\\n', '  },\\n', '  {\\n', '   \"cell_type\": \"code\",\\n', '   \"execution_count\": 36,\\n', '   \"metadata\": {},\\n', '   \"outputs\": [],\\n', '   \"source\": [\\n', '    \"file.close()\"\\n', '   ]\\n', '  },\\n', '  {\\n', '   \"cell_type\": \"code\",\\n', '   \"execution_count\": 43,\\n', '   \"metadata\": {},\\n', '   \"outputs\": [\\n', '    {\\n', '     \"data\": {\\n', '      \"text/plain\": [\\n', '       \"<_io.TextIOWrapper name=\\'scores.txt\\' mode=\\'a\\' encoding=\\'utf8\\'>\"\\n', '      ]\\n', '     },\\n', '     \"execution_count\": 43,\\n', '     \"metadata\": {},\\n', '     \"output_type\": \"execute_result\"\\n', '    }\\n', '   ],\\n', '   \"source\": [\\n', '    \"file = open(\\'scores.txt\\', \\'a\\', encoding=\\'utf8\\')\\\\n\",\\n', '    \"file\"\\n', '   ]\\n', '  },\\n', '  {\\n', '   \"cell_type\": \"code\",\\n', '   \"execution_count\": 44,\\n', '   \"metadata\": {},\\n', '   \"outputs\": [\\n', '    {\\n', '     \"data\": {\\n', '      \"text/plain\": [\\n', '       \"21\"\\n', '      ]\\n', '     },\\n', '     \"execution_count\": 44,\\n', '     \"metadata\": {},\\n', '     \"output_type\": \"execute_result\"\\n', '    }\\n', '   ],\\n', '   \"source\": [\\n', '    \"file.write(\\\\\"안dhdh\\\\\\\\n\\\\\")\\\\n\",\\n', '    \"file.write(\\\\\"반asdasd다. 여asdasd분!!!\\\\\")\"\\n', '   ]\\n', '  },\\n', '  {\\n', '   \"cell_type\": \"code\",\\n', '   \"execution_count\": 45,\\n', '   \"metadata\": {},\\n', '   \"outputs\": [],\\n', '   \"source\": [\\n', '    \"file.close()\"\\n', '   ]\\n', '  },\\n', '  {\\n', '   \"cell_type\": \"code\",\\n', '   \"execution_count\": 49,\\n', '   \"metadata\": {},\\n', '   \"outputs\": [\\n', '    {\\n', '     \"data\": {\\n', '      \"text/plain\": [\\n', '       \"<_io.TextIOWrapper name=\\'scores2.txt\\' mode=\\'a\\' encoding=\\'utf8\\'>\"\\n', '      ]\\n', '     },\\n', '     \"execution_count\": 49,\\n', '     \"metadata\": {},\\n', '     \"output_type\": \"execute_result\"\\n', '    }\\n', '   ],\\n', '   \"source\": [\\n', '    \"file = open(\\'scores2.txt\\', \\'a\\', encoding=\\'utf8\\')\\\\n\",\\n', '    \"file\"\\n', '   ]\\n', '  },\\n', '  {\\n', '   \"cell_type\": \"code\",\\n', '   \"execution_count\": 50,\\n', '   \"metadata\": {},\\n', '   \"outputs\": [\\n', '    {\\n', '     \"data\": {\\n', '      \"text/plain\": [\\n', '       \"6\"\\n', '      ]\\n', '     },\\n', '     \"execution_count\": 50,\\n', '     \"metadata\": {},\\n', '     \"output_type\": \"execute_result\"\\n', '    }\\n', '   ],\\n', '   \"source\": [\\n', '    \"file.write(\\\\\"안녕 \\\\\\\\n\\\\\")\\\\n\",\\n', '    \"file.write(\\\\\"파이썬!!!\\\\\")\"\\n', '   ]\\n', '  },\\n', '  {\\n', '   \"cell_type\": \"code\",\\n', '   \"execution_count\": 52,\\n', '   \"metadata\": {},\\n', '   \"outputs\": [],\\n', '   \"source\": [\\n', '    \"file.close()\"\\n', '   ]\\n', '  },\\n', '  {\\n', '   \"cell_type\": \"code\",\\n', '   \"execution_count\": 53,\\n', '   \"metadata\": {},\\n', '   \"outputs\": [\\n', '    {\\n', '     \"name\": \"stdout\",\\n', '     \"output_type\": \"stream\",\\n', '     \"text\": [\\n', '      \"{\\\\n\",\\n', '      \" \\\\\"cells\\\\\": [\\\\n\",\\n', '      \"  {\\\\n\",\\n', '      \"   \\\\\"cell_type\\\\\": \\\\\"code\\\\\",\\\\n\",\\n', '      \"   \\\\\"execution_count\\\\\": 40,\\\\n\",\\n', '      \"   \\\\\"metadata\\\\\": {},\\\\n\",\\n', '      \"   \\\\\"outputs\\\\\": [\\\\n\",\\n', '      \"    {\\\\n\",\\n', '      \"     \\\\\"data\\\\\": {\\\\n\",\\n', '      \"      \\\\\"text/plain\\\\\": [\\\\n\",\\n', '      \"       \\\\\"<_io.TextIOWrapper name=\\'scores.txt\\' mode=\\'w\\' encoding=\\'utf8\\'>\\\\\"\\\\n\",\\n', '      \"      ]\\\\n\",\\n', '      \"     },\\\\n\",\\n', '      \"     \\\\\"execution_count\\\\\": 40,\\\\n\",\\n', '      \"     \\\\\"metadata\\\\\": {},\\\\n\",\\n', '      \"     \\\\\"output_type\\\\\": \\\\\"execute_result\\\\\"\\\\n\",\\n', '      \"    }\\\\n\",\\n', '      \"   ],\\\\n\",\\n', '      \"   \\\\\"source\\\\\": [\\\\n\",\\n', '      \"    \\\\\"file = open(\\'scores.txt\\', \\'w\\', encoding=\\'utf8\\')\\\\\\\\n\\\\\",\\\\n\",\\n', '      \"    \\\\\"file\\\\\"\\\\n\",\\n', '      \"   ]\\\\n\",\\n', '      \"  },\\\\n\",\\n', '      \"  {\\\\n\",\\n', '      \"   \\\\\"cell_type\\\\\": \\\\\"code\\\\\",\\\\n\",\\n', '      \"   \\\\\"execution_count\\\\\": 12,\\\\n\",\\n', '      \"   \\\\\"metadata\\\\\": {},\\\\n\",\\n', '      \"   \\\\\"outputs\\\\\": [\\\\n\",\\n', '      \"    {\\\\n\",\\n', '      \"     \\\\\"data\\\\\": {\\\\n\",\\n', '      \"      \\\\\"text/plain\\\\\": [\\\\n\",\\n', '      \"       \\\\\"_io.TextIOWrapper\\\\\"\\\\n\",\\n', '      \"      ]\\\\n\",\\n', '      \"     },\\\\n\",\\n', '      \"     \\\\\"execution_count\\\\\": 12,\\\\n\",\\n', '      \"     \\\\\"metadata\\\\\": {},\\\\n\",\\n', '      \"     \\\\\"output_type\\\\\": \\\\\"execute_result\\\\\"\\\\n\",\\n', '      \"    }\\\\n\",\\n', '      \"   ],\\\\n\",\\n', '      \"   \\\\\"source\\\\\": [\\\\n\",\\n', '      \"    \\\\\"type(file)\\\\\"\\\\n\",\\n', '      \"   ]\\\\n\",\\n', '      \"  },\\\\n\",\\n', '      \"  {\\\\n\",\\n', '      \"   \\\\\"cell_type\\\\\": \\\\\"code\\\\\",\\\\n\",\\n', '      \"   \\\\\"execution_count\\\\\": 41,\\\\n\",\\n', '      \"   \\\\\"metadata\\\\\": {},\\\\n\",\\n', '      \"   \\\\\"outputs\\\\\": [\\\\n\",\\n', '      \"    {\\\\n\",\\n', '      \"     \\\\\"data\\\\\": {\\\\n\",\\n', '      \"      \\\\\"text/plain\\\\\": [\\\\n\",\\n', '      \"       \\\\\"13\\\\\"\\\\n\",\\n', '      \"      ]\\\\n\",\\n', '      \"     },\\\\n\",\\n', '      \"     \\\\\"execution_count\\\\\": 41,\\\\n\",\\n', '      \"     \\\\\"metadata\\\\\": {},\\\\n\",\\n', '      \"     \\\\\"output_type\\\\\": \\\\\"execute_result\\\\\"\\\\n\",\\n', '      \"    }\\\\n\",\\n', '      \"   ],\\\\n\",\\n', '      \"   \\\\\"source\\\\\": [\\\\n\",\\n', '      \"    \\\\\"file.write(\\\\\\\\\\\\\"안녕하세요\\\\\\\\\\\\\\\\n\\\\\\\\\\\\\")\\\\\\\\n\\\\\",\\\\n\",\\n', '      \"    \\\\\"file.write(\\\\\\\\\\\\\"반갑습니다. 여러분!!!\\\\\\\\\\\\\")\\\\\"\\\\n\",\\n', '      \"   ]\\\\n\",\\n', '      \"  },\\\\n\",\\n', '      \"  {\\\\n\",\\n', '      \"   \\\\\"cell_type\\\\\": \\\\\"code\\\\\",\\\\n\",\\n', '      \"   \\\\\"execution_count\\\\\": 42,\\\\n\",\\n', '      \"   \\\\\"metadata\\\\\": {},\\\\n\",\\n', '      \"   \\\\\"outputs\\\\\": [],\\\\n\",\\n', '      \"   \\\\\"source\\\\\": [\\\\n\",\\n', '      \"    \\\\\"file.close()\\\\\"\\\\n\",\\n', '      \"   ]\\\\n\",\\n', '      \"  },\\\\n\",\\n', '      \"  {\\\\n\",\\n', '      \"   \\\\\"cell_type\\\\\": \\\\\"code\\\\\",\\\\n\",\\n', '      \"   \\\\\"execution_count\\\\\": 16,\\\\n\",\\n', '      \"   \\\\\"metadata\\\\\": {},\\\\n\",\\n', '      \"   \\\\\"outputs\\\\\": [\\\\n\",\\n', '      \"    {\\\\n\",\\n', '      \"     \\\\\"ename\\\\\": \\\\\"TypeError\\\\\",\\\\n\",\\n', '      \"     \\\\\"evalue\\\\\": \\\\\"\\'_io.TextIOWrapper\\' object is not callable\\\\\",\\\\n\",\\n', '      \"     \\\\\"output_type\\\\\": \\\\\"error\\\\\",\\\\n\",\\n', '      \"     \\\\\"traceback\\\\\": [\\\\n\",\\n', '      \"      \\\\\"\\\\\\\\u001b[1;31m---------------------------------------------------------------------------\\\\\\\\u001b[0m\\\\\",\\\\n\",\\n', '      \"      \\\\\"\\\\\\\\u001b[1;31mTypeError\\\\\\\\u001b[0m                                 Traceback (most recent call last)\\\\\",\\\\n\",\\n', '      \"      \\\\\"\\\\\\\\u001b[1;32m<ipython-input-16-6e69165c9250>\\\\\\\\u001b[0m in \\\\\\\\u001b[0;36m<module>\\\\\\\\u001b[1;34m\\\\\\\\u001b[0m\\\\\\\\n\\\\\\\\u001b[1;32m----> 1\\\\\\\\u001b[1;33m \\\\\\\\u001b[0mfile\\\\\\\\u001b[0m\\\\\\\\u001b[1;33m(\\\\\\\\u001b[0m\\\\\\\\u001b[0mfile\\\\\\\\u001b[0m\\\\\\\\u001b[1;33m)\\\\\\\\u001b[0m\\\\\\\\u001b[1;33m\\\\\\\\u001b[0m\\\\\\\\u001b[1;33m\\\\\\\\u001b[0m\\\\\\\\u001b[0m\\\\\\\\n\\\\\\\\u001b[0m\\\\\",\\\\n\",\\n', '      \"      \\\\\"\\\\\\\\u001b[1;31mTypeError\\\\\\\\u001b[0m: \\'_io.TextIOWrapper\\' object is not callable\\\\\"\\\\n\",\\n', '      \"     ]\\\\n\",\\n', '      \"    }\\\\n\",\\n', '      \"   ],\\\\n\",\\n', '      \"   \\\\\"source\\\\\": [\\\\n\",\\n', '      \"    \\\\\"file(file)\\\\\"\\\\n\",\\n', '      \"   ]\\\\n\",\\n', '      \"  },\\\\n\",\\n', '      \"  {\\\\n\",\\n', '      \"   \\\\\"cell_type\\\\\": \\\\\"code\\\\\",\\\\n\",\\n', '      \"   \\\\\"execution_count\\\\\": 34,\\\\n\",\\n', '      \"   \\\\\"metadata\\\\\": {},\\\\n\",\\n', '      \"   \\\\\"outputs\\\\\": [],\\\\n\",\\n', '      \"   \\\\\"source\\\\\": [\\\\n\",\\n', '      \"    \\\\\"file = open(\\'scores.txt\\', \\'r\\', encoding=\\'utf8\\')\\\\\"\\\\n\",\\n', '      \"   ]\\\\n\",\\n', '      \"  },\\\\n\",\\n', '      \"  {\\\\n\",\\n', '      \"   \\\\\"cell_type\\\\\": \\\\\"code\\\\\",\\\\n\",\\n', '      \"   \\\\\"execution_count\\\\\": 35,\\\\n\",\\n', '      \"   \\\\\"metadata\\\\\": {},\\\\n\",\\n', '      \"   \\\\\"outputs\\\\\": [\\\\n\",\\n', '      \"    {\\\\n\",\\n', '      \"     \\\\\"data\\\\\": {\\\\n\",\\n', '      \"      \\\\\"text/plain\\\\\": [\\\\n\",\\n', '      \"       \\\\\"[\\'안녕하세요 \\\\\\\\\\\\\\\\n\\', \\'반갑습니다. 여러분!!!안녕하세요 \\\\\\\\\\\\\\\\n\\', \\'반갑습니다. 여러분!!!안녕하세요\\\\\\\\\\\\\\\\n\\', \\'반갑습니다. 여러분!!!\\']\\\\\"\\\\n\",\\n', '      \"      ]\\\\n\",\\n', '      \"     },\\\\n\",\\n', '      \"     \\\\\"execution_count\\\\\": 35,\\\\n\",\\n', '      \"     \\\\\"metadata\\\\\": {},\\\\n\",\\n', '      \"     \\\\\"output_type\\\\\": \\\\\"execute_result\\\\\"\\\\n\",\\n', '      \"    }\\\\n\",\\n', '      \"   ],\\\\n\",\\n', '      \"   \\\\\"source\\\\\": [\\\\n\",\\n', '      \"    \\\\\"lines = file.readlines()   #전체 텍스트를 다 읽고 리스토로 반환\\\\\\\\n\\\\\",\\\\n\",\\n', '      \"    \\\\\"lines\\\\\"\\\\n\",\\n', '      \"   ]\\\\n\",\\n', '      \"  },\\\\n\",\\n', '      \"  {\\\\n\",\\n', '      \"   \\\\\"cell_type\\\\\": \\\\\"code\\\\\",\\\\n\",\\n', '      \"   \\\\\"execution_count\\\\\": 20,\\\\n\",\\n', '      \"   \\\\\"metadata\\\\\": {},\\\\n\",\\n', '      \"   \\\\\"outputs\\\\\": [\\\\n\",\\n', '      \"    {\\\\n\",\\n', '      \"     \\\\\"name\\\\\": \\\\\"stdout\\\\\",\\\\n\",\\n', '      \"     \\\\\"output_type\\\\\": \\\\\"stream\\\\\",\\\\n\",\\n', '      \"     \\\\\"text\\\\\": [\\\\n\",\\n', '      \"      \\\\\"안녕하세요반갑습니다. 여러분!!!\\\\\"\\\\n\",\\n', '      \"     ]\\\\n\",\\n', '      \"    }\\\\n\",\\n', '      \"   ],\\\\n\",\\n', '      \"   \\\\\"source\\\\\": [\\\\n\",\\n', '      \"    \\\\\"for line in lines:\\\\\\\\n\\\\\",\\\\n\",\\n', '      \"    \\\\\"    print(line, end=\\'\\')\\\\\"\\\\n\",\\n', '      \"   ]\\\\n\",\\n', '      \"  },\\\\n\",\\n', '      \"  {\\\\n\",\\n', '      \"   \\\\\"cell_type\\\\\": \\\\\"code\\\\\",\\\\n\",\\n', '      \"   \\\\\"execution_count\\\\\": 36,\\\\n\",\\n', '      \"   \\\\\"metadata\\\\\": {},\\\\n\",\\n', '      \"   \\\\\"outputs\\\\\": [],\\\\n\",\\n', '      \"   \\\\\"source\\\\\": [\\\\n\",\\n', '      \"    \\\\\"file.close()\\\\\"\\\\n\",\\n', '      \"   ]\\\\n\",\\n', '      \"  },\\\\n\",\\n', '      \"  {\\\\n\",\\n', '      \"   \\\\\"cell_type\\\\\": \\\\\"code\\\\\",\\\\n\",\\n', '      \"   \\\\\"execution_count\\\\\": 43,\\\\n\",\\n', '      \"   \\\\\"metadata\\\\\": {},\\\\n\",\\n', '      \"   \\\\\"outputs\\\\\": [\\\\n\",\\n', '      \"    {\\\\n\",\\n', '      \"     \\\\\"data\\\\\": {\\\\n\",\\n', '      \"      \\\\\"text/plain\\\\\": [\\\\n\",\\n', '      \"       \\\\\"<_io.TextIOWrapper name=\\'scores.txt\\' mode=\\'a\\' encoding=\\'utf8\\'>\\\\\"\\\\n\",\\n', '      \"      ]\\\\n\",\\n', '      \"     },\\\\n\",\\n', '      \"     \\\\\"execution_count\\\\\": 43,\\\\n\",\\n', '      \"     \\\\\"metadata\\\\\": {},\\\\n\",\\n', '      \"     \\\\\"output_type\\\\\": \\\\\"execute_result\\\\\"\\\\n\",\\n', '      \"    }\\\\n\",\\n', '      \"   ],\\\\n\",\\n', '      \"   \\\\\"source\\\\\": [\\\\n\",\\n', '      \"    \\\\\"file = open(\\'scores.txt\\', \\'a\\', encoding=\\'utf8\\')\\\\\\\\n\\\\\",\\\\n\",\\n', '      \"    \\\\\"file\\\\\"\\\\n\",\\n', '      \"   ]\\\\n\",\\n', '      \"  },\\\\n\",\\n', '      \"  {\\\\n\",\\n', '      \"   \\\\\"cell_type\\\\\": \\\\\"code\\\\\",\\\\n\",\\n', '      \"   \\\\\"execution_count\\\\\": 44,\\\\n\",\\n', '      \"   \\\\\"metadata\\\\\": {},\\\\n\",\\n', '      \"   \\\\\"outputs\\\\\": [\\\\n\",\\n', '      \"    {\\\\n\",\\n', '      \"     \\\\\"data\\\\\": {\\\\n\",\\n', '      \"      \\\\\"text/plain\\\\\": [\\\\n\",\\n', '      \"       \\\\\"21\\\\\"\\\\n\",\\n', '      \"      ]\\\\n\",\\n', '      \"     },\\\\n\",\\n', '      \"     \\\\\"execution_count\\\\\": 44,\\\\n\",\\n', '      \"     \\\\\"metadata\\\\\": {},\\\\n\",\\n', '      \"     \\\\\"output_type\\\\\": \\\\\"execute_result\\\\\"\\\\n\",\\n', '      \"    }\\\\n\",\\n', '      \"   ],\\\\n\",\\n', '      \"   \\\\\"source\\\\\": [\\\\n\",\\n', '      \"    \\\\\"file.write(\\\\\\\\\\\\\"안dhdh\\\\\\\\\\\\\\\\n\\\\\\\\\\\\\")\\\\\\\\n\\\\\",\\\\n\",\\n', '      \"    \\\\\"file.write(\\\\\\\\\\\\\"반asdasd다. 여asdasd분!!!\\\\\\\\\\\\\")\\\\\"\\\\n\",\\n', '      \"   ]\\\\n\",\\n', '      \"  },\\\\n\",\\n', '      \"  {\\\\n\",\\n', '      \"   \\\\\"cell_type\\\\\": \\\\\"code\\\\\",\\\\n\",\\n', '      \"   \\\\\"execution_count\\\\\": 45,\\\\n\",\\n', '      \"   \\\\\"metadata\\\\\": {},\\\\n\",\\n', '      \"   \\\\\"outputs\\\\\": [],\\\\n\",\\n', '      \"   \\\\\"source\\\\\": [\\\\n\",\\n', '      \"    \\\\\"file.close()\\\\\"\\\\n\",\\n', '      \"   ]\\\\n\",\\n', '      \"  },\\\\n\",\\n', '      \"  {\\\\n\",\\n', '      \"   \\\\\"cell_type\\\\\": \\\\\"code\\\\\",\\\\n\",\\n', '      \"   \\\\\"execution_count\\\\\": 49,\\\\n\",\\n', '      \"   \\\\\"metadata\\\\\": {},\\\\n\",\\n', '      \"   \\\\\"outputs\\\\\": [\\\\n\",\\n', '      \"    {\\\\n\",\\n', '      \"     \\\\\"data\\\\\": {\\\\n\",\\n', '      \"      \\\\\"text/plain\\\\\": [\\\\n\",\\n', '      \"       \\\\\"<_io.TextIOWrapper name=\\'scores2.txt\\' mode=\\'a\\' encoding=\\'utf8\\'>\\\\\"\\\\n\",\\n', '      \"      ]\\\\n\",\\n', '      \"     },\\\\n\",\\n', '      \"     \\\\\"execution_count\\\\\": 49,\\\\n\",\\n', '      \"     \\\\\"metadata\\\\\": {},\\\\n\",\\n', '      \"     \\\\\"output_type\\\\\": \\\\\"execute_result\\\\\"\\\\n\",\\n', '      \"    }\\\\n\",\\n', '      \"   ],\\\\n\",\\n', '      \"   \\\\\"source\\\\\": [\\\\n\",\\n', '      \"    \\\\\"file = open(\\'scores2.txt\\', \\'a\\', encoding=\\'utf8\\')\\\\\\\\n\\\\\",\\\\n\",\\n', '      \"    \\\\\"file\\\\\"\\\\n\",\\n', '      \"   ]\\\\n\",\\n', '      \"  },\\\\n\",\\n', '      \"  {\\\\n\",\\n', '      \"   \\\\\"cell_type\\\\\": \\\\\"code\\\\\",\\\\n\",\\n', '      \"   \\\\\"execution_count\\\\\": 50,\\\\n\",\\n', '      \"   \\\\\"metadata\\\\\": {},\\\\n\",\\n', '      \"   \\\\\"outputs\\\\\": [\\\\n\",\\n', '      \"    {\\\\n\",\\n', '      \"     \\\\\"data\\\\\": {\\\\n\",\\n', '      \"      \\\\\"text/plain\\\\\": [\\\\n\",\\n', '      \"       \\\\\"6\\\\\"\\\\n\",\\n', '      \"      ]\\\\n\",\\n', '      \"     },\\\\n\",\\n', '      \"     \\\\\"execution_count\\\\\": 50,\\\\n\",\\n', '      \"     \\\\\"metadata\\\\\": {},\\\\n\",\\n', '      \"     \\\\\"output_type\\\\\": \\\\\"execute_result\\\\\"\\\\n\",\\n', '      \"    }\\\\n\",\\n', '      \"   ],\\\\n\",\\n', '      \"   \\\\\"source\\\\\": [\\\\n\",\\n', '      \"    \\\\\"file.write(\\\\\\\\\\\\\"안녕 \\\\\\\\\\\\\\\\n\\\\\\\\\\\\\")\\\\\\\\n\\\\\",\\\\n\",\\n', '      \"    \\\\\"file.write(\\\\\\\\\\\\\"파이썬!!!\\\\\\\\\\\\\")\\\\\"\\\\n\",\\n', '      \"   ]\\\\n\",\\n', '      \"  },\\\\n\",\\n', '      \"  {\\\\n\",\\n', '      \"   \\\\\"cell_type\\\\\": \\\\\"code\\\\\",\\\\n\",\\n', '      \"   \\\\\"execution_count\\\\\": 52,\\\\n\",\\n', '      \"   \\\\\"metadata\\\\\": {},\\\\n\",\\n', '      \"   \\\\\"outputs\\\\\": [],\\\\n\",\\n', '      \"   \\\\\"source\\\\\": [\\\\n\",\\n', '      \"    \\\\\"file.close()\\\\\"\\\\n\",\\n', '      \"   ]\\\\n\",\\n', '      \"  },\\\\n\",\\n', '      \"  {\\\\n\",\\n', '      \"   \\\\\"cell_type\\\\\": \\\\\"code\\\\\",\\\\n\",\\n', '      \"   \\\\\"execution_count\\\\\": null,\\\\n\",\\n', '      \"   \\\\\"metadata\\\\\": {},\\\\n\",\\n', '      \"   \\\\\"outputs\\\\\": [],\\\\n\",\\n', '      \"   \\\\\"source\\\\\": [\\\\n\",\\n', '      \"    \\\\\"file = open(\\'scores.txt\\', \\'w\\', encoding=\\'utf8\\')\\\\\\\\n\\\\\",\\\\n\",\\n', '      \"    \\\\\"file\\\\\"\\\\n\",\\n', '      \"   ]\\\\n\",\\n', '      \"  }\\\\n\",\\n', '      \" ],\\\\n\",\\n', '      \" \\\\\"metadata\\\\\": {\\\\n\",\\n', '      \"  \\\\\"kernelspec\\\\\": {\\\\n\",\\n', '      \"   \\\\\"display_name\\\\\": \\\\\"Python 3\\\\\",\\\\n\",\\n', '      \"   \\\\\"language\\\\\": \\\\\"python\\\\\",\\\\n\",\\n', '      \"   \\\\\"name\\\\\": \\\\\"python3\\\\\"\\\\n\",\\n', '      \"  },\\\\n\",\\n', '      \"  \\\\\"language_info\\\\\": {\\\\n\",\\n', '      \"   \\\\\"codemirror_mode\\\\\": {\\\\n\",\\n', '      \"    \\\\\"name\\\\\": \\\\\"ipython\\\\\",\\\\n\",\\n', '      \"    \\\\\"version\\\\\": 3\\\\n\",\\n', '      \"   },\\\\n\",\\n', '      \"   \\\\\"file_extension\\\\\": \\\\\".py\\\\\",\\\\n\",\\n', '      \"   \\\\\"mimetype\\\\\": \\\\\"text/x-python\\\\\",\\\\n\",\\n', '      \"   \\\\\"name\\\\\": \\\\\"python\\\\\",\\\\n\",\\n', '      \"   \\\\\"nbconvert_exporter\\\\\": \\\\\"python\\\\\",\\\\n\",\\n', '      \"   \\\\\"pygments_lexer\\\\\": \\\\\"ipython3\\\\\",\\\\n\",\\n', '      \"   \\\\\"version\\\\\": \\\\\"3.6.12\\\\\"\\\\n\",\\n', '      \"  }\\\\n\",\\n', '      \" },\\\\n\",\\n', '      \" \\\\\"nbformat\\\\\": 4,\\\\n\",\\n', '      \" \\\\\"nbformat_minor\\\\\": 4\\\\n\",\\n', '      \"}\\\\n\"\\n', '     ]\\n', '    }\\n', '   ],\\n', '   \"source\": [\\n', '    \"file = open(\\'Untitled2.ipynb\\', \\'r\\', encoding=\\'utf8\\')\\\\n\",\\n', '    \"lines=file.readlines()\\\\n\",\\n', '    \"for line in lines:\\\\n\",\\n', '    \"    print(line, end=\\'\\')\\\\n\"\\n', '   ]\\n', '  },\\n', '  {\\n', '   \"cell_type\": \"code\",\\n', '   \"execution_count\": 54,\\n', '   \"metadata\": {},\\n', '   \"outputs\": [],\\n', '   \"source\": [\\n', '    \"file.close()\"\\n', '   ]\\n', '  },\\n', '  {\\n', '   \"cell_type\": \"code\",\\n', '   \"execution_count\": 64,\\n', '   \"metadata\": {},\\n', '   \"outputs\": [\\n', '    {\\n', '     \"ename\": \"AttributeError\",\\n', '     \"evalue\": \"\\'list\\' object has no attribute \\'strip\\'\",\\n', '     \"output_type\": \"error\",\\n', '     \"traceback\": [\\n', '      \"\\\\u001b[1;31m---------------------------------------------------------------------------\\\\u001b[0m\",\\n', '      \"\\\\u001b[1;31mAttributeError\\\\u001b[0m                            Traceback (most recent call last)\",\\n', '      \"\\\\u001b[1;32m<ipython-input-64-1972b30827fd>\\\\u001b[0m in \\\\u001b[0;36m<module>\\\\u001b[1;34m\\\\u001b[0m\\\\n\\\\u001b[0;32m      5\\\\u001b[0m     \\\\u001b[1;32mif\\\\u001b[0m \\\\u001b[1;32mnot\\\\u001b[0m \\\\u001b[0mline\\\\u001b[0m\\\\u001b[1;33m:\\\\u001b[0m\\\\u001b[1;33m\\\\u001b[0m\\\\u001b[1;33m\\\\u001b[0m\\\\u001b[0m\\\\n\\\\u001b[0;32m      6\\\\u001b[0m         \\\\u001b[1;32mbreak\\\\u001b[0m\\\\u001b[1;33m\\\\u001b[0m\\\\u001b[1;33m\\\\u001b[0m\\\\u001b[0m\\\\n\\\\u001b[1;32m----> 7\\\\u001b[1;33m     \\\\u001b[0mline\\\\u001b[0m\\\\u001b[1;33m=\\\\u001b[0m\\\\u001b[0mline\\\\u001b[0m\\\\u001b[1;33m.\\\\u001b[0m\\\\u001b[0mstrip\\\\u001b[0m\\\\u001b[1;33m(\\\\u001b[0m\\\\u001b[1;33m)\\\\u001b[0m\\\\u001b[1;33m\\\\u001b[0m\\\\u001b[1;33m\\\\u001b[0m\\\\u001b[0m\\\\n\\\\u001b[0m\\\\u001b[0;32m      8\\\\u001b[0m     \\\\u001b[0mprint\\\\u001b[0m\\\\u001b[1;33m(\\\\u001b[0m\\\\u001b[0mline\\\\u001b[0m\\\\u001b[1;33m,\\\\u001b[0m \\\\u001b[0mend\\\\u001b[0m\\\\u001b[1;33m=\\\\u001b[0m\\\\u001b[1;34m\\'\\'\\\\u001b[0m\\\\u001b[1;33m)\\\\u001b[0m\\\\u001b[1;33m\\\\u001b[0m\\\\u001b[1;33m\\\\u001b[0m\\\\u001b[0m\\\\n\\\\u001b[0;32m      9\\\\u001b[0m \\\\u001b[0mfile\\\\u001b[0m\\\\u001b[1;33m.\\\\u001b[0m\\\\u001b[0mclose\\\\u001b[0m\\\\u001b[1;33m(\\\\u001b[0m\\\\u001b[1;33m)\\\\u001b[0m\\\\u001b[1;33m\\\\u001b[0m\\\\u001b[1;33m\\\\u001b[0m\\\\u001b[0m\\\\n\",\\n', '      \"\\\\u001b[1;31mAttributeError\\\\u001b[0m: \\'list\\' object has no attribute \\'strip\\'\"\\n', '     ]\\n', '    }\\n', '   ],\\n', '   \"source\": [\\n', '    \"file = open(\\'Untitled2.ipynb\\', \\'r\\', encoding=\\'utf8\\')\\\\n\",\\n', '    \"\\\\n\",\\n', '    \"while True:\\\\n\",\\n', '    \"    line=file.readlines()\\\\n\",\\n', '    \"    if not line:\\\\n\",\\n', '    \"        break\\\\n\",\\n', '    \"    line=line.strip()\\\\n\",\\n', '    \"    print(line, end=\\'\\')\\\\n\",\\n', '    \"file.close()\"\\n', '   ]\\n', '  },\\n', '  {\\n', '   \"cell_type\": \"code\",\\n', '   \"execution_count\": null,\\n', '   \"metadata\": {},\\n', '   \"outputs\": [],\\n', '   \"source\": []\\n', '  }\\n', ' ],\\n', ' \"metadata\": {\\n', '  \"kernelspec\": {\\n', '   \"display_name\": \"Python 3\",\\n', '   \"language\": \"python\",\\n', '   \"name\": \"python3\"\\n', '  },\\n', '  \"language_info\": {\\n', '   \"codemirror_mode\": {\\n', '    \"name\": \"ipython\",\\n', '    \"version\": 3\\n', '   },\\n', '   \"file_extension\": \".py\",\\n', '   \"mimetype\": \"text/x-python\",\\n', '   \"name\": \"python\",\\n', '   \"nbconvert_exporter\": \"python\",\\n', '   \"pygments_lexer\": \"ipython3\",\\n', '   \"version\": \"3.6.12\"\\n', '  }\\n', ' },\\n', ' \"nbformat\": 4,\\n', ' \"nbformat_minor\": 4\\n', '}\\n']"
     ]
    }
   ],
   "source": [
    "file = open('Untitled2.ipynb', 'r', encoding='utf8')\n",
    "\n",
    "while True:\n",
    "    line=file.readlines()\n",
    "    if not line:\n",
    "        break\n",
    "    print(line, end='')\n",
    "file.close()"
   ]
  },
  {
   "cell_type": "code",
   "execution_count": 73,
   "metadata": {},
   "outputs": [
    {
     "name": "stdout",
     "output_type": "stream",
     "text": [
      "{\n",
      " \"cells\": [\n",
      "  {\n",
      "   \"cell_type\": \"code\",\n",
      "   \"execution_count\": 40,\n",
      "   \"metadata\": {},\n",
      "   \"outputs\": [\n",
      "    {\n",
      "     \"data\": {\n",
      "      \"text/plain\": [\n",
      "       \"<_io.TextIOWrapper name='scores.txt' mode='w' encoding='utf8'>\"\n",
      "      ]\n",
      "     },\n",
      "     \"execution_count\": 40,\n",
      "     \"metadata\": {},\n",
      "     \"output_type\": \"execute_result\"\n",
      "    }\n",
      "   ],\n",
      "   \"source\": [\n",
      "    \"file = open('scores.txt', 'w', encoding='utf8')\\n\",\n",
      "    \"file\"\n",
      "   ]\n",
      "  },\n",
      "  {\n",
      "   \"cell_type\": \"code\",\n",
      "   \"execution_count\": 12,\n",
      "   \"metadata\": {},\n",
      "   \"outputs\": [\n",
      "    {\n",
      "     \"data\": {\n",
      "      \"text/plain\": [\n",
      "       \"_io.TextIOWrapper\"\n",
      "      ]\n",
      "     },\n",
      "     \"execution_count\": 12,\n",
      "     \"metadata\": {},\n",
      "     \"output_type\": \"execute_result\"\n",
      "    }\n",
      "   ],\n",
      "   \"source\": [\n",
      "    \"type(file)\"\n",
      "   ]\n",
      "  },\n",
      "  {\n",
      "   \"cell_type\": \"code\",\n",
      "   \"execution_count\": 41,\n",
      "   \"metadata\": {},\n",
      "   \"outputs\": [\n",
      "    {\n",
      "     \"data\": {\n",
      "      \"text/plain\": [\n",
      "       \"13\"\n",
      "      ]\n",
      "     },\n",
      "     \"execution_count\": 41,\n",
      "     \"metadata\": {},\n",
      "     \"output_type\": \"execute_result\"\n",
      "    }\n",
      "   ],\n",
      "   \"source\": [\n",
      "    \"file.write(\\\"안녕하세요\\\\n\\\")\\n\",\n",
      "    \"file.write(\\\"반갑습니다. 여러분!!!\\\")\"\n",
      "   ]\n",
      "  },\n",
      "  {\n",
      "   \"cell_type\": \"code\",\n",
      "   \"execution_count\": 42,\n",
      "   \"metadata\": {},\n",
      "   \"outputs\": [],\n",
      "   \"source\": [\n",
      "    \"file.close()\"\n",
      "   ]\n",
      "  },\n",
      "  {\n",
      "   \"cell_type\": \"code\",\n",
      "   \"execution_count\": 16,\n",
      "   \"metadata\": {},\n",
      "   \"outputs\": [\n",
      "    {\n",
      "     \"ename\": \"TypeError\",\n",
      "     \"evalue\": \"'_io.TextIOWrapper' object is not callable\",\n",
      "     \"output_type\": \"error\",\n",
      "     \"traceback\": [\n",
      "      \"\\u001b[1;31m---------------------------------------------------------------------------\\u001b[0m\",\n",
      "      \"\\u001b[1;31mTypeError\\u001b[0m                                 Traceback (most recent call last)\",\n",
      "      \"\\u001b[1;32m<ipython-input-16-6e69165c9250>\\u001b[0m in \\u001b[0;36m<module>\\u001b[1;34m\\u001b[0m\\n\\u001b[1;32m----> 1\\u001b[1;33m \\u001b[0mfile\\u001b[0m\\u001b[1;33m(\\u001b[0m\\u001b[0mfile\\u001b[0m\\u001b[1;33m)\\u001b[0m\\u001b[1;33m\\u001b[0m\\u001b[1;33m\\u001b[0m\\u001b[0m\\n\\u001b[0m\",\n",
      "      \"\\u001b[1;31mTypeError\\u001b[0m: '_io.TextIOWrapper' object is not callable\"\n",
      "     ]\n",
      "    }\n",
      "   ],\n",
      "   \"source\": [\n",
      "    \"file(file)\"\n",
      "   ]\n",
      "  },\n",
      "  {\n",
      "   \"cell_type\": \"code\",\n",
      "   \"execution_count\": 34,\n",
      "   \"metadata\": {},\n",
      "   \"outputs\": [],\n",
      "   \"source\": [\n",
      "    \"file = open('scores.txt', 'r', encoding='utf8')\"\n",
      "   ]\n",
      "  },\n",
      "  {\n",
      "   \"cell_type\": \"code\",\n",
      "   \"execution_count\": 35,\n",
      "   \"metadata\": {},\n",
      "   \"outputs\": [\n",
      "    {\n",
      "     \"data\": {\n",
      "      \"text/plain\": [\n",
      "       \"['안녕하세요 \\\\n', '반갑습니다. 여러분!!!안녕하세요 \\\\n', '반갑습니다. 여러분!!!안녕하세요\\\\n', '반갑습니다. 여러분!!!']\"\n",
      "      ]\n",
      "     },\n",
      "     \"execution_count\": 35,\n",
      "     \"metadata\": {},\n",
      "     \"output_type\": \"execute_result\"\n",
      "    }\n",
      "   ],\n",
      "   \"source\": [\n",
      "    \"lines = file.readlines()   #전체 텍스트를 다 읽고 리스토로 반환\\n\",\n",
      "    \"lines\"\n",
      "   ]\n",
      "  },\n",
      "  {\n",
      "   \"cell_type\": \"code\",\n",
      "   \"execution_count\": 20,\n",
      "   \"metadata\": {},\n",
      "   \"outputs\": [\n",
      "    {\n",
      "     \"name\": \"stdout\",\n",
      "     \"output_type\": \"stream\",\n",
      "     \"text\": [\n",
      "      \"안녕하세요반갑습니다. 여러분!!!\"\n",
      "     ]\n",
      "    }\n",
      "   ],\n",
      "   \"source\": [\n",
      "    \"for line in lines:\\n\",\n",
      "    \"    print(line, end='')\"\n",
      "   ]\n",
      "  },\n",
      "  {\n",
      "   \"cell_type\": \"code\",\n",
      "   \"execution_count\": 36,\n",
      "   \"metadata\": {},\n",
      "   \"outputs\": [],\n",
      "   \"source\": [\n",
      "    \"file.close()\"\n",
      "   ]\n",
      "  },\n",
      "  {\n",
      "   \"cell_type\": \"code\",\n",
      "   \"execution_count\": 43,\n",
      "   \"metadata\": {},\n",
      "   \"outputs\": [\n",
      "    {\n",
      "     \"data\": {\n",
      "      \"text/plain\": [\n",
      "       \"<_io.TextIOWrapper name='scores.txt' mode='a' encoding='utf8'>\"\n",
      "      ]\n",
      "     },\n",
      "     \"execution_count\": 43,\n",
      "     \"metadata\": {},\n",
      "     \"output_type\": \"execute_result\"\n",
      "    }\n",
      "   ],\n",
      "   \"source\": [\n",
      "    \"file = open('scores.txt', 'a', encoding='utf8')\\n\",\n",
      "    \"file\"\n",
      "   ]\n",
      "  },\n",
      "  {\n",
      "   \"cell_type\": \"code\",\n",
      "   \"execution_count\": 44,\n",
      "   \"metadata\": {},\n",
      "   \"outputs\": [\n",
      "    {\n",
      "     \"data\": {\n",
      "      \"text/plain\": [\n",
      "       \"21\"\n",
      "      ]\n",
      "     },\n",
      "     \"execution_count\": 44,\n",
      "     \"metadata\": {},\n",
      "     \"output_type\": \"execute_result\"\n",
      "    }\n",
      "   ],\n",
      "   \"source\": [\n",
      "    \"file.write(\\\"안dhdh\\\\n\\\")\\n\",\n",
      "    \"file.write(\\\"반asdasd다. 여asdasd분!!!\\\")\"\n",
      "   ]\n",
      "  },\n",
      "  {\n",
      "   \"cell_type\": \"code\",\n",
      "   \"execution_count\": 45,\n",
      "   \"metadata\": {},\n",
      "   \"outputs\": [],\n",
      "   \"source\": [\n",
      "    \"file.close()\"\n",
      "   ]\n",
      "  },\n",
      "  {\n",
      "   \"cell_type\": \"code\",\n",
      "   \"execution_count\": 49,\n",
      "   \"metadata\": {},\n",
      "   \"outputs\": [\n",
      "    {\n",
      "     \"data\": {\n",
      "      \"text/plain\": [\n",
      "       \"<_io.TextIOWrapper name='scores2.txt' mode='a' encoding='utf8'>\"\n",
      "      ]\n",
      "     },\n",
      "     \"execution_count\": 49,\n",
      "     \"metadata\": {},\n",
      "     \"output_type\": \"execute_result\"\n",
      "    }\n",
      "   ],\n",
      "   \"source\": [\n",
      "    \"file = open('scores2.txt', 'a', encoding='utf8')\\n\",\n",
      "    \"file\"\n",
      "   ]\n",
      "  },\n",
      "  {\n",
      "   \"cell_type\": \"code\",\n",
      "   \"execution_count\": 50,\n",
      "   \"metadata\": {},\n",
      "   \"outputs\": [\n",
      "    {\n",
      "     \"data\": {\n",
      "      \"text/plain\": [\n",
      "       \"6\"\n",
      "      ]\n",
      "     },\n",
      "     \"execution_count\": 50,\n",
      "     \"metadata\": {},\n",
      "     \"output_type\": \"execute_result\"\n",
      "    }\n",
      "   ],\n",
      "   \"source\": [\n",
      "    \"file.write(\\\"안녕 \\\\n\\\")\\n\",\n",
      "    \"file.write(\\\"파이썬!!!\\\")\"\n",
      "   ]\n",
      "  },\n",
      "  {\n",
      "   \"cell_type\": \"code\",\n",
      "   \"execution_count\": 52,\n",
      "   \"metadata\": {},\n",
      "   \"outputs\": [],\n",
      "   \"source\": [\n",
      "    \"file.close()\"\n",
      "   ]\n",
      "  },\n",
      "  {\n",
      "   \"cell_type\": \"code\",\n",
      "   \"execution_count\": 53,\n",
      "   \"metadata\": {},\n",
      "   \"outputs\": [\n",
      "    {\n",
      "     \"name\": \"stdout\",\n",
      "     \"output_type\": \"stream\",\n",
      "     \"text\": [\n",
      "      \"{\\n\",\n",
      "      \" \\\"cells\\\": [\\n\",\n",
      "      \"  {\\n\",\n",
      "      \"   \\\"cell_type\\\": \\\"code\\\",\\n\",\n",
      "      \"   \\\"execution_count\\\": 40,\\n\",\n",
      "      \"   \\\"metadata\\\": {},\\n\",\n",
      "      \"   \\\"outputs\\\": [\\n\",\n",
      "      \"    {\\n\",\n",
      "      \"     \\\"data\\\": {\\n\",\n",
      "      \"      \\\"text/plain\\\": [\\n\",\n",
      "      \"       \\\"<_io.TextIOWrapper name='scores.txt' mode='w' encoding='utf8'>\\\"\\n\",\n",
      "      \"      ]\\n\",\n",
      "      \"     },\\n\",\n",
      "      \"     \\\"execution_count\\\": 40,\\n\",\n",
      "      \"     \\\"metadata\\\": {},\\n\",\n",
      "      \"     \\\"output_type\\\": \\\"execute_result\\\"\\n\",\n",
      "      \"    }\\n\",\n",
      "      \"   ],\\n\",\n",
      "      \"   \\\"source\\\": [\\n\",\n",
      "      \"    \\\"file = open('scores.txt', 'w', encoding='utf8')\\\\n\\\",\\n\",\n",
      "      \"    \\\"file\\\"\\n\",\n",
      "      \"   ]\\n\",\n",
      "      \"  },\\n\",\n",
      "      \"  {\\n\",\n",
      "      \"   \\\"cell_type\\\": \\\"code\\\",\\n\",\n",
      "      \"   \\\"execution_count\\\": 12,\\n\",\n",
      "      \"   \\\"metadata\\\": {},\\n\",\n",
      "      \"   \\\"outputs\\\": [\\n\",\n",
      "      \"    {\\n\",\n",
      "      \"     \\\"data\\\": {\\n\",\n",
      "      \"      \\\"text/plain\\\": [\\n\",\n",
      "      \"       \\\"_io.TextIOWrapper\\\"\\n\",\n",
      "      \"      ]\\n\",\n",
      "      \"     },\\n\",\n",
      "      \"     \\\"execution_count\\\": 12,\\n\",\n",
      "      \"     \\\"metadata\\\": {},\\n\",\n",
      "      \"     \\\"output_type\\\": \\\"execute_result\\\"\\n\",\n",
      "      \"    }\\n\",\n",
      "      \"   ],\\n\",\n",
      "      \"   \\\"source\\\": [\\n\",\n",
      "      \"    \\\"type(file)\\\"\\n\",\n",
      "      \"   ]\\n\",\n",
      "      \"  },\\n\",\n",
      "      \"  {\\n\",\n",
      "      \"   \\\"cell_type\\\": \\\"code\\\",\\n\",\n",
      "      \"   \\\"execution_count\\\": 41,\\n\",\n",
      "      \"   \\\"metadata\\\": {},\\n\",\n",
      "      \"   \\\"outputs\\\": [\\n\",\n",
      "      \"    {\\n\",\n",
      "      \"     \\\"data\\\": {\\n\",\n",
      "      \"      \\\"text/plain\\\": [\\n\",\n",
      "      \"       \\\"13\\\"\\n\",\n",
      "      \"      ]\\n\",\n",
      "      \"     },\\n\",\n",
      "      \"     \\\"execution_count\\\": 41,\\n\",\n",
      "      \"     \\\"metadata\\\": {},\\n\",\n",
      "      \"     \\\"output_type\\\": \\\"execute_result\\\"\\n\",\n",
      "      \"    }\\n\",\n",
      "      \"   ],\\n\",\n",
      "      \"   \\\"source\\\": [\\n\",\n",
      "      \"    \\\"file.write(\\\\\\\"안녕하세요\\\\\\\\n\\\\\\\")\\\\n\\\",\\n\",\n",
      "      \"    \\\"file.write(\\\\\\\"반갑습니다. 여러분!!!\\\\\\\")\\\"\\n\",\n",
      "      \"   ]\\n\",\n",
      "      \"  },\\n\",\n",
      "      \"  {\\n\",\n",
      "      \"   \\\"cell_type\\\": \\\"code\\\",\\n\",\n",
      "      \"   \\\"execution_count\\\": 42,\\n\",\n",
      "      \"   \\\"metadata\\\": {},\\n\",\n",
      "      \"   \\\"outputs\\\": [],\\n\",\n",
      "      \"   \\\"source\\\": [\\n\",\n",
      "      \"    \\\"file.close()\\\"\\n\",\n",
      "      \"   ]\\n\",\n",
      "      \"  },\\n\",\n",
      "      \"  {\\n\",\n",
      "      \"   \\\"cell_type\\\": \\\"code\\\",\\n\",\n",
      "      \"   \\\"execution_count\\\": 16,\\n\",\n",
      "      \"   \\\"metadata\\\": {},\\n\",\n",
      "      \"   \\\"outputs\\\": [\\n\",\n",
      "      \"    {\\n\",\n",
      "      \"     \\\"ename\\\": \\\"TypeError\\\",\\n\",\n",
      "      \"     \\\"evalue\\\": \\\"'_io.TextIOWrapper' object is not callable\\\",\\n\",\n",
      "      \"     \\\"output_type\\\": \\\"error\\\",\\n\",\n",
      "      \"     \\\"traceback\\\": [\\n\",\n",
      "      \"      \\\"\\\\u001b[1;31m---------------------------------------------------------------------------\\\\u001b[0m\\\",\\n\",\n",
      "      \"      \\\"\\\\u001b[1;31mTypeError\\\\u001b[0m                                 Traceback (most recent call last)\\\",\\n\",\n",
      "      \"      \\\"\\\\u001b[1;32m<ipython-input-16-6e69165c9250>\\\\u001b[0m in \\\\u001b[0;36m<module>\\\\u001b[1;34m\\\\u001b[0m\\\\n\\\\u001b[1;32m----> 1\\\\u001b[1;33m \\\\u001b[0mfile\\\\u001b[0m\\\\u001b[1;33m(\\\\u001b[0m\\\\u001b[0mfile\\\\u001b[0m\\\\u001b[1;33m)\\\\u001b[0m\\\\u001b[1;33m\\\\u001b[0m\\\\u001b[1;33m\\\\u001b[0m\\\\u001b[0m\\\\n\\\\u001b[0m\\\",\\n\",\n",
      "      \"      \\\"\\\\u001b[1;31mTypeError\\\\u001b[0m: '_io.TextIOWrapper' object is not callable\\\"\\n\",\n",
      "      \"     ]\\n\",\n",
      "      \"    }\\n\",\n",
      "      \"   ],\\n\",\n",
      "      \"   \\\"source\\\": [\\n\",\n",
      "      \"    \\\"file(file)\\\"\\n\",\n",
      "      \"   ]\\n\",\n",
      "      \"  },\\n\",\n",
      "      \"  {\\n\",\n",
      "      \"   \\\"cell_type\\\": \\\"code\\\",\\n\",\n",
      "      \"   \\\"execution_count\\\": 34,\\n\",\n",
      "      \"   \\\"metadata\\\": {},\\n\",\n",
      "      \"   \\\"outputs\\\": [],\\n\",\n",
      "      \"   \\\"source\\\": [\\n\",\n",
      "      \"    \\\"file = open('scores.txt', 'r', encoding='utf8')\\\"\\n\",\n",
      "      \"   ]\\n\",\n",
      "      \"  },\\n\",\n",
      "      \"  {\\n\",\n",
      "      \"   \\\"cell_type\\\": \\\"code\\\",\\n\",\n",
      "      \"   \\\"execution_count\\\": 35,\\n\",\n",
      "      \"   \\\"metadata\\\": {},\\n\",\n",
      "      \"   \\\"outputs\\\": [\\n\",\n",
      "      \"    {\\n\",\n",
      "      \"     \\\"data\\\": {\\n\",\n",
      "      \"      \\\"text/plain\\\": [\\n\",\n",
      "      \"       \\\"['안녕하세요 \\\\\\\\n', '반갑습니다. 여러분!!!안녕하세요 \\\\\\\\n', '반갑습니다. 여러분!!!안녕하세요\\\\\\\\n', '반갑습니다. 여러분!!!']\\\"\\n\",\n",
      "      \"      ]\\n\",\n",
      "      \"     },\\n\",\n",
      "      \"     \\\"execution_count\\\": 35,\\n\",\n",
      "      \"     \\\"metadata\\\": {},\\n\",\n",
      "      \"     \\\"output_type\\\": \\\"execute_result\\\"\\n\",\n",
      "      \"    }\\n\",\n",
      "      \"   ],\\n\",\n",
      "      \"   \\\"source\\\": [\\n\",\n",
      "      \"    \\\"lines = file.readlines()   #전체 텍스트를 다 읽고 리스토로 반환\\\\n\\\",\\n\",\n",
      "      \"    \\\"lines\\\"\\n\",\n",
      "      \"   ]\\n\",\n",
      "      \"  },\\n\",\n",
      "      \"  {\\n\",\n",
      "      \"   \\\"cell_type\\\": \\\"code\\\",\\n\",\n",
      "      \"   \\\"execution_count\\\": 20,\\n\",\n",
      "      \"   \\\"metadata\\\": {},\\n\",\n",
      "      \"   \\\"outputs\\\": [\\n\",\n",
      "      \"    {\\n\",\n",
      "      \"     \\\"name\\\": \\\"stdout\\\",\\n\",\n",
      "      \"     \\\"output_type\\\": \\\"stream\\\",\\n\",\n",
      "      \"     \\\"text\\\": [\\n\",\n",
      "      \"      \\\"안녕하세요반갑습니다. 여러분!!!\\\"\\n\",\n",
      "      \"     ]\\n\",\n",
      "      \"    }\\n\",\n",
      "      \"   ],\\n\",\n",
      "      \"   \\\"source\\\": [\\n\",\n",
      "      \"    \\\"for line in lines:\\\\n\\\",\\n\",\n",
      "      \"    \\\"    print(line, end='')\\\"\\n\",\n",
      "      \"   ]\\n\",\n",
      "      \"  },\\n\",\n",
      "      \"  {\\n\",\n",
      "      \"   \\\"cell_type\\\": \\\"code\\\",\\n\",\n",
      "      \"   \\\"execution_count\\\": 36,\\n\",\n",
      "      \"   \\\"metadata\\\": {},\\n\",\n",
      "      \"   \\\"outputs\\\": [],\\n\",\n",
      "      \"   \\\"source\\\": [\\n\",\n",
      "      \"    \\\"file.close()\\\"\\n\",\n",
      "      \"   ]\\n\",\n",
      "      \"  },\\n\",\n",
      "      \"  {\\n\",\n",
      "      \"   \\\"cell_type\\\": \\\"code\\\",\\n\",\n",
      "      \"   \\\"execution_count\\\": 43,\\n\",\n",
      "      \"   \\\"metadata\\\": {},\\n\",\n",
      "      \"   \\\"outputs\\\": [\\n\",\n",
      "      \"    {\\n\",\n",
      "      \"     \\\"data\\\": {\\n\",\n",
      "      \"      \\\"text/plain\\\": [\\n\",\n",
      "      \"       \\\"<_io.TextIOWrapper name='scores.txt' mode='a' encoding='utf8'>\\\"\\n\",\n",
      "      \"      ]\\n\",\n",
      "      \"     },\\n\",\n",
      "      \"     \\\"execution_count\\\": 43,\\n\",\n",
      "      \"     \\\"metadata\\\": {},\\n\",\n",
      "      \"     \\\"output_type\\\": \\\"execute_result\\\"\\n\",\n",
      "      \"    }\\n\",\n",
      "      \"   ],\\n\",\n",
      "      \"   \\\"source\\\": [\\n\",\n",
      "      \"    \\\"file = open('scores.txt', 'a', encoding='utf8')\\\\n\\\",\\n\",\n",
      "      \"    \\\"file\\\"\\n\",\n",
      "      \"   ]\\n\",\n",
      "      \"  },\\n\",\n",
      "      \"  {\\n\",\n",
      "      \"   \\\"cell_type\\\": \\\"code\\\",\\n\",\n",
      "      \"   \\\"execution_count\\\": 44,\\n\",\n",
      "      \"   \\\"metadata\\\": {},\\n\",\n",
      "      \"   \\\"outputs\\\": [\\n\",\n",
      "      \"    {\\n\",\n",
      "      \"     \\\"data\\\": {\\n\",\n",
      "      \"      \\\"text/plain\\\": [\\n\",\n",
      "      \"       \\\"21\\\"\\n\",\n",
      "      \"      ]\\n\",\n",
      "      \"     },\\n\",\n",
      "      \"     \\\"execution_count\\\": 44,\\n\",\n",
      "      \"     \\\"metadata\\\": {},\\n\",\n",
      "      \"     \\\"output_type\\\": \\\"execute_result\\\"\\n\",\n",
      "      \"    }\\n\",\n",
      "      \"   ],\\n\",\n",
      "      \"   \\\"source\\\": [\\n\",\n",
      "      \"    \\\"file.write(\\\\\\\"안dhdh\\\\\\\\n\\\\\\\")\\\\n\\\",\\n\",\n",
      "      \"    \\\"file.write(\\\\\\\"반asdasd다. 여asdasd분!!!\\\\\\\")\\\"\\n\",\n",
      "      \"   ]\\n\",\n",
      "      \"  },\\n\",\n",
      "      \"  {\\n\",\n",
      "      \"   \\\"cell_type\\\": \\\"code\\\",\\n\",\n",
      "      \"   \\\"execution_count\\\": 45,\\n\",\n",
      "      \"   \\\"metadata\\\": {},\\n\",\n",
      "      \"   \\\"outputs\\\": [],\\n\",\n",
      "      \"   \\\"source\\\": [\\n\",\n",
      "      \"    \\\"file.close()\\\"\\n\",\n",
      "      \"   ]\\n\",\n",
      "      \"  },\\n\",\n",
      "      \"  {\\n\",\n",
      "      \"   \\\"cell_type\\\": \\\"code\\\",\\n\",\n",
      "      \"   \\\"execution_count\\\": 49,\\n\",\n",
      "      \"   \\\"metadata\\\": {},\\n\",\n",
      "      \"   \\\"outputs\\\": [\\n\",\n",
      "      \"    {\\n\",\n",
      "      \"     \\\"data\\\": {\\n\",\n",
      "      \"      \\\"text/plain\\\": [\\n\",\n",
      "      \"       \\\"<_io.TextIOWrapper name='scores2.txt' mode='a' encoding='utf8'>\\\"\\n\",\n",
      "      \"      ]\\n\",\n",
      "      \"     },\\n\",\n",
      "      \"     \\\"execution_count\\\": 49,\\n\",\n",
      "      \"     \\\"metadata\\\": {},\\n\",\n",
      "      \"     \\\"output_type\\\": \\\"execute_result\\\"\\n\",\n",
      "      \"    }\\n\",\n",
      "      \"   ],\\n\",\n",
      "      \"   \\\"source\\\": [\\n\",\n",
      "      \"    \\\"file = open('scores2.txt', 'a', encoding='utf8')\\\\n\\\",\\n\",\n",
      "      \"    \\\"file\\\"\\n\",\n",
      "      \"   ]\\n\",\n",
      "      \"  },\\n\",\n",
      "      \"  {\\n\",\n",
      "      \"   \\\"cell_type\\\": \\\"code\\\",\\n\",\n",
      "      \"   \\\"execution_count\\\": 50,\\n\",\n",
      "      \"   \\\"metadata\\\": {},\\n\",\n",
      "      \"   \\\"outputs\\\": [\\n\",\n",
      "      \"    {\\n\",\n",
      "      \"     \\\"data\\\": {\\n\",\n",
      "      \"      \\\"text/plain\\\": [\\n\",\n",
      "      \"       \\\"6\\\"\\n\",\n",
      "      \"      ]\\n\",\n",
      "      \"     },\\n\",\n",
      "      \"     \\\"execution_count\\\": 50,\\n\",\n",
      "      \"     \\\"metadata\\\": {},\\n\",\n",
      "      \"     \\\"output_type\\\": \\\"execute_result\\\"\\n\",\n",
      "      \"    }\\n\",\n",
      "      \"   ],\\n\",\n",
      "      \"   \\\"source\\\": [\\n\",\n",
      "      \"    \\\"file.write(\\\\\\\"안녕 \\\\\\\\n\\\\\\\")\\\\n\\\",\\n\",\n",
      "      \"    \\\"file.write(\\\\\\\"파이썬!!!\\\\\\\")\\\"\\n\",\n",
      "      \"   ]\\n\",\n",
      "      \"  },\\n\",\n",
      "      \"  {\\n\",\n",
      "      \"   \\\"cell_type\\\": \\\"code\\\",\\n\",\n",
      "      \"   \\\"execution_count\\\": 52,\\n\",\n",
      "      \"   \\\"metadata\\\": {},\\n\",\n",
      "      \"   \\\"outputs\\\": [],\\n\",\n",
      "      \"   \\\"source\\\": [\\n\",\n",
      "      \"    \\\"file.close()\\\"\\n\",\n",
      "      \"   ]\\n\",\n",
      "      \"  },\\n\",\n",
      "      \"  {\\n\",\n",
      "      \"   \\\"cell_type\\\": \\\"code\\\",\\n\",\n",
      "      \"   \\\"execution_count\\\": null,\\n\",\n",
      "      \"   \\\"metadata\\\": {},\\n\",\n",
      "      \"   \\\"outputs\\\": [],\\n\",\n",
      "      \"   \\\"source\\\": [\\n\",\n",
      "      \"    \\\"file = open('scores.txt', 'w', encoding='utf8')\\\\n\\\",\\n\",\n",
      "      \"    \\\"file\\\"\\n\",\n",
      "      \"   ]\\n\",\n",
      "      \"  }\\n\",\n",
      "      \" ],\\n\",\n",
      "      \" \\\"metadata\\\": {\\n\",\n",
      "      \"  \\\"kernelspec\\\": {\\n\",\n",
      "      \"   \\\"display_name\\\": \\\"Python 3\\\",\\n\",\n",
      "      \"   \\\"language\\\": \\\"python\\\",\\n\",\n",
      "      \"   \\\"name\\\": \\\"python3\\\"\\n\",\n",
      "      \"  },\\n\",\n",
      "      \"  \\\"language_info\\\": {\\n\",\n",
      "      \"   \\\"codemirror_mode\\\": {\\n\",\n",
      "      \"    \\\"name\\\": \\\"ipython\\\",\\n\",\n",
      "      \"    \\\"version\\\": 3\\n\",\n",
      "      \"   },\\n\",\n",
      "      \"   \\\"file_extension\\\": \\\".py\\\",\\n\",\n",
      "      \"   \\\"mimetype\\\": \\\"text/x-python\\\",\\n\",\n",
      "      \"   \\\"name\\\": \\\"python\\\",\\n\",\n",
      "      \"   \\\"nbconvert_exporter\\\": \\\"python\\\",\\n\",\n",
      "      \"   \\\"pygments_lexer\\\": \\\"ipython3\\\",\\n\",\n",
      "      \"   \\\"version\\\": \\\"3.6.12\\\"\\n\",\n",
      "      \"  }\\n\",\n",
      "      \" },\\n\",\n",
      "      \" \\\"nbformat\\\": 4,\\n\",\n",
      "      \" \\\"nbformat_minor\\\": 4\\n\",\n",
      "      \"}\\n\"\n",
      "     ]\n",
      "    }\n",
      "   ],\n",
      "   \"source\": [\n",
      "    \"file = open('Untitled2.ipynb', 'r', encoding='utf8')\\n\",\n",
      "    \"lines=file.readlines()\\n\",\n",
      "    \"for line in lines:\\n\",\n",
      "    \"    print(line, end='')\\n\"\n",
      "   ]\n",
      "  },\n",
      "  {\n",
      "   \"cell_type\": \"code\",\n",
      "   \"execution_count\": null,\n",
      "   \"metadata\": {},\n",
      "   \"outputs\": [],\n",
      "   \"source\": [\n",
      "    \"file = open('Untitled2.ipynb', 'r', encoding='utf8')\\n\",\n",
      "    \"lines=file.readlines()\\n\",\n",
      "    \"for line in lines:\\n\",\n",
      "    \"    print(line, end='')\"\n",
      "   ]\n",
      "  }\n",
      " ],\n",
      " \"metadata\": {\n",
      "  \"kernelspec\": {\n",
      "   \"display_name\": \"Python 3\",\n",
      "   \"language\": \"python\",\n",
      "   \"name\": \"python3\"\n",
      "  },\n",
      "  \"language_info\": {\n",
      "   \"codemirror_mode\": {\n",
      "    \"name\": \"ipython\",\n",
      "    \"version\": 3\n",
      "   },\n",
      "   \"file_extension\": \".py\",\n",
      "   \"mimetype\": \"text/x-python\",\n",
      "   \"name\": \"python\",\n",
      "   \"nbconvert_exporter\": \"python\",\n",
      "   \"pygments_lexer\": \"ipython3\",\n",
      "   \"version\": \"3.6.12\"\n",
      "  }\n",
      " },\n",
      " \"nbformat\": 4,\n",
      " \"nbformat_minor\": 4\n",
      "}\n"
     ]
    }
   ],
   "source": [
    "with open('scores.txt', 'r', encoding='utf8') as file:   #close가 필요없음\n",
    "    line=file.readlines()\n",
    "    for line in lines:\n",
    "        print(f'{line}', end='')"
   ]
  },
  {
   "cell_type": "code",
   "execution_count": 76,
   "metadata": {},
   "outputs": [],
   "source": [
    "with open('scores.txt', 'w', encoding='utf8') as file:          #write는 새롭게 작성됨\n",
    "    \n",
    "    file.write(\"하하이이\\n\")\n",
    "    file.write(\"호호호이\")"
   ]
  },
  {
   "cell_type": "code",
   "execution_count": 77,
   "metadata": {},
   "outputs": [],
   "source": [
    "with open('scores.txt', 'a', encoding='utf8') as file:        #append는 원래 있던 내용을 유지하면서 덧붙여짐\n",
    "    \n",
    "    file.write(\"하하이이\\n\")\n",
    "    file.write(\"호호호이\")"
   ]
  },
  {
   "cell_type": "code",
   "execution_count": null,
   "metadata": {},
   "outputs": [],
   "source": [
    "data = []\n",
    "for i in range(1,31):\n",
    "    data= i%2 == 0\n",
    "print(data)\n",
    "\n",
    "with open('test1.txt', 'w', endcoding='utf8') as file:\n",
    "    lines=file.readlines()\n",
    "    \n",
    "    for line in lines:\n",
    "        print(line, end='')\n",
    "    "
   ]
  },
  {
   "cell_type": "code",
   "execution_count": 91,
   "metadata": {},
   "outputs": [
    {
     "name": "stdout",
     "output_type": "stream",
     "text": [
      "[2, 4, 6, 8, 10, 12, 14, 16, 18, 20, 22, 24, 26, 28, 30]\n"
     ]
    }
   ],
   "source": [
    "data = []\n",
    "for i in range(1,31):\n",
    "    if i%2 == 0:\n",
    "        data.append(i)\n",
    "print(data)"
   ]
  },
  {
   "cell_type": "code",
   "execution_count": 96,
   "metadata": {},
   "outputs": [
    {
     "ename": "TypeError",
     "evalue": "'endcoding' is an invalid keyword argument for this function",
     "output_type": "error",
     "traceback": [
      "\u001b[1;31m---------------------------------------------------------------------------\u001b[0m",
      "\u001b[1;31mTypeError\u001b[0m                                 Traceback (most recent call last)",
      "\u001b[1;32m<ipython-input-96-65080e5f0153>\u001b[0m in \u001b[0;36m<module>\u001b[1;34m\u001b[0m\n\u001b[0;32m      4\u001b[0m         \u001b[0mdata\u001b[0m\u001b[1;33m.\u001b[0m\u001b[0mappend\u001b[0m\u001b[1;33m(\u001b[0m\u001b[0mi\u001b[0m\u001b[1;33m)\u001b[0m\u001b[1;33m\u001b[0m\u001b[1;33m\u001b[0m\u001b[0m\n\u001b[0;32m      5\u001b[0m \u001b[1;33m\u001b[0m\u001b[0m\n\u001b[1;32m----> 6\u001b[1;33m \u001b[1;32mwith\u001b[0m \u001b[0mopen\u001b[0m\u001b[1;33m(\u001b[0m\u001b[1;34m'test1.txt'\u001b[0m\u001b[1;33m,\u001b[0m \u001b[1;34m'w'\u001b[0m\u001b[1;33m,\u001b[0m \u001b[0mendcoding\u001b[0m\u001b[1;33m=\u001b[0m\u001b[1;34m'utf8'\u001b[0m\u001b[1;33m)\u001b[0m \u001b[1;32mas\u001b[0m \u001b[0mfile\u001b[0m\u001b[1;33m:\u001b[0m\u001b[1;33m\u001b[0m\u001b[1;33m\u001b[0m\u001b[0m\n\u001b[0m\u001b[0;32m      7\u001b[0m     \u001b[0mfile\u001b[0m\u001b[1;33m.\u001b[0m\u001b[0mwrite\u001b[0m\u001b[1;33m(\u001b[0m\u001b[0mdata\u001b[0m\u001b[1;33m)\u001b[0m\u001b[1;33m\u001b[0m\u001b[1;33m\u001b[0m\u001b[0m\n\u001b[0;32m      8\u001b[0m     \u001b[0mlines\u001b[0m\u001b[1;33m=\u001b[0m\u001b[0mfile\u001b[0m\u001b[1;33m.\u001b[0m\u001b[0mreadlines\u001b[0m\u001b[1;33m(\u001b[0m\u001b[1;33m)\u001b[0m\u001b[1;33m\u001b[0m\u001b[1;33m\u001b[0m\u001b[0m\n",
      "\u001b[1;31mTypeError\u001b[0m: 'endcoding' is an invalid keyword argument for this function"
     ]
    }
   ],
   "source": [
    "data = []\n",
    "for i in range(1,31):\n",
    "    if i%2 == 0:\n",
    "        data.append(i)\n",
    "        \n",
    "with open('test1.txt', 'w', endcoding='utf8') as file:\n",
    "    file.write(data)\n",
    "    lines=file.readlines()\n",
    "    for line in lines:\n",
    "        print(line, end='')"
   ]
  },
  {
   "cell_type": "code",
   "execution_count": 98,
   "metadata": {},
   "outputs": [],
   "source": [
    "with open ('text_cp949.txt', 'w', encoding='cp949') as file:\n",
    "    for i in range(1,10):\n",
    "        file.write(f'{i}번째 라인입니다\\n')"
   ]
  },
  {
   "cell_type": "code",
   "execution_count": 99,
   "metadata": {},
   "outputs": [],
   "source": [
    "with open ('text_utf8.txt', 'w', encoding='utf8') as file:\n",
    "    for i in range(1,10):\n",
    "        file.write(f'{i}번째 라인입니다\\n')"
   ]
  },
  {
   "cell_type": "code",
   "execution_count": 105,
   "metadata": {},
   "outputs": [
    {
     "name": "stdout",
     "output_type": "stream",
     "text": [
      "['1번째 라인입니다\\n', '2번째 라인입니다\\n', '3번째 라인입니다\\n', '4번째 라인입니다\\n', '5번째 라인입니다\\n', '6번째 라인입니다\\n', '7번째 라인입니다\\n', '8번째 라인입니다\\n', '9번째 라인입니다\\n']\n"
     ]
    }
   ],
   "source": [
    "with open ('text_cp949.txt', 'r', encoding='cp949') as file:   \n",
    "    lines=file.readlines()\n",
    "print(lines)"
   ]
  },
  {
   "cell_type": "code",
   "execution_count": 106,
   "metadata": {},
   "outputs": [],
   "source": [
    "# byteorder  Little Endia Big Endia"
   ]
  },
  {
   "cell_type": "code",
   "execution_count": 108,
   "metadata": {},
   "outputs": [],
   "source": [
    "with open('test.bin', 'wb') as file:\n",
    "    for i in range(0,256): #1byte\n",
    "        data = i.to_bytes(1, 'little')\n",
    "        file.write(data)"
   ]
  },
  {
   "cell_type": "code",
   "execution_count": 109,
   "metadata": {},
   "outputs": [
    {
     "name": "stdout",
     "output_type": "stream",
     "text": [
      "b'\\x00\\x01\\x02\\x03\\x04\\x05\\x06\\x07\\x08\\t\\n\\x0b\\x0c\\r\\x0e\\x0f\\x10\\x11\\x12\\x13\\x14\\x15\\x16\\x17\\x18\\x19\\x1a\\x1b\\x1c\\x1d\\x1e\\x1f !\"#$%&\\'()*+,-./0123456789:;<=>?@ABCDEFGHIJKLMNOPQRSTUVWXYZ[\\\\]^_`abcdefghijklmnopqrstuvwxyz{|}~\\x7f\\x80\\x81\\x82\\x83\\x84\\x85\\x86\\x87\\x88\\x89\\x8a\\x8b\\x8c\\x8d\\x8e\\x8f\\x90\\x91\\x92\\x93\\x94\\x95\\x96\\x97\\x98\\x99\\x9a\\x9b\\x9c\\x9d\\x9e\\x9f\\xa0\\xa1\\xa2\\xa3\\xa4\\xa5\\xa6\\xa7\\xa8\\xa9\\xaa\\xab\\xac\\xad\\xae\\xaf\\xb0\\xb1\\xb2\\xb3\\xb4\\xb5\\xb6\\xb7\\xb8\\xb9\\xba\\xbb\\xbc\\xbd\\xbe\\xbf\\xc0\\xc1\\xc2\\xc3\\xc4\\xc5\\xc6\\xc7\\xc8\\xc9\\xca\\xcb\\xcc\\xcd\\xce\\xcf\\xd0\\xd1\\xd2\\xd3\\xd4\\xd5\\xd6\\xd7\\xd8\\xd9\\xda\\xdb\\xdc\\xdd\\xde\\xdf\\xe0\\xe1\\xe2\\xe3\\xe4\\xe5\\xe6\\xe7\\xe8\\xe9\\xea\\xeb\\xec\\xed\\xee\\xef\\xf0\\xf1\\xf2\\xf3\\xf4\\xf5\\xf6\\xf7\\xf8\\xf9\\xfa\\xfb\\xfc\\xfd\\xfe\\xff'\n"
     ]
    }
   ],
   "source": [
    "with open('test.bin', 'rb') as file:\n",
    "    print(file.read())                       #바이트 리터럴"
   ]
  },
  {
   "cell_type": "code",
   "execution_count": null,
   "metadata": {},
   "outputs": [],
   "source": []
  },
  {
   "cell_type": "code",
   "execution_count": 113,
   "metadata": {},
   "outputs": [
    {
     "name": "stdout",
     "output_type": "stream",
     "text": [
      "요소 제거 이전:  {'name': '7D 건조 망고', 'type': '당절임'}\n",
      "{}\n"
     ]
    }
   ],
   "source": [
    "dictionary = {\n",
    "    \"name\": \"7D 건조 망고\",\n",
    "    \"type\": \"당절임\"\n",
    "}\n",
    "\n",
    "print(\"요소 제거 이전: \", dictionary)\n",
    "\n",
    "del dictionary[\"name\"]\n",
    "del dictionary[\"type\"]\n",
    "\n",
    "print(dictionary)"
   ]
  },
  {
   "cell_type": "code",
   "execution_count": 115,
   "metadata": {},
   "outputs": [
    {
     "name": "stdout",
     "output_type": "stream",
     "text": [
      "name 7D 건조 망고\n",
      "type 당절임\n",
      "ingredient ['망고', '설탕', '치자황색소']\n",
      "origin 필리핀\n"
     ]
    }
   ],
   "source": [
    "dictionary = {\n",
    "    \"name\": \"7D 건조 망고\",\n",
    "    \"type\": \"당절임\",\n",
    "    \"ingredient\": [\"망고\",\"설탕\",\"치자황색소\"],\n",
    "    \"origin\" : \"필리핀\"\n",
    "}\n",
    "\n",
    "for key in dictionary:\n",
    "    print(key,  dictionary[key])"
   ]
  },
  {
   "cell_type": "code",
   "execution_count": 117,
   "metadata": {},
   "outputs": [
    {
     "name": "stdout",
     "output_type": "stream",
     "text": [
      "7D 건조 망고\n"
     ]
    }
   ],
   "source": [
    "dictionary = {\n",
    "    \"name\": \"7D 건조 망고\",\n",
    "    \"type\": \"당절임\",\n",
    "    \"ingredient\": [\"망고\",\"설탕\",\"치자황색소\"],\n",
    "    \"origin\" : \"필리핀\"\n",
    "}\n",
    "\n",
    "value = dictionary.get(\"name\")\n",
    "print(value)"
   ]
  },
  {
   "cell_type": "code",
   "execution_count": 128,
   "metadata": {},
   "outputs": [
    {
     "name": "stdout",
     "output_type": "stream",
     "text": [
      "0으로 나누면 안되요!\n",
      "1.0\n"
     ]
    }
   ],
   "source": [
    "x = 10\n",
    "z = 0\n",
    "\n",
    "try:\n",
    "    print(x/z)\n",
    "except:\n",
    "    print(\"0으로 나누면 안되요!\")\n",
    "    print(x/10)"
   ]
  },
  {
   "cell_type": "code",
   "execution_count": 132,
   "metadata": {},
   "outputs": [
    {
     "ename": "NameError",
     "evalue": "name 'abc' is not defined",
     "output_type": "error",
     "traceback": [
      "\u001b[1;31m---------------------------------------------------------------------------\u001b[0m",
      "\u001b[1;31mNameError\u001b[0m                                 Traceback (most recent call last)",
      "\u001b[1;32m<ipython-input-132-bc828805ef19>\u001b[0m in \u001b[0;36m<module>\u001b[1;34m\u001b[0m\n\u001b[0;32m      3\u001b[0m \u001b[1;33m\u001b[0m\u001b[0m\n\u001b[0;32m      4\u001b[0m \u001b[1;32mtry\u001b[0m\u001b[1;33m:\u001b[0m\u001b[1;33m\u001b[0m\u001b[1;33m\u001b[0m\u001b[0m\n\u001b[1;32m----> 5\u001b[1;33m     \u001b[0mprint\u001b[0m\u001b[1;33m(\u001b[0m\u001b[0mabc\u001b[0m\u001b[1;33m)\u001b[0m\u001b[1;33m\u001b[0m\u001b[1;33m\u001b[0m\u001b[0m\n\u001b[0m\u001b[0;32m      6\u001b[0m     \u001b[0mprint\u001b[0m\u001b[1;33m(\u001b[0m\u001b[0mx\u001b[0m\u001b[1;33m/\u001b[0m\u001b[0mz\u001b[0m\u001b[1;33m)\u001b[0m\u001b[1;33m\u001b[0m\u001b[1;33m\u001b[0m\u001b[0m\n\u001b[0;32m      7\u001b[0m \u001b[1;32mexcept\u001b[0m \u001b[0mZeroDivisionError\u001b[0m\u001b[1;33m:\u001b[0m\u001b[1;33m\u001b[0m\u001b[1;33m\u001b[0m\u001b[0m\n",
      "\u001b[1;31mNameError\u001b[0m: name 'abc' is not defined"
     ]
    }
   ],
   "source": [
    "x = 10\n",
    "z = 0\n",
    "\n",
    "try:\n",
    "    print(abc)\n",
    "    print(x/z)\n",
    "except ZeroDivisionError:                  #zeroDivision에러만 Pass해주기 때문에 위에 print(abc)가 먼저 실행되어 에러가 뜬다.\n",
    "    print(\"0으로 나누면 안되요!\")\n",
    "    print(x/10)"
   ]
  },
  {
   "cell_type": "code",
   "execution_count": 123,
   "metadata": {},
   "outputs": [
    {
     "name": "stdout",
     "output_type": "stream",
     "text": [
      "0으로 나누면 안되요!\n",
      "1.0\n"
     ]
    }
   ],
   "source": [
    "x = 10\n",
    "z = 0\n",
    "\n",
    "try:\n",
    "    print(abc)\n",
    "    print(x/z)\n",
    "except (ZeroDivisionError, NameError):      #zeroDivison에러와 Name 에러를 Pass시켜준다.\n",
    "    print(\"0으로 나누면 안되요!\")\n",
    "    print(x/10)"
   ]
  },
  {
   "cell_type": "code",
   "execution_count": 125,
   "metadata": {},
   "outputs": [
    {
     "name": "stdout",
     "output_type": "stream",
     "text": [
      "이름을 몰라요\n"
     ]
    }
   ],
   "source": [
    "x = 10\n",
    "z = 0\n",
    "\n",
    "try:\n",
    "    print(abc)\n",
    "    print(x/z)\n",
    "except ZeroDivisionError:\n",
    "    print(\"0으로 나누면 안되요!\")\n",
    "    print(x/10)\n",
    "except NameError:                            #zeroDivison에러와 Name 에러를 Pass시켜준다.\n",
    "    print(\"이름을 몰라요\")"
   ]
  },
  {
   "cell_type": "markdown",
   "metadata": {},
   "source": [
    "# try except else"
   ]
  },
  {
   "cell_type": "code",
   "execution_count": 133,
   "metadata": {},
   "outputs": [
    {
     "name": "stdout",
     "output_type": "stream",
     "text": [
      "division by zero:0으로 나누면 안되요!\n"
     ]
    }
   ],
   "source": [
    "x = 10\n",
    "z = 0\n",
    "\n",
    "try:\n",
    "    print(x/z)\n",
    "except ZeroDivisionError as e:\n",
    "    print(f\"{e}:0으로 나누면 안되요!\")\n",
    "else:\n",
    "    print(x/2)"
   ]
  }
 ],
 "metadata": {
  "kernelspec": {
   "display_name": "Python 3",
   "language": "python",
   "name": "python3"
  },
  "language_info": {
   "codemirror_mode": {
    "name": "ipython",
    "version": 3
   },
   "file_extension": ".py",
   "mimetype": "text/x-python",
   "name": "python",
   "nbconvert_exporter": "python",
   "pygments_lexer": "ipython3",
   "version": "3.6.12"
  }
 },
 "nbformat": 4,
 "nbformat_minor": 4
}
