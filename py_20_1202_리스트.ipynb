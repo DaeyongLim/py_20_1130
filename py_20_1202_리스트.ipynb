{
 "cells": [
  {
   "cell_type": "code",
   "execution_count": 1,
   "metadata": {},
   "outputs": [
    {
     "data": {
      "text/plain": [
       "['안', '녕']"
      ]
     },
     "execution_count": 1,
     "metadata": {},
     "output_type": "execute_result"
    }
   ],
   "source": [
    "li = ['안','녕']\n",
    "li"
   ]
  },
  {
   "cell_type": "code",
   "execution_count": 2,
   "metadata": {},
   "outputs": [
    {
     "data": {
      "text/plain": [
       "list"
      ]
     },
     "execution_count": 2,
     "metadata": {},
     "output_type": "execute_result"
    }
   ],
   "source": [
    "type(li)"
   ]
  },
  {
   "cell_type": "code",
   "execution_count": 10,
   "metadata": {},
   "outputs": [
    {
     "data": {
      "text/plain": [
       "['안녕', 1000, ['hello'], 100.4, 'ABC']"
      ]
     },
     "execution_count": 10,
     "metadata": {},
     "output_type": "execute_result"
    }
   ],
   "source": [
    "li=['안녕',1000,['hello'],100.4, 'ABC']\n",
    "li"
   ]
  },
  {
   "cell_type": "code",
   "execution_count": 4,
   "metadata": {},
   "outputs": [
    {
     "data": {
      "text/plain": [
       "list"
      ]
     },
     "execution_count": 4,
     "metadata": {},
     "output_type": "execute_result"
    }
   ],
   "source": [
    "type(li)"
   ]
  },
  {
   "cell_type": "code",
   "execution_count": 7,
   "metadata": {},
   "outputs": [
    {
     "data": {
      "text/plain": [
       "('안녕', str)"
      ]
     },
     "execution_count": 7,
     "metadata": {},
     "output_type": "execute_result"
    }
   ],
   "source": [
    "li[0], type(li[0])"
   ]
  },
  {
   "cell_type": "code",
   "execution_count": 8,
   "metadata": {},
   "outputs": [
    {
     "data": {
      "text/plain": [
       "(1000, int)"
      ]
     },
     "execution_count": 8,
     "metadata": {},
     "output_type": "execute_result"
    }
   ],
   "source": [
    "li[1], type(li[1])"
   ]
  },
  {
   "cell_type": "code",
   "execution_count": 11,
   "metadata": {},
   "outputs": [
    {
     "data": {
      "text/plain": [
       "[['hello'], 100.4, 'ABC']"
      ]
     },
     "execution_count": 11,
     "metadata": {},
     "output_type": "execute_result"
    }
   ],
   "source": [
    "li[2:]"
   ]
  },
  {
   "cell_type": "code",
   "execution_count": 12,
   "metadata": {},
   "outputs": [
    {
     "data": {
      "text/plain": [
       "100.4"
      ]
     },
     "execution_count": 12,
     "metadata": {},
     "output_type": "execute_result"
    }
   ],
   "source": [
    "li[-2]"
   ]
  },
  {
   "cell_type": "code",
   "execution_count": 14,
   "metadata": {},
   "outputs": [
    {
     "data": {
      "text/plain": [
       "[1, 4, 7]"
      ]
     },
     "execution_count": 14,
     "metadata": {},
     "output_type": "execute_result"
    }
   ],
   "source": [
    "list(range(1,10,3))"
   ]
  },
  {
   "cell_type": "code",
   "execution_count": 17,
   "metadata": {},
   "outputs": [
    {
     "data": {
      "text/plain": [
       "'안녕하세요'"
      ]
     },
     "execution_count": 17,
     "metadata": {},
     "output_type": "execute_result"
    }
   ],
   "source": [
    "li=('안녕하세요')\n",
    "li"
   ]
  },
  {
   "cell_type": "code",
   "execution_count": 18,
   "metadata": {},
   "outputs": [
    {
     "data": {
      "text/plain": [
       "'안녕하세요'"
      ]
     },
     "execution_count": 18,
     "metadata": {},
     "output_type": "execute_result"
    }
   ],
   "source": [
    "\"\".join(li)"
   ]
  },
  {
   "cell_type": "code",
   "execution_count": 19,
   "metadata": {},
   "outputs": [],
   "source": [
    "a=['red','green','blue']"
   ]
  },
  {
   "cell_type": "code",
   "execution_count": 21,
   "metadata": {},
   "outputs": [
    {
     "data": {
      "text/plain": [
       "['red', 'green', 'blue', 'yellow', 'yellow']"
      ]
     },
     "execution_count": 21,
     "metadata": {},
     "output_type": "execute_result"
    }
   ],
   "source": [
    "a.append('yellow')\n",
    "a"
   ]
  },
  {
   "cell_type": "code",
   "execution_count": 23,
   "metadata": {},
   "outputs": [
    {
     "data": {
      "text/plain": [
       "['red', 'black', 'green', 'blue', 'yellow', 'yellow']"
      ]
     },
     "execution_count": 23,
     "metadata": {},
     "output_type": "execute_result"
    }
   ],
   "source": [
    "a.insert(1, 'black')\n",
    "a"
   ]
  },
  {
   "cell_type": "code",
   "execution_count": 24,
   "metadata": {},
   "outputs": [
    {
     "data": {
      "text/plain": [
       "['purple', 'white']"
      ]
     },
     "execution_count": 24,
     "metadata": {},
     "output_type": "execute_result"
    }
   ],
   "source": [
    "b = ['purple', 'white']\n",
    "b"
   ]
  },
  {
   "cell_type": "code",
   "execution_count": 25,
   "metadata": {},
   "outputs": [
    {
     "data": {
      "text/plain": [
       "['red', 'black', 'green', 'blue', 'yellow', 'yellow', 'purple', 'white']"
      ]
     },
     "execution_count": 25,
     "metadata": {},
     "output_type": "execute_result"
    }
   ],
   "source": [
    "a.extend(b)\n",
    "a"
   ]
  },
  {
   "cell_type": "markdown",
   "metadata": {},
   "source": [
    "# 브로드캐스팅!"
   ]
  },
  {
   "cell_type": "code",
   "execution_count": 27,
   "metadata": {},
   "outputs": [
    {
     "data": {
      "text/plain": [
       "['red', 'black', 'green', 'blue', 'yellow', 'yellow', 'purple', 'white']"
      ]
     },
     "execution_count": 27,
     "metadata": {},
     "output_type": "execute_result"
    }
   ],
   "source": [
    "a*1"
   ]
  },
  {
   "cell_type": "code",
   "execution_count": 29,
   "metadata": {},
   "outputs": [
    {
     "data": {
      "text/plain": [
       "['red',\n",
       " 'black',\n",
       " 'green',\n",
       " 'blue',\n",
       " 'yellow',\n",
       " 'yellow',\n",
       " 'purple',\n",
       " 'white',\n",
       " 'purple',\n",
       " 'white']"
      ]
     },
     "execution_count": 29,
     "metadata": {},
     "output_type": "execute_result"
    }
   ],
   "source": [
    "a+b"
   ]
  },
  {
   "cell_type": "code",
   "execution_count": 33,
   "metadata": {},
   "outputs": [
    {
     "name": "stdout",
     "output_type": "stream",
     "text": [
      "2\n"
     ]
    }
   ],
   "source": [
    "a = [10,20,30,40,50,60,70,80,90,100]\n",
    "x = a.index(30)\n",
    "print(x)"
   ]
  },
  {
   "cell_type": "code",
   "execution_count": 34,
   "metadata": {},
   "outputs": [
    {
     "name": "stdout",
     "output_type": "stream",
     "text": [
      "[10, 20, 40, 50, 60, 70, 80, 90, 100]\n"
     ]
    }
   ],
   "source": [
    "a.pop(x)\n",
    "print(a)"
   ]
  },
  {
   "cell_type": "code",
   "execution_count": 35,
   "metadata": {},
   "outputs": [
    {
     "name": "stdout",
     "output_type": "stream",
     "text": [
      "[10, 20, 40, 50, 60, 70, 80, 100]\n"
     ]
    }
   ],
   "source": [
    "a.remove(90)\n",
    "print(a)"
   ]
  },
  {
   "cell_type": "code",
   "execution_count": 36,
   "metadata": {},
   "outputs": [
    {
     "name": "stdout",
     "output_type": "stream",
     "text": [
      "[]\n"
     ]
    }
   ],
   "source": [
    "a.clear()\n",
    "print(a)"
   ]
  },
  {
   "cell_type": "markdown",
   "metadata": {},
   "source": [
    "# del()"
   ]
  },
  {
   "cell_type": "code",
   "execution_count": 38,
   "metadata": {},
   "outputs": [
    {
     "data": {
      "text/plain": [
       "(10, 20, [1, 2, 3, 4, 5])"
      ]
     },
     "execution_count": 38,
     "metadata": {},
     "output_type": "execute_result"
    }
   ],
   "source": [
    "a = 10\n",
    "b = 20\n",
    "c = [1,2,3,4,5]\n",
    "\n",
    "a,b,c"
   ]
  },
  {
   "cell_type": "code",
   "execution_count": 39,
   "metadata": {},
   "outputs": [
    {
     "ename": "NameError",
     "evalue": "name 'a' is not defined",
     "output_type": "error",
     "traceback": [
      "\u001b[1;31m---------------------------------------------------------------------------\u001b[0m",
      "\u001b[1;31mNameError\u001b[0m                                 Traceback (most recent call last)",
      "\u001b[1;32m<ipython-input-39-88f0dc819981>\u001b[0m in \u001b[0;36m<module>\u001b[1;34m\u001b[0m\n\u001b[0;32m      1\u001b[0m \u001b[1;32mdel\u001b[0m \u001b[0ma\u001b[0m\u001b[1;33m\u001b[0m\u001b[1;33m\u001b[0m\u001b[0m\n\u001b[1;32m----> 2\u001b[1;33m \u001b[0ma\u001b[0m\u001b[1;33m\u001b[0m\u001b[1;33m\u001b[0m\u001b[0m\n\u001b[0m",
      "\u001b[1;31mNameError\u001b[0m: name 'a' is not defined"
     ]
    }
   ],
   "source": [
    "del a\n",
    "a"
   ]
  },
  {
   "cell_type": "code",
   "execution_count": 40,
   "metadata": {},
   "outputs": [
    {
     "data": {
      "text/plain": [
       "[2, 3, 4, 5]"
      ]
     },
     "execution_count": 40,
     "metadata": {},
     "output_type": "execute_result"
    }
   ],
   "source": [
    "del c[0]\n",
    "c"
   ]
  },
  {
   "cell_type": "code",
   "execution_count": 45,
   "metadata": {},
   "outputs": [
    {
     "data": {
      "text/plain": [
       "20"
      ]
     },
     "execution_count": 45,
     "metadata": {},
     "output_type": "execute_result"
    }
   ],
   "source": [
    "b\n"
   ]
  },
  {
   "cell_type": "code",
   "execution_count": 46,
   "metadata": {},
   "outputs": [
    {
     "data": {
      "text/plain": [
       "['녕', '세', '안', '요', '하']"
      ]
     },
     "execution_count": 46,
     "metadata": {},
     "output_type": "execute_result"
    }
   ],
   "source": [
    "\n",
    "sorted(li)"
   ]
  },
  {
   "cell_type": "code",
   "execution_count": 47,
   "metadata": {},
   "outputs": [
    {
     "data": {
      "text/plain": [
       "'안녕하세요'"
      ]
     },
     "execution_count": 47,
     "metadata": {},
     "output_type": "execute_result"
    }
   ],
   "source": [
    "li"
   ]
  },
  {
   "cell_type": "code",
   "execution_count": 54,
   "metadata": {},
   "outputs": [
    {
     "name": "stdout",
     "output_type": "stream",
     "text": [
      "[1, 3, 5, 7, 9, 11, 13, 15, 17, 19]\n"
     ]
    }
   ],
   "source": [
    "num = list(range(1,20,2))\n",
    "print(num)"
   ]
  },
  {
   "cell_type": "code",
   "execution_count": 61,
   "metadata": {},
   "outputs": [
    {
     "name": "stdout",
     "output_type": "stream",
     "text": [
      "red\n",
      "white\n",
      "['green', 'blue', 'black']\n"
     ]
    }
   ],
   "source": [
    "color = ['red', 'green', 'blue', 'black', 'white']\n",
    "\n",
    "print(color[0])\n",
    "print(color[4])\n",
    "print(color[1:4])"
   ]
  },
  {
   "cell_type": "code",
   "execution_count": 63,
   "metadata": {},
   "outputs": [
    {
     "name": "stdout",
     "output_type": "stream",
     "text": [
      "['kim', 24, 'kim@naver.com', 'lee', 35, 'lee@hanmail.net']\n"
     ]
    }
   ],
   "source": [
    "person1 = ['kim', 24, 'kim@naver.com']\n",
    "person2 = ['lee', 35, 'lee@hanmail.net']\n",
    "\n",
    "person = person1 + person2\n",
    "print(person)"
   ]
  },
  {
   "cell_type": "code",
   "execution_count": 64,
   "metadata": {},
   "outputs": [
    {
     "name": "stdout",
     "output_type": "stream",
     "text": [
      "apple\n",
      "orange\n",
      "banana\n"
     ]
    }
   ],
   "source": [
    "fruits = ['apple', 'orange', 'banana']\n",
    "\n",
    "for x in fruits:       #for 루프의 각 반복에서 사용되는 변수 x는 리스트 fruits의 각각의 요소 값을 가진다.\n",
    "    print(x)"
   ]
  },
  {
   "cell_type": "code",
   "execution_count": 65,
   "metadata": {},
   "outputs": [
    {
     "name": "stdout",
     "output_type": "stream",
     "text": [
      "tr_in에서 밑줄(_)안에 들어갈 알파벳은?ㅂ\n",
      "틀렸습니다!\n",
      "b_s에서 밑줄(_)안에 들어갈 알파벳은?u\\\n",
      "틀렸습니다!\n",
      "_axi에서 밑줄(_)안에 들어갈 알파벳은?t\n",
      "정답입니다!\n",
      "air_lane에서 밑줄(_)안에 들어갈 알파벳은?p\n",
      "정답입니다!\n"
     ]
    }
   ],
   "source": [
    "\n",
    "\n",
    "questions = ['tr_in','b_s','_axi','air_lane']\n",
    "answers = ['a','u','t','p']\n",
    "\n",
    "for i in range(len(questions)):\n",
    "    q='%s에서 밑줄(_)안에 들어갈 알파벳은?' %questions[i]\n",
    "    ans=input(q)\n",
    "    \n",
    "    if ans == answers[i]:\n",
    "        print('정답입니다!')\n",
    "    \n",
    "    else:\n",
    "        print('틀렸습니다!')\n",
    "        "
   ]
  },
  {
   "cell_type": "markdown",
   "metadata": {},
   "source": [
    "# Day 3 내장함수 링크\n",
    "\n",
    "# 집계함수\n",
    "\n",
    "#sum(scores) : 합산\n",
    "\n",
    "#max(scores) : 최대\n",
    "\n",
    "#sum(scores) / len(scores) : 평균"
   ]
  },
  {
   "cell_type": "markdown",
   "metadata": {},
   "source": [
    "## # 중첩 리스트"
   ]
  },
  {
   "cell_type": "code",
   "execution_count": 70,
   "metadata": {},
   "outputs": [
    {
     "data": {
      "text/plain": [
       "('!', 'rabbit', 'little')"
      ]
     },
     "execution_count": 70,
     "metadata": {},
     "output_type": "execute_result"
    }
   ],
   "source": [
    "# stack : First In Last Out\n",
    "li = ['Marry','had','a','little','rabbit']           #순서대로 데이터값이 들어가고 나올 때는 가장 나중에 들어간 데이터값부터 나옴\n",
    "li.append('!')\n",
    "#stack\n",
    "li.pop(), li.pop(), li.pop()"
   ]
  },
  {
   "cell_type": "code",
   "execution_count": 73,
   "metadata": {},
   "outputs": [
    {
     "data": {
      "text/plain": [
       "('Marry', 'had', 'a', 'little', 'rabbit', '!')"
      ]
     },
     "execution_count": 73,
     "metadata": {},
     "output_type": "execute_result"
    }
   ],
   "source": [
    "# Queue : First In First Out\n",
    "li = ['Marry','had','a', 'little', 'rabbit']        #순서대로 데이터값이 들어가고 그 순서 그대로 빼온다.\n",
    "li.append('!')\n",
    "li.pop(0), li.pop(0), li.pop(0), li.pop(0), li.pop(0), li.pop(0) "
   ]
  },
  {
   "cell_type": "code",
   "execution_count": 68,
   "metadata": {},
   "outputs": [
    {
     "name": "stdout",
     "output_type": "stream",
     "text": [
      "1번째 학생의 합계: 260, 평균: 86.67\n",
      "2번째 학생의 합계: 258, 평균: 86.00\n",
      "3번째 학생의 합계: 254, 평균: 84.67\n",
      "4번째 학생의 합계: 254, 평균: 84.67\n",
      "5번째 학생의 합계: 257, 평균: 85.67\n"
     ]
    }
   ],
   "source": [
    "scores = [[96,84,80],[96,86,76],[76,95,83],[89,96,69],[90,76,91]]\n",
    "\n",
    "for i in range(len(scores)):\n",
    "    sum = 0\n",
    "    for j in range(len(scores[i])):\n",
    "        sum = sum + scores[i][j]\n",
    "        \n",
    "    avg = sum/len(scores[i])\n",
    "    \n",
    "    print('%d번째 학생의 합계: %d, 평균: %.2f' %(i+1, sum, avg))"
   ]
  },
  {
   "cell_type": "markdown",
   "metadata": {},
   "source": [
    "#  5장 연습문제 !!!!"
   ]
  },
  {
   "cell_type": "code",
   "execution_count": 89,
   "metadata": {},
   "outputs": [
    {
     "name": "stdout",
     "output_type": "stream",
     "text": [
      "1번째 학생의 합계: 260, 평균: 86.67\n",
      "2번째 학생의 합계: 258, 평균: 86.00\n",
      "3번째 학생의 합계: 254, 평균: 84.67\n",
      "4번째 학생의 합계: 254, 평균: 84.67\n",
      "5번째 학생의 합계: 257, 평균: 85.67\n",
      "6번째 학생의 합계: 236, 평균: 78.67\n",
      "7번째 학생의 합계: 248, 평균: 82.67\n",
      "8번째 학생의 합계: 258, 평균: 86.00\n"
     ]
    }
   ],
   "source": [
    "scores = [[96,84,80], [96,86,76],[76,95,83],[89,96,69],[90,76,91],[82,66,88],[83,86,79],[85,90,83]]\n",
    "\n",
    "i=0\n",
    "while i< len(scores):\n",
    "    sum=0\n",
    "    \n",
    "    j=0\n",
    "    while j < len(scores[i]):\n",
    "        sum = sum + scores[i][j]\n",
    "        j += 1\n",
    "        \n",
    "    avg = sum/len(scores[i])\n",
    "    print('%d번째 학생의 합계: %d, 평균: %.2f' %(i+1,sum,avg))\n",
    "    i += 1"
   ]
  },
  {
   "cell_type": "code",
   "execution_count": 82,
   "metadata": {},
   "outputs": [
    {
     "name": "stdout",
     "output_type": "stream",
     "text": [
      "성적을 입력하세요(종료 시 -1 입력): 10\n",
      "성적을 입력하세요(종료 시 -1 입력): 20\n",
      "성적을 입력하세요(종료 시 -1 입력): 30\n",
      "성적을 입력하세요(종료 시 -1 입력): 40\n",
      "성적을 입력하세요(종료 시 -1 입력): 50\n",
      "성적을 입력하세요(종료 시 -1 입력): 60\n",
      "성적을 입력하세요(종료 시 -1 입력): -1\n",
      "합계: 210, 평균: 35.00\n"
     ]
    }
   ],
   "source": [
    "scores = []\n",
    "\n",
    "while True:\n",
    "    score = int(input('성적을 입력하세요(종료 시 -1 입력): '))\n",
    "    \n",
    "    if score == -1:\n",
    "        break\n",
    "    else:\n",
    "        scores.append(score)\n",
    "        \n",
    "sum = 0\n",
    "for i in range(0, len(scores)):\n",
    "    sum += scores[i]\n",
    "    \n",
    "avg = sum/len(scores)\n",
    "\n",
    "print('합계: %d, 평균: %.2f' %(sum, avg))\n",
    "        \n"
   ]
  },
  {
   "cell_type": "code",
   "execution_count": 101,
   "metadata": {},
   "outputs": [
    {
     "name": "stdout",
     "output_type": "stream",
     "text": [
      "영어 문장을 입력하세요: You should check for DeprecationWarning in your code When Python 2.7 was still supported, a lot of functionality in Python 3 was kept for backward compatibility with Python 2.7. With the end of Python 2 support, these backward compatibility layers have been removed, or will be removed soon. Most of them emitted a DeprecationWarning warning for several years. For example, using collections.Mapping instead of collections.abc.Mapping emits a DeprecationWarning since Python 3.3, released in 2012\n"
     ]
    },
    {
     "ename": "TypeError",
     "evalue": "'list' object is not callable",
     "output_type": "error",
     "traceback": [
      "\u001b[1;31m---------------------------------------------------------------------------\u001b[0m",
      "\u001b[1;31mTypeError\u001b[0m                                 Traceback (most recent call last)",
      "\u001b[1;32m<ipython-input-101-55d4bfb9c2a0>\u001b[0m in \u001b[0;36m<module>\u001b[1;34m\u001b[0m\n\u001b[0;32m      2\u001b[0m \u001b[1;33m\u001b[0m\u001b[0m\n\u001b[0;32m      3\u001b[0m \u001b[1;32mwhile\u001b[0m \u001b[1;32mTrue\u001b[0m\u001b[1;33m:\u001b[0m\u001b[1;33m\u001b[0m\u001b[1;33m\u001b[0m\u001b[0m\n\u001b[1;32m----> 4\u001b[1;33m     \u001b[0meng\u001b[0m \u001b[1;33m=\u001b[0m \u001b[0ms\u001b[0m\u001b[1;33m(\u001b[0m\u001b[0minput\u001b[0m\u001b[1;33m(\u001b[0m\u001b[1;34m'영어 문장을 입력하세요: '\u001b[0m\u001b[1;33m)\u001b[0m\u001b[1;33m)\u001b[0m\u001b[1;33m\u001b[0m\u001b[1;33m\u001b[0m\u001b[0m\n\u001b[0m\u001b[0;32m      5\u001b[0m \u001b[1;33m\u001b[0m\u001b[0m\n\u001b[0;32m      6\u001b[0m     \u001b[1;32mif\u001b[0m \u001b[0meng\u001b[0m \u001b[1;33m==\u001b[0m \u001b[1;33m[\u001b[0m\u001b[0ma\u001b[0m\u001b[1;33m]\u001b[0m \u001b[1;33m[\u001b[0m\u001b[0mb\u001b[0m\u001b[1;33m]\u001b[0m\u001b[1;33m:\u001b[0m\u001b[1;33m\u001b[0m\u001b[1;33m\u001b[0m\u001b[0m\n",
      "\u001b[1;31mTypeError\u001b[0m: 'list' object is not callable"
     ]
    }
   ],
   "source": [
    "s = []\n",
    "\n",
    "while True:\n",
    "    eng = s(input('영어 문장을 입력하세요: '))\n",
    "    \n",
    "    if eng == [a] [b]:\n",
    "        count_eng = count_eng +1\n",
    "        \n",
    "    i += 0\n",
    "    \n",
    "print(count_eng)\n",
    "\n"
   ]
  },
  {
   "cell_type": "code",
   "execution_count": 98,
   "metadata": {},
   "outputs": [
    {
     "name": "stdout",
     "output_type": "stream",
     "text": [
      "['You should check for DeprecationWarning in your code When Python 2.7 was still supported, a lot of functionality in Python 3 was kept for backward compatibility with Python 2.7. With the end of Python 2 support, these backward compatibility layers have been removed, or will be removed soon. Most of them emitted a DeprecationWarning warning for several years. For example, using collections.Mapping instead of collections.abc.Mapping emits a DeprecationWarning since Python 3.3, released in 2012']\n"
     ]
    }
   ],
   "source": [
    "s = ['You should check for DeprecationWarning in your code When Python 2.7 was still supported, a lot of functionality in Python 3 was kept for backward compatibility with Python 2.7. With the end of Python 2 support, these backward compatibility layers have been removed, or will be removed soon. Most of them emitted a DeprecationWarning warning for several years. For example, using collections.Mapping instead of collections.abc.Mapping emits a DeprecationWarning since Python 3.3, released in 2012']\n",
    "print(s)\n",
    "\n",
    "for x in s:\n",
    "    if x == 'y' 'o':\n",
    "        count_eng += 1\n",
    "        print('%s' %count_eng)"
   ]
  },
  {
   "cell_type": "code",
   "execution_count": 106,
   "metadata": {},
   "outputs": [
    {
     "name": "stdout",
     "output_type": "stream",
     "text": [
      "1\n"
     ]
    }
   ],
   "source": [
    "lili=['사과 나무']\n",
    "\n",
    "leng = lili.count('사과 나무')\n",
    "\n",
    "print(leng)\n"
   ]
  }
 ],
 "metadata": {
  "kernelspec": {
   "display_name": "Python 3",
   "language": "python",
   "name": "python3"
  },
  "language_info": {
   "codemirror_mode": {
    "name": "ipython",
    "version": 3
   },
   "file_extension": ".py",
   "mimetype": "text/x-python",
   "name": "python",
   "nbconvert_exporter": "python",
   "pygments_lexer": "ipython3",
   "version": "3.6.12"
  }
 },
 "nbformat": 4,
 "nbformat_minor": 4
}
