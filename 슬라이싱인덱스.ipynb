{
 "cells": [
  {
   "cell_type": "markdown",
   "metadata": {},
   "source": [
    "# 슬라이싱 인덱스"
   ]
  },
  {
   "cell_type": "code",
   "execution_count": 1,
   "metadata": {},
   "outputs": [
    {
     "data": {
      "text/plain": [
       "[100, 2, 3, 4, 5, 6, 7]"
      ]
     },
     "execution_count": 1,
     "metadata": {},
     "output_type": "execute_result"
    }
   ],
   "source": [
    "num = [1,2,3,4,5,6,7]\n",
    "\n",
    "num[0]=100\n",
    "num"
   ]
  },
  {
   "cell_type": "code",
   "execution_count": 4,
   "metadata": {},
   "outputs": [
    {
     "data": {
      "text/plain": [
       "[808, 808, 808, 100, 2, 3, 4, 5, 6, 7]"
      ]
     },
     "execution_count": 4,
     "metadata": {},
     "output_type": "execute_result"
    }
   ],
   "source": [
    "num[:0] = [808]    #리스트 형식으로 삽입\n",
    "num"
   ]
  },
  {
   "cell_type": "code",
   "execution_count": 6,
   "metadata": {},
   "outputs": [
    {
     "data": {
      "text/plain": [
       "[808, 808, 808, 100, 2, 3, 4, 5, 6, 7, -1, -1]"
      ]
     },
     "execution_count": 6,
     "metadata": {},
     "output_type": "execute_result"
    }
   ],
   "source": [
    "# 맨 마지막에 삽입\n",
    "num[len(num):] = [-1]\n",
    "num"
   ]
  },
  {
   "cell_type": "code",
   "execution_count": 7,
   "metadata": {},
   "outputs": [
    {
     "data": {
      "text/plain": [
       "[808, 808, 20, 30, 40, 808, 100, 2, 3, 4, 5, 6, 7, -1, -1]"
      ]
     },
     "execution_count": 7,
     "metadata": {},
     "output_type": "execute_result"
    }
   ],
   "source": [
    "num[2:2] = [20,30,40]   #0,1,2 번째 이후 삽입\n",
    "num"
   ]
  },
  {
   "cell_type": "code",
   "execution_count": 8,
   "metadata": {},
   "outputs": [
    {
     "data": {
      "text/plain": [
       "[808, 808, -20, -30, -40, 40, 808, 100, 2, 3, 4, 5, 6, 7, -1, -1]"
      ]
     },
     "execution_count": 8,
     "metadata": {},
     "output_type": "execute_result"
    }
   ],
   "source": [
    "#치환\n",
    "num[2:4] = [-20,-30,-40]\n",
    "num"
   ]
  },
  {
   "cell_type": "code",
   "execution_count": 9,
   "metadata": {},
   "outputs": [
    {
     "data": {
      "text/plain": [
       "[1, 1, -20, -30, -40, 40, 808, 100, 2, 3, 4, 5, 6, 7, -1, -1]"
      ]
     },
     "execution_count": 9,
     "metadata": {},
     "output_type": "execute_result"
    }
   ],
   "source": [
    "num[:2] = [1,1]\n",
    "num"
   ]
  },
  {
   "cell_type": "code",
   "execution_count": 13,
   "metadata": {},
   "outputs": [
    {
     "data": {
      "text/plain": [
       "[808, 100, 2, 3, 4, 5, 6, 7, -1, -1]"
      ]
     },
     "execution_count": 13,
     "metadata": {},
     "output_type": "execute_result"
    }
   ],
   "source": [
    "#요소 삭제\n",
    "del num[:2]\n",
    "num"
   ]
  },
  {
   "cell_type": "code",
   "execution_count": 14,
   "metadata": {},
   "outputs": [
    {
     "data": {
      "text/plain": [
       "[2, 3, 4, 5, 6, 7, -1, -1]"
      ]
     },
     "execution_count": 14,
     "metadata": {},
     "output_type": "execute_result"
    }
   ],
   "source": [
    "num[:2] = []    #del num[:2]과 같은 효과\n",
    "num "
   ]
  },
  {
   "cell_type": "code",
   "execution_count": 19,
   "metadata": {},
   "outputs": [
    {
     "name": "stdin",
     "output_type": "stream",
     "text": [
      "n값을 입력해 주세요:  55\n"
     ]
    },
    {
     "name": "stdout",
     "output_type": "stream",
     "text": [
      "2~55까지의 정수 중 소수: 2357111317192329313741434753"
     ]
    }
   ],
   "source": [
    "def isPrimeNumber(num):\n",
    "    prime_yes = True\n",
    "    for i in range(2,num):\n",
    "        if num%i ==0:\n",
    "            prime_yes=False\n",
    "            break\n",
    "    return prime_yes\n",
    "\n",
    "n = int(input('n값을 입력해 주세요: '))\n",
    "\n",
    "print('2~%d까지의 정수 중 소수: ' %n, end='')\n",
    "for a in range(2, n+1):\n",
    "    is_prime=isPrimeNumber(a)\n",
    "    if is_prime:\n",
    "        print(a, end='')"
   ]
  },
  {
   "cell_type": "code",
   "execution_count": 21,
   "metadata": {},
   "outputs": [
    {
     "name": "stdin",
     "output_type": "stream",
     "text": [
      "문자열을 입력하세요:  i am hungry.\n"
     ]
    },
    {
     "name": "stdout",
     "output_type": "stream",
     "text": [
      ".yrgnuh ma i\n"
     ]
    }
   ],
   "source": [
    "def strReverse(string):\n",
    "    r_string = ''\n",
    "    index = len(string)\n",
    "    while index > 0:\n",
    "        r_string = r_string + string[index-1]\n",
    "        index = index - 1\n",
    "        \n",
    "    return r_string\n",
    "\n",
    "in_string = input('문자열을 입력하세요: ')\n",
    "result = strReverse(in_string)\n",
    "print(result)"
   ]
  },
  {
   "cell_type": "code",
   "execution_count": 24,
   "metadata": {},
   "outputs": [
    {
     "name": "stdin",
     "output_type": "stream",
     "text": [
      "첫 번째 수를 입력하세요:  1\n",
      "두 번째 수를 입력하세요:  3\n"
     ]
    },
    {
     "name": "stdout",
     "output_type": "stream",
     "text": [
      "1와 3의 최소공배수 : 3\n"
     ]
    }
   ],
   "source": [
    "def computeMinGong(x, y):\n",
    "    if x > y :\n",
    "        big = x\n",
    "    else:\n",
    "        big = y\n",
    "\n",
    "    while(True):\n",
    "        if((big % x == 0) and (big % y == 0)):\n",
    "            result = big\n",
    "            break\n",
    "        big = big + 1\n",
    "\n",
    "    return result\n",
    "\n",
    "num1 = int(input(\"첫 번째 수를 입력하세요: \"))\n",
    "num2 = int(input(\"두 번째 수를 입력하세요: \"))\n",
    "\n",
    "min_gong = computeMinGong(num1, num2)\n",
    "\n",
    "print('%d와 %d의 최소공배수 : %d' % (num1, num2, min_gong))"
   ]
  },
  {
   "cell_type": "code",
   "execution_count": 27,
   "metadata": {},
   "outputs": [
    {
     "name": "stdout",
     "output_type": "stream",
     "text": [
      "※ 비밀번호는 10자리 이상, 영문 대문자를 포함하여야 합니다.\n"
     ]
    },
    {
     "name": "stdin",
     "output_type": "stream",
     "text": [
      "비밀번호 :  aaa\n",
      "비밀번호 확인:  bbb\n"
     ]
    },
    {
     "name": "stdout",
     "output_type": "stream",
     "text": [
      "비밀번호가 잘못되었습니다! 다시 입력해 주세요\n"
     ]
    },
    {
     "name": "stdin",
     "output_type": "stream",
     "text": [
      "비밀번호:  aaa\n",
      "비밀번호 확인 :  aaa\n"
     ]
    },
    {
     "name": "stdout",
     "output_type": "stream",
     "text": [
      "비밀번호가 잘못되었습니다! 다시 입력해 주세요\n"
     ]
    },
    {
     "name": "stdin",
     "output_type": "stream",
     "text": [
      "비밀번호:  12345678aa\n",
      "비밀번호 확인 :  12345678aa\n"
     ]
    },
    {
     "name": "stdout",
     "output_type": "stream",
     "text": [
      "비밀번호가 잘못되었습니다! 다시 입력해 주세요\n"
     ]
    },
    {
     "name": "stdin",
     "output_type": "stream",
     "text": [
      "비밀번호:  12345678AA\n",
      "비밀번호 확인 :  12345678AA\n"
     ]
    },
    {
     "name": "stdout",
     "output_type": "stream",
     "text": [
      "유효한 비밀번호입니다~~~\n"
     ]
    }
   ],
   "source": [
    "def isValid(p) : \n",
    "   if len(p) < 10 : \n",
    "      return False \n",
    "\n",
    "   is_num = False \n",
    "   is_upper = False \n",
    "\n",
    "   for ch in p : \n",
    "      if ch >= 'A' and ch <= 'Z' : \n",
    "         is_upper = True \n",
    "      if ch >= '0' and ch <= '9' : \n",
    "         is_num = True \n",
    "\n",
    "   return is_upper and is_num \n",
    "\n",
    "\n",
    "print('※ 비밀번호는 10자리 이상, 영문 대문자를 포함하여야 합니다.') \n",
    "\n",
    "password1 = input('비밀번호 : ') \n",
    "password2 = input('비밀번호 확인: ') \n",
    "\n",
    "while True :\n",
    "    if isValid(password1) and password1 == password2 :\n",
    "        break\n",
    "    else :\n",
    "        if not isValid(password1) :  \n",
    "            print('비밀번호가 잘못되었습니다! 다시 입력해 주세요')\n",
    "        else :  \n",
    "            print('비밀번호와 비밀번호 확인이 서로 다릅니다! 다시 입력해 주세요!')\n",
    "\n",
    "    password1 = input('비밀번호: ') \n",
    "    password2 = input('비밀번호 확인 : ') \n",
    "\n",
    "print('유효한 비밀번호입니다~~~')\n"
   ]
  },
  {
   "cell_type": "code",
   "execution_count": 22,
   "metadata": {},
   "outputs": [
    {
     "name": "stdout",
     "output_type": "stream",
     "text": [
      "[77, 36, 29, 11, 20, 6, 91, 33]\n",
      "정렬된 결과 : 6 11 20 29 33 36 77 91 "
     ]
    }
   ],
   "source": [
    "def bubbleSort(arr):\n",
    "    n = len(arr)\n",
    " \n",
    "    for i in range(n):\n",
    "        for j in range(0, n-i-1):\n",
    "            if arr[j] > arr[j+1] :\n",
    "                arr[j], arr[j+1] = arr[j+1], arr[j]\n",
    "                \n",
    "numbers = [77, 36, 29, 11, 20, 6, 91, 33]\n",
    "print (numbers)\n",
    "\n",
    "bubbleSort(numbers)\n",
    " \n",
    "print ('정렬된 결과 : ', end='')\n",
    "for i in range(len(numbers)):\n",
    "    print ('%d' % numbers[i], end=' ') "
   ]
  },
  {
   "cell_type": "code",
   "execution_count": 34,
   "metadata": {},
   "outputs": [
    {
     "name": "stdin",
     "output_type": "stream",
     "text": [
      "정수 입력>  0\n"
     ]
    },
    {
     "name": "stdout",
     "output_type": "stream",
     "text": [
      "0입니다.\n"
     ]
    }
   ],
   "source": [
    "number = int(input(\"정수 입력> \"))\n",
    "\n",
    "if number > 0:\n",
    "    print(\"양수입니다.\")\n",
    "    \n",
    "if number < 0:\n",
    "    print(\"음수입니다.\")\n",
    "    \n",
    "if number == 0:\n",
    "    print(\"0입니다.\")"
   ]
  },
  {
   "cell_type": "code",
   "execution_count": 35,
   "metadata": {},
   "outputs": [
    {
     "name": "stdout",
     "output_type": "stream",
     "text": [
      "2020-12-03 18:39:10.728009\n"
     ]
    }
   ],
   "source": [
    "import datetime\n",
    "\n",
    "now = datetime.datetime.now()\n",
    "\n",
    "print(now)"
   ]
  },
  {
   "cell_type": "code",
   "execution_count": 41,
   "metadata": {},
   "outputs": [
    {
     "name": "stdin",
     "output_type": "stream",
     "text": [
      "정수를 입력하세요.:  66\n"
     ]
    },
    {
     "name": "stdout",
     "output_type": "stream",
     "text": [
      "짝수입니다.\n"
     ]
    }
   ],
   "source": [
    "number = input(\"정수를 입력하세요.: \")\n",
    "number2 = number[-1]      #number에 숫자를 정수형으로 입력받고 그 문자의 끝자리만을 number2에 대입\n",
    "number3 = int(number2)    #number2는 문자형이기 때문에 정수형으로 바꿔주어야 정수와 비교 가능\n",
    "\n",
    "if number3 == 0 or number3 == 2 or number3 == 4 or number3 == 6 or number3 == 8:\n",
    "    print(\"짝수입니다.\")\n",
    "if number3 == 1 or number3 == 3 or number3 == 5 or number3 == 7 or number3 == 9:\\\n",
    "    print(\"홀수입니다.\")"
   ]
  },
  {
   "cell_type": "code",
   "execution_count": 44,
   "metadata": {},
   "outputs": [
    {
     "name": "stdin",
     "output_type": "stream",
     "text": [
      "정수를 입력하세요.:  56\n"
     ]
    },
    {
     "name": "stdout",
     "output_type": "stream",
     "text": [
      "6\n"
     ]
    },
    {
     "data": {
      "text/plain": [
       "str"
      ]
     },
     "execution_count": 44,
     "metadata": {},
     "output_type": "execute_result"
    }
   ],
   "source": [
    "number = input(\"정수를 입력하세요.: \")\n",
    "number2 = number[-1]\n",
    "print(number2)\n",
    "type(number2)"
   ]
  },
  {
   "cell_type": "code",
   "execution_count": 45,
   "metadata": {},
   "outputs": [
    {
     "name": "stdout",
     "output_type": "stream",
     "text": [
      "list_a * 3 =  [1, 2, 3, 1, 2, 3, 1, 2, 3]\n"
     ]
    }
   ],
   "source": [
    "list_a = [1,2,3]\n",
    "list_b = [4,5,6]\n",
    "\n",
    "print(\"list_a * 3 = \", list_a * 3)"
   ]
  },
  {
   "cell_type": "code",
   "execution_count": 46,
   "metadata": {},
   "outputs": [
    {
     "name": "stdout",
     "output_type": "stream",
     "text": [
      "3\n"
     ]
    }
   ],
   "source": [
    "print(len(list_a))"
   ]
  },
  {
   "cell_type": "code",
   "execution_count": 49,
   "metadata": {},
   "outputs": [
    {
     "name": "stdout",
     "output_type": "stream",
     "text": [
      "[1, 2, 3, 1, 2, 3, 1, 2, 3]\n",
      "9\n"
     ]
    }
   ],
   "source": [
    "list_a = list_a * 3\n",
    "print(list_a)\n",
    "print(len(list_a))"
   ]
  },
  {
   "cell_type": "code",
   "execution_count": 50,
   "metadata": {},
   "outputs": [
    {
     "name": "stdout",
     "output_type": "stream",
     "text": [
      "[1, 2, 3, 1, 2, 3, 1, 2, 3, 1, 2, 3, 1, 2, 3, 1, 2, 3, 1, 2, 3, 1, 2, 3, 1, 2, 3]\n",
      "[1, 2, 3, 1, 2, 3, 1, 2, 3]\n",
      "9\n"
     ]
    }
   ],
   "source": [
    "print(list_a * 3)\n",
    "print(list_a)\n",
    "print(len(list_a))"
   ]
  },
  {
   "cell_type": "code",
   "execution_count": 53,
   "metadata": {},
   "outputs": [
    {
     "name": "stdout",
     "output_type": "stream",
     "text": [
      "[[1, 4, 7], [2, 5, 8], [3, 6, 9]]\n"
     ]
    }
   ],
   "source": [
    "numbers=[1,2,3,4,5,6,7,8,9]\n",
    "output = [[],[],[]]\n",
    "\n",
    "for number in numbers:\n",
    "    output[(number+2)%3].append(number)\n",
    "    \n",
    "print(output)"
   ]
  }
 ],
 "metadata": {
  "kernelspec": {
   "display_name": "Python 3",
   "language": "python",
   "name": "python3"
  },
  "language_info": {
   "codemirror_mode": {
    "name": "ipython",
    "version": 3
   },
   "file_extension": ".py",
   "mimetype": "text/x-python",
   "name": "python",
   "nbconvert_exporter": "python",
   "pygments_lexer": "ipython3",
   "version": "3.6.12"
  }
 },
 "nbformat": 4,
 "nbformat_minor": 4
}
