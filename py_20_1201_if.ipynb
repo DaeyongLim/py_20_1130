{
 "cells": [
  {
   "cell_type": "code",
   "execution_count": null,
   "metadata": {},
   "outputs": [],
   "source": [
    "조건 : \n",
    "    \n",
    "    -True, False 판단!\n",
    "    -크냐, 작냐, 같으냐, ....\n",
    "      -조건/비교/관계 연산자:\n",
    "            -'<,>=,>,<=,==,!=' "
   ]
  },
  {
   "cell_type": "code",
   "execution_count": 3,
   "metadata": {},
   "outputs": [
    {
     "name": "stdout",
     "output_type": "stream",
     "text": [
      "a가 b보다 크다\n"
     ]
    }
   ],
   "source": [
    "a = 100\n",
    "b = 10\n",
    "\n",
    "if a > b :\n",
    "    print(\"a가 b보다 크다\")\n",
    "\n",
    "else :\n",
    "    print(\"a가 b보다 작다\")"
   ]
  },
  {
   "cell_type": "code",
   "execution_count": 4,
   "metadata": {},
   "outputs": [
    {
     "name": "stdout",
     "output_type": "stream",
     "text": [
      "숫자를 입력하세요: 5\n",
      "양수입니다!\n"
     ]
    }
   ],
   "source": [
    "x = int(input('숫자를 입력하세요: '))\n",
    "\n",
    "if x>0 :\n",
    "    print('양수입니다!')\n",
    "\n",
    "else :\n",
    "    print('0 또는 음수입니다!')"
   ]
  },
  {
   "cell_type": "code",
   "execution_count": 8,
   "metadata": {},
   "outputs": [
    {
     "name": "stdout",
     "output_type": "stream",
     "text": [
      "숫자를 입력하세요: 101\n",
      "양수입니다! 그리고 100보다 큽니다!\n"
     ]
    }
   ],
   "source": [
    "x = int(input('숫자를 입력하세요: '))\n",
    "\n",
    "if x>0 and x>100 :\n",
    "    print('양수입니다! 그리고 100보다 큽니다!')\n",
    "\n",
    "else :\n",
    "    print('0 또는 음수 또는 100보다 작은 양수입니다!')"
   ]
  },
  {
   "cell_type": "code",
   "execution_count": 10,
   "metadata": {},
   "outputs": [
    {
     "name": "stdout",
     "output_type": "stream",
     "text": [
      "나이를 입력하세요: 6\n",
      "입장료 : 무료\n"
     ]
    }
   ],
   "source": [
    "age = int(input('나이를 입력하세요: '))\n",
    "pay = '3000원'\n",
    "\n",
    "if age >= 65 or age < 7 :\n",
    "    pay = '무료'\n",
    "    \n",
    "print('입장료 : %s' %pay)"
   ]
  },
  {
   "cell_type": "code",
   "execution_count": 15,
   "metadata": {},
   "outputs": [
    {
     "name": "stdout",
     "output_type": "stream",
     "text": [
      "이름을 입력하세요: \n",
      "이름이 입력되지 않았다.\n"
     ]
    }
   ],
   "source": [
    "name = input('이름을 입력하세요: ')\n",
    "\n",
    "if not name :\n",
    "    print('이름이 입력되지 않았다.')\n",
    "\n",
    "else :\n",
    "    print('이름: %s' %name)"
   ]
  },
  {
   "cell_type": "code",
   "execution_count": 16,
   "metadata": {},
   "outputs": [
    {
     "name": "stdout",
     "output_type": "stream",
     "text": [
      "True\n"
     ]
    }
   ],
   "source": [
    "print(True) if 10 else print(False)"
   ]
  },
  {
   "cell_type": "code",
   "execution_count": 17,
   "metadata": {},
   "outputs": [
    {
     "name": "stdout",
     "output_type": "stream",
     "text": [
      "True\n"
     ]
    }
   ],
   "source": [
    "a=10\n",
    "print(True) if a==10 else print(False)"
   ]
  },
  {
   "cell_type": "code",
   "execution_count": 18,
   "metadata": {},
   "outputs": [
    {
     "name": "stdout",
     "output_type": "stream",
     "text": [
      "True\n"
     ]
    }
   ],
   "source": [
    "if a == 10:\n",
    "    print(True)\n",
    "\n",
    "else :\n",
    "    print(False)"
   ]
  },
  {
   "cell_type": "code",
   "execution_count": 22,
   "metadata": {},
   "outputs": [
    {
     "name": "stdout",
     "output_type": "stream",
     "text": [
      "점수를 입력하세요: 85\n",
      "성적: 85점\n",
      "등급: B\n"
     ]
    }
   ],
   "source": [
    "score = int(input('점수를 입력하세요: '))\n",
    "\n",
    "if score >= 90:\n",
    "    grade='A'\n",
    "\n",
    "elif score >= 80:\n",
    "    grade='B'\n",
    "    \n",
    "elif score >=70:\n",
    "    grade='C'\n",
    "    \n",
    "elif score >= 60:\n",
    "    grade='D'\n",
    "    \n",
    "else :\n",
    "    grade='F'\n",
    "    \n",
    "print('성적: %d점' %score)\n",
    "print('등급: %s' %grade)"
   ]
  },
  {
   "cell_type": "code",
   "execution_count": 27,
   "metadata": {},
   "outputs": [
    {
     "name": "stdout",
     "output_type": "stream",
     "text": [
      "좌석 종류를 입력(1:일반실, 2:특실): 1\n",
      "일반실입니다.\n"
     ]
    }
   ],
   "source": [
    "a = input('좌석 종류를 입력(1:일반실, 2:특실): ')\n",
    "\n",
    "seat1 = '일반실'\n",
    "seat2 = '특실'\n",
    "\n",
    "if a == '1':\n",
    "    print('%s입니다.' %seat1)\n",
    "    \n",
    "if a == '2':\n",
    "    pirnt('%s입니다. ' %seat2)"
   ]
  }
 ],
 "metadata": {
  "kernelspec": {
   "display_name": "Python 3",
   "language": "python",
   "name": "python3"
  },
  "language_info": {
   "codemirror_mode": {
    "name": "ipython",
    "version": 3
   },
   "file_extension": ".py",
   "mimetype": "text/x-python",
   "name": "python",
   "nbconvert_exporter": "python",
   "pygments_lexer": "ipython3",
   "version": "3.6.12"
  }
 },
 "nbformat": 4,
 "nbformat_minor": 4
}
