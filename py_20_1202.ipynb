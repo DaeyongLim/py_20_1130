{
 "cells": [
  {
   "cell_type": "markdown",
   "metadata": {},
   "source": [
    "\n",
    "# for <> in []:"
   ]
  },
  {
   "cell_type": "code",
   "execution_count": 4,
   "metadata": {},
   "outputs": [
    {
     "data": {
      "text/plain": [
       "range(0, 5)"
      ]
     },
     "execution_count": 4,
     "metadata": {},
     "output_type": "execute_result"
    }
   ],
   "source": [
    "range(5)    #내장함수, 시작-종료 범위 숫자를 발생! 0, 1, 2, 3, 4 의 범위 값을 가진다."
   ]
  },
  {
   "cell_type": "code",
   "execution_count": 5,
   "metadata": {},
   "outputs": [
    {
     "data": {
      "text/plain": [
       "range(0, 5)"
      ]
     },
     "execution_count": 5,
     "metadata": {},
     "output_type": "execute_result"
    }
   ],
   "source": [
    "r = range(5)\n",
    "r"
   ]
  },
  {
   "cell_type": "code",
   "execution_count": 7,
   "metadata": {},
   "outputs": [
    {
     "data": {
      "text/plain": [
       "range"
      ]
     },
     "execution_count": 7,
     "metadata": {},
     "output_type": "execute_result"
    }
   ],
   "source": [
    "type(r)"
   ]
  },
  {
   "cell_type": "code",
   "execution_count": 9,
   "metadata": {},
   "outputs": [
    {
     "data": {
      "text/plain": [
       "5"
      ]
     },
     "execution_count": 9,
     "metadata": {},
     "output_type": "execute_result"
    }
   ],
   "source": [
    "len(r)"
   ]
  },
  {
   "cell_type": "code",
   "execution_count": 10,
   "metadata": {},
   "outputs": [
    {
     "name": "stdout",
     "output_type": "stream",
     "text": [
      "0\n",
      "1\n",
      "2\n",
      "3\n",
      "4\n"
     ]
    }
   ],
   "source": [
    "for x in range(5):\n",
    "    print(x)                    #0, 1, ,2, 3, 4 의 범위 값을 가진다."
   ]
  },
  {
   "cell_type": "code",
   "execution_count": 11,
   "metadata": {},
   "outputs": [
    {
     "name": "stdout",
     "output_type": "stream",
     "text": [
      "0\n",
      "1\n",
      "2\n",
      "3\n",
      "4\n"
     ]
    }
   ],
   "source": [
    "for x in r:\n",
    "    print(x)"
   ]
  },
  {
   "cell_type": "code",
   "execution_count": 12,
   "metadata": {},
   "outputs": [
    {
     "name": "stdout",
     "output_type": "stream",
     "text": [
      "\n",
      "*\n",
      "**\n",
      "***\n",
      "****\n"
     ]
    }
   ],
   "source": [
    "for x in r:\n",
    "    print(x * '*')"
   ]
  },
  {
   "cell_type": "code",
   "execution_count": 13,
   "metadata": {},
   "outputs": [
    {
     "name": "stdout",
     "output_type": "stream",
     "text": [
      "**********\n",
      "**************\n",
      "******************\n",
      "**********************\n",
      "**************************\n",
      "******************************\n",
      "**********************************\n",
      "**************************************\n",
      "******************************************\n",
      "**********************************************\n",
      "**************************************************\n",
      "******************************************************\n",
      "**********************************************************\n",
      "**************************************************************\n",
      "******************************************************************\n",
      "**********************************************************************\n",
      "**************************************************************************\n",
      "******************************************************************************\n",
      "**********************************************************************************\n",
      "**************************************************************************************\n",
      "******************************************************************************************\n",
      "**********************************************************************************************\n",
      "**************************************************************************************************\n"
     ]
    }
   ],
   "source": [
    "for x in range(10,100,4):\n",
    "    print(x * '*')"
   ]
  },
  {
   "cell_type": "code",
   "execution_count": 15,
   "metadata": {},
   "outputs": [
    {
     "name": "stdout",
     "output_type": "stream",
     "text": [
      "+\n",
      "**\n",
      "+++\n",
      "****\n",
      "+++++\n",
      "******\n",
      "+++++++\n",
      "********\n",
      "+++++++++\n",
      "**********\n",
      "+++++++++++\n",
      "************\n",
      "+++++++++++++\n",
      "**************\n",
      "+++++++++++++++\n",
      "****************\n",
      "+++++++++++++++++\n",
      "******************\n",
      "+++++++++++++++++++\n"
     ]
    }
   ],
   "source": [
    "for x in range(1,20):\n",
    "    if x % 2 == 0:  #짝수\n",
    "        print(x * '*')\n",
    "    else:\n",
    "        print(x * '+')"
   ]
  },
  {
   "cell_type": "code",
   "execution_count": 16,
   "metadata": {},
   "outputs": [
    {
     "name": "stdout",
     "output_type": "stream",
     "text": [
      "A\n",
      "A\n",
      "A\n",
      "A\n",
      "A\n"
     ]
    }
   ],
   "source": [
    "x = 0\n",
    "while x<5:\n",
    "    print('A')\n",
    "    x +=1"
   ]
  },
  {
   "cell_type": "code",
   "execution_count": 17,
   "metadata": {},
   "outputs": [
    {
     "name": "stdout",
     "output_type": "stream",
     "text": [
      "A\n",
      "A\n",
      "A\n",
      "A\n",
      "A\n"
     ]
    }
   ],
   "source": [
    "for x in range(5):\n",
    "    print('A')\n",
    "    "
   ]
  },
  {
   "cell_type": "code",
   "execution_count": 5,
   "metadata": {},
   "outputs": [
    {
     "name": "stdout",
     "output_type": "stream",
     "text": [
      "A\n",
      "A\n",
      "A\n",
      "A\n",
      "A\n"
     ]
    }
   ],
   "source": [
    "x = 0\n",
    "while True:\n",
    "    print('A')\n",
    "    x += 1\n",
    "    #종료조건...\n",
    "    if x == 5:\n",
    "        break"
   ]
  },
  {
   "cell_type": "code",
   "execution_count": 26,
   "metadata": {},
   "outputs": [
    {
     "ename": "SyntaxError",
     "evalue": "invalid syntax (<ipython-input-26-5c16802b8d49>, line 8)",
     "output_type": "error",
     "traceback": [
      "\u001b[1;36m  File \u001b[1;32m\"<ipython-input-26-5c16802b8d49>\"\u001b[1;36m, line \u001b[1;32m8\u001b[0m\n\u001b[1;33m    elif score >= 90:\u001b[0m\n\u001b[1;37m       ^\u001b[0m\n\u001b[1;31mSyntaxError\u001b[0m\u001b[1;31m:\u001b[0m invalid syntax\n"
     ]
    }
   ],
   "source": [
    "while True:\n",
    "    score = int(input('점수를 입력하세요: '))\n",
    "    \n",
    "if score == -1: \n",
    "    print('Quit') \n",
    "break\n",
    "\n",
    "elif score >= 90:\n",
    "    grade='A'\n",
    "\n",
    "elif score >= 80:\n",
    "    grade='B'\n",
    "    \n",
    "elif score >=70:\n",
    "    grade='C'\n",
    "    \n",
    "elif score >= 60:\n",
    "    grade='D'\n",
    "\n",
    "else:\n",
    "    grade='F'\n",
    "    \n",
    "print('성적: %d점' %score)\n",
    "print('등급: %s' %grade)"
   ]
  },
  {
   "cell_type": "code",
   "execution_count": 28,
   "metadata": {},
   "outputs": [
    {
     "name": "stdout",
     "output_type": "stream",
     "text": [
      "끝 숫자를 입력: 30\n",
      "369121518212427303336394245485154576063666972757881848790939699\n",
      " --------------------------------------------------\n",
      "1~100에서 3의 배수의 합계: 1683\n"
     ]
    }
   ],
   "source": [
    "stop = int(input('끝 숫자를 입력: '))\n",
    "\n",
    "sum = 0\n",
    "for i in range(1, 101):\n",
    "    if i%3 == 0:\n",
    "        print('%d' %i, end= '')\n",
    "        sum += i\n",
    "        \n",
    "print('\\n', '-' * 50)\n",
    "print('1~100에서 3의 배수의 합계: %d' %sum)\n"
   ]
  },
  {
   "cell_type": "code",
   "execution_count": 5,
   "metadata": {},
   "outputs": [
    {
     "name": "stdout",
     "output_type": "stream",
     "text": [
      "끝 숫자를 입력: 30\n",
      "끝 숫자를 입력: 20\n",
      "끝 숫자를 입력: -1\n",
      "Quit...\n",
      "\n",
      " --------------------------------------------------\n",
      "1~stop에서 3의 배수의 합계 0\n"
     ]
    }
   ],
   "source": [
    "while True:\n",
    "    stop = int(input('끝 숫자를 입력: '))\n",
    "    if stop == -1:\n",
    "        print('Quit...') ;break\n",
    "\n",
    "sum = 0\n",
    "for i in range(1, stop):\n",
    "    if i%3 == 0:\n",
    "        print('%d' %i, end= '')\n",
    "        sum += i\n",
    "        \n",
    "print('\\n', '-' * 50)\n",
    "print('1~stop에서 3의 배수의 합계 %d' %sum)"
   ]
  },
  {
   "cell_type": "code",
   "execution_count": 9,
   "metadata": {},
   "outputs": [
    {
     "name": "stdout",
     "output_type": "stream",
     "text": [
      "끝 숫자를 입력: 1\n",
      "\n",
      " --------------------------------------------------\n",
      "1~1에서 3의 배수의 합계: 0\n"
     ]
    }
   ],
   "source": [
    "while True:\n",
    "    stop = int(input('끝 숫자를 입력: '))\n",
    "    if stop == -1:\n",
    "        print('Quit...')\n",
    "    break\n",
    "\n",
    "sum = 0\n",
    "for i in range(1, stop):\n",
    "    if i%3 == 0:\n",
    "        print('%d' %i, end= '')\n",
    "        sum += i\n",
    "        \n",
    "print('\\n', '-' * 50)\n",
    "print(f'1~{stop}에서 3의 배수의 합계: {sum}')"
   ]
  },
  {
   "cell_type": "code",
   "execution_count": 30,
   "metadata": {},
   "outputs": [
    {
     "data": {
      "text/plain": [
       "'안녕'"
      ]
     },
     "execution_count": 30,
     "metadata": {},
     "output_type": "execute_result"
    }
   ],
   "source": [
    "msg = '안녕하세요'\n",
    "msg[:2]"
   ]
  },
  {
   "cell_type": "code",
   "execution_count": 31,
   "metadata": {},
   "outputs": [
    {
     "name": "stdout",
     "output_type": "stream",
     "text": [
      "안\n",
      "녕\n",
      "하\n",
      "세\n",
      "요\n"
     ]
    }
   ],
   "source": [
    "for s in msg:\n",
    "    print(s)"
   ]
  },
  {
   "cell_type": "code",
   "execution_count": 33,
   "metadata": {},
   "outputs": [
    {
     "data": {
      "text/plain": [
       "'안녕'"
      ]
     },
     "execution_count": 33,
     "metadata": {},
     "output_type": "execute_result"
    }
   ],
   "source": [
    "msg[0:2]"
   ]
  },
  {
   "cell_type": "code",
   "execution_count": 41,
   "metadata": {},
   "outputs": [
    {
     "name": "stdout",
     "output_type": "stream",
     "text": [
      "------------------------------\n",
      "  섭씨   화씨\n",
      "------------------------------\n",
      "   -20   28.4\n",
      "   -15   29.3\n",
      "   -10   30.2\n",
      "    -5   31.1\n",
      "     0   32.0\n",
      "     5   32.9\n",
      "    10   33.8\n",
      "    15   34.7\n",
      "    20   35.6\n",
      "    25   36.5\n",
      "    30   37.4\n",
      "------------------------------\n"
     ]
    }
   ],
   "source": [
    "print('-'*30)\n",
    "print('  섭씨   화씨')\n",
    "print('-'*30)\n",
    "\n",
    "for c in range(-20,31,5):\n",
    "    f = c*0.9/5.0+32.0\n",
    "    print('%6d %6.1f' %(c,f))\n",
    "    \n",
    "print('-'*30)"
   ]
  },
  {
   "cell_type": "code",
   "execution_count": 42,
   "metadata": {},
   "outputs": [
    {
     "name": "stdout",
     "output_type": "stream",
     "text": [
      "시작 수를 입력하세요: 100\n",
      "끝 수를 입력하세요: 200\n",
      "--------------------------------------------------\n",
      "100에서 200까지 5의 배수가 아닌 수의 합계 : 12000\n"
     ]
    }
   ],
   "source": [
    "n1 = int(input('시작 수를 입력하세요: '))\n",
    "n2 = int(input('끝 수를 입력하세요: '))\n",
    "\n",
    "sum = 0\n",
    "for i in range(n1, n2+1):\n",
    "    if i%5 != 0:                     #5의 배수가 아닌 수의 합계\n",
    "        sum += i\n",
    "        \n",
    "print('-'*50)\n",
    "print('%d에서 %d까지 5의 배수가 아닌 수의 합계 : %d' %(n1,n2,sum))"
   ]
  },
  {
   "cell_type": "code",
   "execution_count": 46,
   "metadata": {},
   "outputs": [
    {
     "name": "stdout",
     "output_type": "stream",
     "text": [
      "시작 수를 입력하세요: 100\n",
      "끝 수를 입력하세요: 200\n",
      "--------------------------------------------------\n",
      "100에서 200까지 5의 배수의 합계 : 3150\n"
     ]
    }
   ],
   "source": [
    "n1 = int(input('시작 수를 입력하세요: '))\n",
    "n2 = int(input('끝 수를 입력하세요: '))\n",
    "\n",
    "sum = 0\n",
    "for i in range(n1, n2+1):\n",
    "    if i%5 == 0:                      \n",
    "        sum += i                  #5의 배수의 합계 \n",
    "        \n",
    "print('-'*50)\n",
    "print('%d에서 %d까지 5의 배수의 합계 : %d' %(n1,n2,sum))"
   ]
  },
  {
   "cell_type": "code",
   "execution_count": 47,
   "metadata": {},
   "outputs": [
    {
     "name": "stdout",
     "output_type": "stream",
     "text": [
      "시작 수를 입력하세요: 100\n",
      "끝 수를 입력하세요: 200\n",
      "--------------------------------------------------\n",
      "100에서 200까지 5의 배수의 합계 : 3150\n"
     ]
    }
   ],
   "source": [
    "n1 = int(input('시작 수를 입력하세요: '))\n",
    "n2 = int(input('끝 수를 입력하세요: '))\n",
    "\n",
    "sum = 0\n",
    "for i in range(n1, n2+1, 5):\n",
    "        sum += i                    #5의 배수의 합계\n",
    "        \n",
    "print('-'*50)\n",
    "print('%d에서 %d까지 5의 배수의 합계 : %d' %(n1,n2,sum))"
   ]
  },
  {
   "cell_type": "code",
   "execution_count": 51,
   "metadata": {},
   "outputs": [
    {
     "name": "stdout",
     "output_type": "stream",
     "text": [
      "하이픈(-)을 포함한 휴대폰 번호를 입력하세요: 010-4123123-4123213\n",
      "01041231234123213"
     ]
    }
   ],
   "source": [
    "number = input('하이픈(-)을 포함한 휴대폰 번호를 입력하세요: ')\n",
    "\n",
    "for x in number:\n",
    "    if x != '-':\n",
    "        print('%s' %x, end=\"\")"
   ]
  },
  {
   "cell_type": "code",
   "execution_count": 54,
   "metadata": {},
   "outputs": [
    {
     "name": "stdout",
     "output_type": "stream",
     "text": [
      "하이픈(-)을 포함한 휴대폰 번호를 입력하세요: 010-1234-5657y\n",
      "01012345657y"
     ]
    }
   ],
   "source": [
    "number = input('하이픈(-)을 포함한 휴대폰 번호를 입력하세요: ')\n",
    "\n",
    "for x in number:\n",
    "    if x != '-':\n",
    "        print(f'{x}', end=\"\")"
   ]
  },
  {
   "cell_type": "code",
   "execution_count": 53,
   "metadata": {},
   "outputs": [
    {
     "name": "stdout",
     "output_type": "stream",
     "text": [
      "하이픈(-)을 포함한 휴대폰 번호를 입력하세요: 010-1234-1555\n",
      "['010', '1234', '1555']\n",
      "01012341555\n"
     ]
    }
   ],
   "source": [
    "#split 메소드 이용방법\n",
    "\n",
    "number = input('하이픈(-)을 포함한 휴대폰 번호를 입력하세요: ')\n",
    "\n",
    "if not number:\n",
    "    print(\"전화번호를 입력해야 합니다.\")\n",
    "\n",
    "else:\n",
    "    print(number.split('-'))\n",
    "    print(\"\".join(number.split('-')))"
   ]
  },
  {
   "cell_type": "code",
   "execution_count": 63,
   "metadata": {},
   "outputs": [
    {
     "name": "stdout",
     "output_type": "stream",
     "text": [
      "하이픈을 뺀 11자리의 휴대폰 번호를 입력하세요: 01045671234\n",
      "010-4567-1234\n"
     ]
    }
   ],
   "source": [
    "phone = input('하이픈을 뺀 11자리의 휴대폰 번호를 입력하세요: ')\n",
    "\n",
    "number = '';\n",
    "for i in range(0, len(phone)):\n",
    "    \n",
    "    if i == 2:\n",
    "        number = number+(phone[2]+'-')\n",
    "    elif i == 6:\n",
    "        number = number+(phone[6]+'-')\n",
    "    else:\n",
    "        number = number+phone[i]\n",
    "        \n",
    "print(number)"
   ]
  },
  {
   "cell_type": "code",
   "execution_count": 60,
   "metadata": {},
   "outputs": [
    {
     "data": {
      "text/plain": [
       "'010-222-3333'"
      ]
     },
     "execution_count": 60,
     "metadata": {},
     "output_type": "execute_result"
    }
   ],
   "source": [
    "phone = \"010-222-3333\"\n",
    "phone[:3]+'-'+phone[4:7]+'-'+phone[8:len(phone)]"
   ]
  },
  {
   "cell_type": "code",
   "execution_count": 68,
   "metadata": {},
   "outputs": [
    {
     "name": "stdout",
     "output_type": "stream",
     "text": [
      "--------------------------------------------------\n",
      "2*1=2\n",
      "2*2=4\n",
      "2*3=6\n",
      "2*4=8\n",
      "2*5=10\n",
      "2*6=12\n",
      "2*7=14\n",
      "2*8=16\n",
      "2*9=18\n",
      "--------------------------------------------------\n",
      "3*1=3\n",
      "3*2=6\n",
      "3*3=9\n",
      "3*4=12\n",
      "3*5=15\n",
      "3*6=18\n",
      "3*7=21\n",
      "3*8=24\n",
      "3*9=27\n",
      "--------------------------------------------------\n",
      "4*1=4\n",
      "4*2=8\n",
      "4*3=12\n",
      "4*4=16\n",
      "4*5=20\n",
      "4*6=24\n",
      "4*7=28\n",
      "4*8=32\n",
      "4*9=36\n",
      "--------------------------------------------------\n",
      "5*1=5\n",
      "5*2=10\n",
      "5*3=15\n",
      "5*4=20\n",
      "5*5=25\n",
      "5*6=30\n",
      "5*7=35\n",
      "5*8=40\n",
      "5*9=45\n",
      "--------------------------------------------------\n",
      "6*1=6\n",
      "6*2=12\n",
      "6*3=18\n",
      "6*4=24\n",
      "6*5=30\n",
      "6*6=36\n",
      "6*7=42\n",
      "6*8=48\n",
      "6*9=54\n",
      "--------------------------------------------------\n",
      "7*1=7\n",
      "7*2=14\n",
      "7*3=21\n",
      "7*4=28\n",
      "7*5=35\n",
      "7*6=42\n",
      "7*7=49\n",
      "7*8=56\n",
      "7*9=63\n",
      "--------------------------------------------------\n",
      "8*1=8\n",
      "8*2=16\n",
      "8*3=24\n",
      "8*4=32\n",
      "8*5=40\n",
      "8*6=48\n",
      "8*7=56\n",
      "8*8=64\n",
      "8*9=72\n",
      "--------------------------------------------------\n",
      "9*1=9\n",
      "9*2=18\n",
      "9*3=27\n",
      "9*4=36\n",
      "9*5=45\n",
      "9*6=54\n",
      "9*7=63\n",
      "9*8=72\n",
      "9*9=81\n",
      "--------------------------------------------------\n"
     ]
    }
   ],
   "source": [
    "print('-'*50)\n",
    "\n",
    "for a in range(2,10):\n",
    "    for b in range(1,10):\n",
    "        c = a*b\n",
    "        print('%d*%d=%d' %(a,b,c))\n",
    "        \n",
    "    print('-'*50)"
   ]
  },
  {
   "cell_type": "code",
   "execution_count": 85,
   "metadata": {},
   "outputs": [
    {
     "name": "stdout",
     "output_type": "stream",
     "text": [
      "숫자를 입력해보세요: 3\n",
      "3*1=3\n",
      "3*2=6\n",
      "3*3=9\n",
      "3*4=12\n",
      "3*5=15\n",
      "3*6=18\n",
      "3*7=21\n",
      "3*8=24\n",
      "3*9=27\n"
     ]
    }
   ],
   "source": [
    "number=int(input('숫자를 입력해보세요: '))\n",
    "\n",
    "for a in range(number,10):\n",
    "    for b in range(1,10):\n",
    "        c = a*b\n",
    "        print('%d*%d=%d' %(a,b,c))\n",
    "            \n",
    "    if b == 9:\n",
    "        break\n",
    "                \n",
    "    print('-'*30)"
   ]
  },
  {
   "cell_type": "code",
   "execution_count": 86,
   "metadata": {},
   "outputs": [
    {
     "name": "stdout",
     "output_type": "stream",
     "text": [
      "*\n",
      "**\n",
      "***\n",
      "****\n",
      "*****\n",
      "******\n",
      "*******\n",
      "********\n",
      "*********\n",
      "**********\n"
     ]
    }
   ],
   "source": [
    "for i in range(1,11):\n",
    "    for j in range(1, i+1):\n",
    "        print('*', end='')\n",
    "    print()"
   ]
  },
  {
   "cell_type": "code",
   "execution_count": 89,
   "metadata": {},
   "outputs": [
    {
     "name": "stdout",
     "output_type": "stream",
     "text": [
      "*\n",
      "**\n",
      "***\n",
      "****\n",
      "*****\n",
      "******\n",
      "*******\n",
      "********\n",
      "*********\n",
      "**********\n"
     ]
    }
   ],
   "source": [
    "for i in range(1,11):\n",
    "    for j in range(1, 10-i+1):\n",
    "        print('', end='')\n",
    "    for k in range(1, i+1):\n",
    "        print('*', end='')\n",
    "    print()"
   ]
  },
  {
   "cell_type": "code",
   "execution_count": 100,
   "metadata": {},
   "outputs": [
    {
     "name": "stdout",
     "output_type": "stream",
     "text": [
      "------------------------------\n",
      "  섭씨   화씨\n",
      "------------------------------\n",
      "  -20  28.40\n",
      "  -19  28.58\n",
      "  -18  28.76\n",
      "  -17  28.94\n",
      "  -16  29.12\n",
      "  -15  29.30\n",
      "  -14  29.48\n",
      "  -13  29.66\n",
      "  -12  29.84\n",
      "  -11  30.02\n",
      "  -10  30.20\n",
      "   -9  30.38\n",
      "   -8  30.56\n",
      "   -7  30.74\n",
      "   -6  30.92\n",
      "   -5  31.10\n",
      "   -4  31.28\n",
      "   -3  31.46\n",
      "   -2  31.64\n",
      "   -1  31.82\n",
      "    0  32.00\n",
      "    1  32.18\n",
      "    2  32.36\n",
      "    3  32.54\n",
      "    4  32.72\n",
      "    5  32.90\n",
      "    6  33.08\n",
      "    7  33.26\n",
      "    8  33.44\n",
      "    9  33.62\n",
      "   10  33.80\n",
      "   11  33.98\n",
      "   12  34.16\n",
      "   13  34.34\n",
      "   14  34.52\n",
      "   15  34.70\n",
      "   16  34.88\n",
      "   17  35.06\n",
      "   18  35.24\n",
      "   19  35.42\n",
      "   20  35.60\n",
      "   21  35.78\n",
      "   22  35.96\n",
      "   23  36.14\n",
      "   24  36.32\n",
      "   25  36.50\n",
      "   26  36.68\n",
      "   27  36.86\n",
      "   28  37.04\n",
      "   29  37.22\n",
      "   30  37.40\n",
      "   31  37.58\n",
      "   32  37.76\n",
      "   33  37.94\n",
      "   34  38.12\n",
      "   35  38.30\n",
      "   36  38.48\n",
      "   37  38.66\n",
      "   38  38.84\n",
      "   39  39.02\n",
      "   40  39.20\n"
     ]
    }
   ],
   "source": [
    "print('-'*30)\n",
    "print('  섭씨   화씨')\n",
    "print('-'*30)\n",
    "\n",
    "\"\"\"\n",
    "for c in range(-20,31,5):\n",
    "    f = c*0.9/5.0+32.0\n",
    "    print('%6d %6.1f' %(c,f))\n",
    "\"\"\"\n",
    "\n",
    "c = -20\n",
    "while c < 41:\n",
    "    f = c*0.9/5.0+32.0\n",
    "    print('%5d %6.2f' %(c,f))\n",
    "    c += 1"
   ]
  },
  {
   "cell_type": "code",
   "execution_count": 114,
   "metadata": {},
   "outputs": [
    {
     "name": "stdout",
     "output_type": "stream",
     "text": [
      "**********\n",
      "**********\n",
      "**********\n",
      "**********\n",
      "**********\n"
     ]
    }
   ],
   "source": [
    "for i in range(5):\n",
    "\n",
    "    i = 10 * '*'\n",
    "    print(i)"
   ]
  },
  {
   "cell_type": "code",
   "execution_count": 124,
   "metadata": {},
   "outputs": [
    {
     "name": "stdout",
     "output_type": "stream",
     "text": [
      "**********\n",
      "**********\n",
      "**********\n",
      "**********\n",
      "**********\n"
     ]
    }
   ],
   "source": [
    "x = 0\n",
    "\n",
    "while True:\n",
    "    \n",
    "    print('**********')\n",
    "    x += 1\n",
    "    \n",
    "    if x == 5:\n",
    "        break"
   ]
  },
  {
   "cell_type": "code",
   "execution_count": null,
   "metadata": {},
   "outputs": [],
   "source": []
  }
 ],
 "metadata": {
  "kernelspec": {
   "display_name": "Python 3",
   "language": "python",
   "name": "python3"
  },
  "language_info": {
   "codemirror_mode": {
    "name": "ipython",
    "version": 3
   },
   "file_extension": ".py",
   "mimetype": "text/x-python",
   "name": "python",
   "nbconvert_exporter": "python",
   "pygments_lexer": "ipython3",
   "version": "3.6.12"
  }
 },
 "nbformat": 4,
 "nbformat_minor": 4
}
